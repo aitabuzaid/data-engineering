{
 "cells": [
  {
   "cell_type": "code",
   "execution_count": 1,
   "metadata": {
    "editable": true
   },
   "outputs": [],
   "source": [
    "import configparser\n",
    "from datetime import datetime\n",
    "import os\n",
    "from pyspark.sql import SparkSession\n",
    "from pyspark.sql.functions import udf, col\n",
    "from pyspark.sql.functions import year, month, dayofmonth, hour, weekofyear, date_format\n",
    "from pyspark.sql.types import IntegerType\n",
    "from zipfile import ZipFile\n",
    "\n",
    "config = configparser.ConfigParser()\n",
    "config.read('dl.cfg')\n",
    "\n",
    "os.environ['AWS_ACCESS_KEY_ID']=config.get('AWS','AWS_ACCESS_KEY_ID')\n",
    "os.environ['AWS_SECRET_ACCESS_KEY']=config.get('AWS','AWS_SECRET_ACCESS_KEY')"
   ]
  },
  {
   "cell_type": "code",
   "execution_count": 2,
   "metadata": {
    "editable": true
   },
   "outputs": [],
   "source": [
    "spark = SparkSession \\\n",
    "        .builder \\\n",
    "        .config(\"spark.jars.packages\", \"org.apache.hadoop:hadoop-aws:2.7.0\") \\\n",
    "        .getOrCreate()"
   ]
  },
  {
   "cell_type": "code",
   "execution_count": 3,
   "metadata": {
    "editable": true
   },
   "outputs": [],
   "source": [
    "#with ZipFile('data/log-data.zip') as zipObj:\n",
    "#    zipObj.extractall('data/log-data')\n",
    "#with ZipFile('data/song-data.zip') as zipObj:\n",
    "#    zipObj.extractall('data/song-data')"
   ]
  },
  {
   "cell_type": "code",
   "execution_count": 3,
   "metadata": {
    "editable": true
   },
   "outputs": [],
   "source": [
    "log_data = spark.read.json('data/log-data/')"
   ]
  },
  {
   "cell_type": "code",
   "execution_count": 4,
   "metadata": {
    "editable": true
   },
   "outputs": [
    {
     "data": {
      "text/plain": [
       "8056"
      ]
     },
     "execution_count": 4,
     "metadata": {},
     "output_type": "execute_result"
    }
   ],
   "source": [
    "log_data.count()"
   ]
  },
  {
   "cell_type": "code",
   "execution_count": 5,
   "metadata": {
    "editable": true
   },
   "outputs": [
    {
     "name": "stdout",
     "output_type": "stream",
     "text": [
      "+-----------+---------+---------+------+-------------+--------+---------+-----+--------------------+------+--------+-----------------+---------+---------------+------+-------------+--------------------+------+\n",
      "|     artist|     auth|firstName|gender|itemInSession|lastName|   length|level|            location|method|    page|     registration|sessionId|           song|status|           ts|           userAgent|userId|\n",
      "+-----------+---------+---------+------+-------------+--------+---------+-----+--------------------+------+--------+-----------------+---------+---------------+------+-------------+--------------------+------+\n",
      "|   Harmonia|Logged In|     Ryan|     M|            0|   Smith|655.77751| free|San Jose-Sunnyval...|   PUT|NextSong|1.541016707796E12|      583|  Sehr kosmisch|   200|1542241826796|\"Mozilla/5.0 (X11...|    26|\n",
      "|The Prodigy|Logged In|     Ryan|     M|            1|   Smith|260.07465| free|San Jose-Sunnyval...|   PUT|NextSong|1.541016707796E12|      583|The Big Gundown|   200|1542242481796|\"Mozilla/5.0 (X11...|    26|\n",
      "|      Train|Logged In|     Ryan|     M|            2|   Smith|205.45261| free|San Jose-Sunnyval...|   PUT|NextSong|1.541016707796E12|      583|       Marry Me|   200|1542242741796|\"Mozilla/5.0 (X11...|    26|\n",
      "|       null|Logged In|    Wyatt|     M|            0|   Scott|     null| free|Eureka-Arcata-For...|   GET|    Home|1.540872073796E12|      563|           null|   200|1542247071796|Mozilla/5.0 (Wind...|     9|\n",
      "|       null|Logged In|   Austin|     M|            0| Rosales|     null| free|New York-Newark-J...|   GET|    Home|1.541059521796E12|      521|           null|   200|1542252577796|Mozilla/5.0 (Wind...|    12|\n",
      "+-----------+---------+---------+------+-------------+--------+---------+-----+--------------------+------+--------+-----------------+---------+---------------+------+-------------+--------------------+------+\n",
      "only showing top 5 rows\n",
      "\n"
     ]
    }
   ],
   "source": [
    "log_data.show(5)"
   ]
  },
  {
   "cell_type": "code",
   "execution_count": 6,
   "metadata": {
    "editable": true
   },
   "outputs": [
    {
     "name": "stdout",
     "output_type": "stream",
     "text": [
      "root\n",
      " |-- artist: string (nullable = true)\n",
      " |-- auth: string (nullable = true)\n",
      " |-- firstName: string (nullable = true)\n",
      " |-- gender: string (nullable = true)\n",
      " |-- itemInSession: long (nullable = true)\n",
      " |-- lastName: string (nullable = true)\n",
      " |-- length: double (nullable = true)\n",
      " |-- level: string (nullable = true)\n",
      " |-- location: string (nullable = true)\n",
      " |-- method: string (nullable = true)\n",
      " |-- page: string (nullable = true)\n",
      " |-- registration: double (nullable = true)\n",
      " |-- sessionId: long (nullable = true)\n",
      " |-- song: string (nullable = true)\n",
      " |-- status: long (nullable = true)\n",
      " |-- ts: long (nullable = true)\n",
      " |-- userAgent: string (nullable = true)\n",
      " |-- userId: string (nullable = true)\n",
      "\n"
     ]
    }
   ],
   "source": [
    "log_data.printSchema()"
   ]
  },
  {
   "cell_type": "code",
   "execution_count": 11,
   "metadata": {
    "editable": true
   },
   "outputs": [
    {
     "name": "stdout",
     "output_type": "stream",
     "text": [
      "+-------+------------------+----------+---------+------+------------------+--------+------------------+-----+--------------------+------+-------+--------------------+------------------+--------------------+------------------+--------------------+--------------------+-----------------+\n",
      "|summary|            artist|      auth|firstName|gender|     itemInSession|lastName|            length|level|            location|method|   page|        registration|         sessionId|                song|            status|                  ts|           userAgent|           userId|\n",
      "+-------+------------------+----------+---------+------+------------------+--------+------------------+-----+--------------------+------+-------+--------------------+------------------+--------------------+------------------+--------------------+--------------------+-----------------+\n",
      "|  count|              6820|      8056|     7770|  7770|              8056|    7770|              6820| 8056|                7770|  8056|   8056|                7770|              8056|                6820|              8056|                8056|                7770|             8056|\n",
      "|   mean|             266.5|      null|     null|  null| 21.19885799404171|    null| 247.0322209134893| null|                null|  null|   null|1.540777905900890...| 598.1675769612712|  1388.3636363636363|  202.897591857001|1.542486261744982...|                null|54.46396396396396|\n",
      "| stddev|109.00229355385143|      null|     null|  null|23.440698529423297|    null|102.97592081740878| null|                null|  null|   null|2.6515717661158764E8|285.31309422188036|  2347.5150807919113|17.994255629646275| 7.003166302063146E8|                null|28.16850353343071|\n",
      "|    min|               !!!| Logged In|   Adelyn|     F|                 0|Arellano|          15.85587| free|Atlanta-Sandy Spr...|   GET|  About|   1.539908999796E12|                 3| I Will Not Reap ...|               200|       1541105830796|\"Mozilla/5.0 (Mac...|                 |\n",
      "|    max|   ÃÂtienne Daho|Logged Out|  Zachary|     M|               127|   Young|        2594.87302| paid|       Yuba City, CA|   PUT|Upgrade|   1.541098488796E12|              1114|ÃÂ Aqui Que Se ...|               404|       1543607664796|Mozilla/5.0 (comp...|               99|\n",
      "+-------+------------------+----------+---------+------+------------------+--------+------------------+-----+--------------------+------+-------+--------------------+------------------+--------------------+------------------+--------------------+--------------------+-----------------+\n",
      "\n"
     ]
    }
   ],
   "source": [
    "log_data.describe().show()"
   ]
  },
  {
   "cell_type": "code",
   "execution_count": 4,
   "metadata": {
    "editable": true
   },
   "outputs": [],
   "source": [
    "song_data = spark.read.json('data/song-data/song_data/*/*/*')"
   ]
  },
  {
   "cell_type": "code",
   "execution_count": 8,
   "metadata": {
    "editable": true
   },
   "outputs": [
    {
     "data": {
      "text/plain": [
       "71"
      ]
     },
     "execution_count": 8,
     "metadata": {},
     "output_type": "execute_result"
    }
   ],
   "source": [
    "song_data.count()"
   ]
  },
  {
   "cell_type": "code",
   "execution_count": 9,
   "metadata": {
    "editable": true
   },
   "outputs": [
    {
     "name": "stdout",
     "output_type": "stream",
     "text": [
      "root\n",
      " |-- artist_id: string (nullable = true)\n",
      " |-- artist_latitude: double (nullable = true)\n",
      " |-- artist_location: string (nullable = true)\n",
      " |-- artist_longitude: double (nullable = true)\n",
      " |-- artist_name: string (nullable = true)\n",
      " |-- duration: double (nullable = true)\n",
      " |-- num_songs: long (nullable = true)\n",
      " |-- song_id: string (nullable = true)\n",
      " |-- title: string (nullable = true)\n",
      " |-- year: long (nullable = true)\n",
      "\n"
     ]
    }
   ],
   "source": [
    "song_data.printSchema()"
   ]
  },
  {
   "cell_type": "code",
   "execution_count": 10,
   "metadata": {
    "editable": true
   },
   "outputs": [
    {
     "name": "stdout",
     "output_type": "stream",
     "text": [
      "+------------------+---------------+--------------------+----------------+--------------------+---------+---------+------------------+--------------------+----+\n",
      "|         artist_id|artist_latitude|     artist_location|artist_longitude|         artist_name| duration|num_songs|           song_id|               title|year|\n",
      "+------------------+---------------+--------------------+----------------+--------------------+---------+---------+------------------+--------------------+----+\n",
      "|ARDR4AC1187FB371A1|           null|                    |            null|Montserrat Caball...|511.16363|        1|SOBAYLL12A8C138AF9|Sono andati? Fing...|   0|\n",
      "|AREBBGV1187FB523D2|           null|         Houston, TX|            null|Mike Jones (Featu...|173.66159|        1|SOOLYAZ12A6701F4A6|Laws Patrolling (...|   0|\n",
      "|ARMAC4T1187FB3FA4C|       40.82624|   Morris Plains, NJ|       -74.47995|The Dillinger Esc...|207.77751|        1|SOBBUGU12A8C13E95D|Setting Fire to S...|2004|\n",
      "|ARPBNLO1187FB3D52F|       40.71455|        New York, NY|       -74.00712|            Tiny Tim| 43.36281|        1|SOAOIBZ12AB01815BE|I Hold Your Hand ...|2000|\n",
      "|ARNF6401187FB57032|       40.79086|New York, NY [Man...|       -73.96644|   Sophie B. Hawkins|  305.162|        1|SONWXQJ12A8C134D94|The Ballad Of Sle...|1994|\n",
      "+------------------+---------------+--------------------+----------------+--------------------+---------+---------+------------------+--------------------+----+\n",
      "only showing top 5 rows\n",
      "\n"
     ]
    }
   ],
   "source": [
    "song_data.show(5)"
   ]
  },
  {
   "cell_type": "code",
   "execution_count": 5,
   "metadata": {
    "editable": true
   },
   "outputs": [],
   "source": [
    "songs_table = song_data.select([\"song_id\",\n",
    "                                \"title\",\n",
    "                                \"artist_id\",\n",
    "                                \"year\",\n",
    "                                \"duration\"])"
   ]
  },
  {
   "cell_type": "code",
   "execution_count": 7,
   "metadata": {
    "editable": true
   },
   "outputs": [
    {
     "name": "stdout",
     "output_type": "stream",
     "text": [
      "+------------------+--------------------+------------------+----+---------+\n",
      "|           song_id|               title|         artist_id|year| duration|\n",
      "+------------------+--------------------+------------------+----+---------+\n",
      "|SOBAYLL12A8C138AF9|Sono andati? Fing...|ARDR4AC1187FB371A1|   0|511.16363|\n",
      "|SOOLYAZ12A6701F4A6|Laws Patrolling (...|AREBBGV1187FB523D2|   0|173.66159|\n",
      "|SOBBUGU12A8C13E95D|Setting Fire to S...|ARMAC4T1187FB3FA4C|2004|207.77751|\n",
      "|SOAOIBZ12AB01815BE|I Hold Your Hand ...|ARPBNLO1187FB3D52F|2000| 43.36281|\n",
      "|SONWXQJ12A8C134D94|The Ballad Of Sle...|ARNF6401187FB57032|1994|  305.162|\n",
      "+------------------+--------------------+------------------+----+---------+\n",
      "only showing top 5 rows\n",
      "\n"
     ]
    }
   ],
   "source": [
    "songs_table.show(5)"
   ]
  },
  {
   "cell_type": "code",
   "execution_count": 9,
   "metadata": {
    "editable": true
   },
   "outputs": [
    {
     "name": "stdout",
     "output_type": "stream",
     "text": [
      "+-------+------------------+--------------------+------------------+-----------------+------------------+\n",
      "|summary|           song_id|               title|         artist_id|             year|          duration|\n",
      "+-------+------------------+--------------------+------------------+-----------------+------------------+\n",
      "|  count|                71|                  71|                71|               71|                71|\n",
      "|   mean|              null|                null|              null|785.9577464788732|239.72967605633804|\n",
      "| stddev|              null|                null|              null|980.9571191533839|106.56277912134071|\n",
      "|    min|SOAOIBZ12AB01815BE|A Higher Place (A...|AR051KA1187B98B2FF|                0|          29.54404|\n",
      "|    max|SOZVMJI12AB01808AF|   ¿Dónde va Chichi?|ARYKCQI1187FB3B18F|             2008|         599.24853|\n",
      "+-------+------------------+--------------------+------------------+-----------------+------------------+\n",
      "\n"
     ]
    }
   ],
   "source": [
    "songs_table.describe().show()"
   ]
  },
  {
   "cell_type": "code",
   "execution_count": 6,
   "metadata": {
    "editable": true
   },
   "outputs": [],
   "source": [
    "artist_table = song_data.selectExpr([\"artist_id\",\n",
    "                                     \"artist_name AS name\",\n",
    "                                     \"artist_location AS location\",\n",
    "                                     \"artist_latitude AS latitude\",\n",
    "                                     \"artist_longitude AS longitude\"]).dropDuplicates()"
   ]
  },
  {
   "cell_type": "code",
   "execution_count": 35,
   "metadata": {
    "editable": true
   },
   "outputs": [
    {
     "name": "stdout",
     "output_type": "stream",
     "text": [
      "+------------------+--------------------+--------------------+--------+---------+\n",
      "|         artist_id|                name|            location|latitude|longitude|\n",
      "+------------------+--------------------+--------------------+--------+---------+\n",
      "|AR051KA1187B98B2FF|               Wilks|                    |    null|     null|\n",
      "|AR0IAWL1187B9A96D0|        Danilo Perez|              Panama|  8.4177|-80.11278|\n",
      "|AR0RCMP1187FB3F427|    Billie Jo Spears|        Beaumont, TX|30.08615|-94.10158|\n",
      "|AR10USD1187B99F3F1|Tweeterfriendly M...|Burlington, Ontar...|    null|     null|\n",
      "|AR1Y2PT1187FB5B9CE|         John Wesley|             Brandon|27.94017|-82.32547|\n",
      "+------------------+--------------------+--------------------+--------+---------+\n",
      "only showing top 5 rows\n",
      "\n"
     ]
    }
   ],
   "source": [
    "artist_table.orderBy(\"artist_id\").show(5)"
   ]
  },
  {
   "cell_type": "code",
   "execution_count": 29,
   "metadata": {
    "editable": true
   },
   "outputs": [
    {
     "name": "stdout",
     "output_type": "stream",
     "text": [
      "+-------+------------------+---------+--------------+------------------+------------------+\n",
      "|summary|         artist_id|     name|      location|          latitude|         longitude|\n",
      "+-------+------------------+---------+--------------+------------------+------------------+\n",
      "|  count|                69|       69|            69|                31|                31|\n",
      "|   mean|              null|     null|          null| 36.55297161290323|-73.25123258064515|\n",
      "| stddev|              null|     null|          null|12.431023413063542| 36.05807592882608|\n",
      "|    min|AR051KA1187B98B2FF|  40 Grit|              |           -13.442|        -122.42005|\n",
      "|    max|ARYKCQI1187FB3B18F|lextrical|Zagreb Croatia|          56.27609|           15.9676|\n",
      "+-------+------------------+---------+--------------+------------------+------------------+\n",
      "\n"
     ]
    }
   ],
   "source": [
    "artist_table.describe().show()"
   ]
  },
  {
   "cell_type": "code",
   "execution_count": 41,
   "metadata": {
    "editable": true
   },
   "outputs": [],
   "source": [
    "songs_table.write.partitionBy(['year', 'artist_id']).parquet('song/song.parquet')"
   ]
  },
  {
   "cell_type": "code",
   "execution_count": 42,
   "metadata": {
    "editable": true
   },
   "outputs": [],
   "source": [
    "artist_table.write.parquet('artist/artist.parquet')"
   ]
  },
  {
   "cell_type": "code",
   "execution_count": 48,
   "metadata": {
    "editable": true
   },
   "outputs": [],
   "source": [
    "#spark.read.parquet('song/song.parquet').show(70)"
   ]
  },
  {
   "cell_type": "code",
   "execution_count": 6,
   "metadata": {
    "editable": true
   },
   "outputs": [
    {
     "name": "stdout",
     "output_type": "stream",
     "text": [
      "root\n",
      " |-- artist: string (nullable = true)\n",
      " |-- auth: string (nullable = true)\n",
      " |-- firstName: string (nullable = true)\n",
      " |-- gender: string (nullable = true)\n",
      " |-- itemInSession: long (nullable = true)\n",
      " |-- lastName: string (nullable = true)\n",
      " |-- length: double (nullable = true)\n",
      " |-- level: string (nullable = true)\n",
      " |-- location: string (nullable = true)\n",
      " |-- method: string (nullable = true)\n",
      " |-- page: string (nullable = true)\n",
      " |-- registration: double (nullable = true)\n",
      " |-- sessionId: long (nullable = true)\n",
      " |-- song: string (nullable = true)\n",
      " |-- status: long (nullable = true)\n",
      " |-- ts: long (nullable = true)\n",
      " |-- userAgent: string (nullable = true)\n",
      " |-- userId: string (nullable = true)\n",
      "\n"
     ]
    }
   ],
   "source": [
    "log_data.printSchema()"
   ]
  },
  {
   "cell_type": "code",
   "execution_count": 13,
   "metadata": {
    "editable": true
   },
   "outputs": [
    {
     "name": "stdout",
     "output_type": "stream",
     "text": [
      "+-------------------+---------+----------+------+-------------+--------+---------+-----+--------------------+------+---------+-----------------+---------+--------------------+------+-------------+--------------------+------+\n",
      "|             artist|     auth| firstName|gender|itemInSession|lastName|   length|level|            location|method|     page|     registration|sessionId|                song|status|           ts|           userAgent|userId|\n",
      "+-------------------+---------+----------+------+-------------+--------+---------+-----+--------------------+------+---------+-----------------+---------+--------------------+------+-------------+--------------------+------+\n",
      "|  Dislocation Dance|Logged In|      Maia|     F|            0|   Burke|122.87955| free|Houston-The Woodl...|   PUT| NextSong|1.540676534796E12|      628|With A Smile On Y...|   200|1542673957796|\"Mozilla/5.0 (Win...|    51|\n",
      "|               null|Logged In|    Adelyn|     F|            4|  Jordan|     null| free|Chicago-Napervill...|   GET|     Home|1.540130971796E12|      458|                null|   200|1542592516796|\"Mozilla/5.0 (Mac...|     7|\n",
      "|               null|Logged In|      Lily|     F|           24|    Koch|     null| paid|Chicago-Napervill...|   PUT|   Logout|1.541048010796E12|      834|                null|   307|1543234289796|\"Mozilla/5.0 (X11...|    15|\n",
      "|         Kim Carnes|Logged In|     Kaleb|     M|            4|    Cook|217.28608| free|       Yuba City, CA|   PUT| NextSong|1.540679673796E12|      951|Crazy In The Nigh...|   200|1543459210796|Mozilla/5.0 (Wind...|    54|\n",
      "|               null|Logged In|    Jayden|     M|            0|     Fox|     null| free|New Orleans-Metai...|   GET|     Home|1.541033612796E12|     1108|                null|   200|1543594901796|\"Mozilla/5.0 (Win...|   101|\n",
      "|            Shakira|Logged In| Christian|     F|            0|  Porter|193.82812| free|  Elkhart-Goshen, IN|   PUT| NextSong|1.540897318796E12|      366|          Inevitable|   200|1543103174796|\"Mozilla/5.0 (Mac...|    11|\n",
      "|               null|Logged In|Jacqueline|     F|           13|   Lynch|     null| paid|Atlanta-Sandy Spr...|   GET|Downgrade|1.540223723796E12|      963|                null|   200|1543423965796|\"Mozilla/5.0 (Mac...|    29|\n",
      "|               null|Logged In|  Anabelle|     F|            0| Simpson|     null| free|Philadelphia-Camd...|   GET|     Home|1.541044398796E12|     1022|                null|   200|1543557623796|\"Mozilla/5.0 (Mac...|    69|\n",
      "|          Sepultura|Logged In|    Harper|     M|           10| Barrett|199.23546| paid|New York-Newark-J...|   PUT| NextSong|1.540685364796E12|      747|Refuse/Resist (Ex...|   200|1542714436796|\"Mozilla/5.0 (Win...|    42|\n",
      "|               null|Logged In|     Jacob|     M|           18|   Klein|     null| paid|Tampa-St. Petersb...|   PUT|   Logout|1.540558108796E12|     1049|                null|   307|1543544360796|\"Mozilla/5.0 (Mac...|    73|\n",
      "|My Chemical Romance|Logged In|    Dustin|     M|            7|     Lee|311.11791| free|Myrtle Beach-Conw...|   PUT| NextSong|1.540853279796E12|       86|Welcome To The Bl...|   200|1543026602796|Mozilla/5.0 (Wind...|    87|\n",
      "|            Journey|Logged In|    Hannah|     F|            0| Calhoun|244.06159| free|Los Angeles-Long ...|   PUT| NextSong|1.540583221796E12|      410|        Loved By You|   200|1542744929796|\"Mozilla/5.0 (iPh...|    64|\n",
      "|          The Rakes|Logged In|     Isaac|     M|            2|  Valdez|150.59546| free|         Saginaw, MI|   PUT| NextSong|1.541078099796E12|      112|          Strasbourg|   200|1541191397796|Mozilla/5.0 (Wind...|     3|\n",
      "|               null|Logged In|     Avery|     F|           21| Watkins|     null| paid|San Jose-Sunnyval...|   GET|Downgrade|1.540871783796E12|      884|                null|   200|1543558710796|Mozilla/5.0 (Wind...|    30|\n",
      "|               null|Logged In|    Evelin|     F|            0|   Ayala|     null| free|Milwaukee-Waukesh...|   GET|     Home|1.541007976796E12|      971|                null|   200|1543414573796|Mozilla/5.0 (Maci...|    34|\n",
      "|       blessthefall|Logged In|      Lily|     F|            7|  Cooper|166.45179| free|        Columbia, SC|   PUT| NextSong|1.541058203796E12|       58|Higinia (Album Ve...|   200|1542175258796|\"Mozilla/5.0 (Win...|    59|\n",
      "|               null|Logged In|    Kaylee|     F|            2| Summers|     null| free|Phoenix-Mesa-Scot...|   GET|     Home|1.540344794796E12|      972|                null|   200|1543576912796|\"Mozilla/5.0 (Win...|     8|\n",
      "|         King Stitt|Logged In|      Sean|     F|            1|  Wilson|176.27383| free|Philadelphia-Camd...|   PUT| NextSong|1.540369554796E12|       21|The Ugly One (AKA...|   200|1543529618796|\"Mozilla/5.0 (Win...|    22|\n",
      "|        Linkin Park|Logged In|  Brantley|     M|            1|    West|208.95302| free|Portland-Vancouve...|   PUT| NextSong|1.541056614796E12|      270|Crawling (Album V...|   200|1543344778796|Mozilla/5.0 (Wind...|    28|\n",
      "|          Sugababes|Logged In|   Kinsley|     F|           33|   Young|275.93098| paid|       Red Bluff, CA|   PUT| NextSong|1.540465241796E12|      977|            Overload|   200|1543592227796|\"Mozilla/5.0 (Mac...|    85|\n",
      "+-------------------+---------+----------+------+-------------+--------+---------+-----+--------------------+------+---------+-----------------+---------+--------------------+------+-------------+--------------------+------+\n",
      "only showing top 20 rows\n",
      "\n"
     ]
    }
   ],
   "source": [
    "log_data.orderBy(['ts'], ascending = False).dropDuplicates(subset=['userId']).show()"
   ]
  },
  {
   "cell_type": "code",
   "execution_count": 29,
   "metadata": {
    "editable": true
   },
   "outputs": [],
   "source": [
    "users_table = log_datalog_data.orderBy(['ts'], ascending = False)\\\n",
    "                              .selectExpr([\"userId as user_id\",\n",
    "                                           \"firstName AS first_name\",\n",
    "                                           \"lastName AS last_name\",\n",
    "                                           \"gender\",\n",
    "                                           \"level\",\n",
    "                                           \"ts\"])\\\n",
    "                              .dropDuplicates(subset=['userId'])\\\n",
    "\n",
    "\n",
    "                                  \n",
    "users_table = users_table.filter((users_table.user_id.isNotNull()) \n",
    "                                 & (users_table.user_id != ''))\\\n",
    "                         .withColumn(\"user_id\", users_table.user_id.cast(IntegerType()))"
   ]
  },
  {
   "cell_type": "code",
   "execution_count": 45,
   "metadata": {
    "editable": true
   },
   "outputs": [
    {
     "name": "stdout",
     "output_type": "stream",
     "text": [
      "+-------+----------+---------+------+-----+\n",
      "|user_id|first_name|last_name|gender|level|\n",
      "+-------+----------+---------+------+-----+\n",
      "|      2|   Jizelle| Benjamin|     F| free|\n",
      "|      3|     Isaac|   Valdez|     M| free|\n",
      "|      4|    Alivia|  Terrell|     F| free|\n",
      "|      5|    Elijah|    Davis|     M| free|\n",
      "|      6|   Cecilia|    Owens|     F| free|\n",
      "|      7|    Adelyn|   Jordan|     F| free|\n",
      "|      8|    Kaylee|  Summers|     F| free|\n",
      "|      9|     Wyatt|    Scott|     M| free|\n",
      "|     10|    Sylvie|     Cruz|     F| free|\n",
      "|     11| Christian|   Porter|     F| free|\n",
      "|     12|    Austin|  Rosales|     M| free|\n",
      "|     13|       Ava| Robinson|     F| free|\n",
      "|     14|  Theodore|   Harris|     M| free|\n",
      "|     15|      Lily|     Koch|     F| paid|\n",
      "|     16|     Rylan|   George|     M| paid|\n",
      "|     17|  Makinley|    Jones|     F| free|\n",
      "|     18|     Jacob|   Rogers|     M| free|\n",
      "|     19|   Zachary|   Thomas|     M| free|\n",
      "|     20|     Aiden|  Ramirez|     M| paid|\n",
      "|     21|   Preston|  Sanders|     M| free|\n",
      "+-------+----------+---------+------+-----+\n",
      "only showing top 20 rows\n",
      "\n"
     ]
    }
   ],
   "source": [
    "users_table = log_data.filter((col('userId').isNotNull()) \n",
    "                            & (col('userId') != ''))\\\n",
    "                      .orderBy(['ts'], ascending = False)\\\n",
    "                      .selectExpr([\"userId as user_id\",\n",
    "                                   \"firstName AS first_name\",\n",
    "                                   \"lastName AS last_name\",\n",
    "                                   \"gender\",\n",
    "                                   \"level\"])\\\n",
    "                      .dropDuplicates(subset=['user_id'])\\\n",
    "                      .withColumn(\"user_id\", col(\"user_id\").cast(IntegerType()))\\\n",
    "                      .orderBy(['user_id'])\n",
    "users_table.show()"
   ]
  },
  {
   "cell_type": "code",
   "execution_count": 16,
   "metadata": {
    "editable": true
   },
   "outputs": [
    {
     "data": {
      "text/plain": [
       "312"
      ]
     },
     "execution_count": 16,
     "metadata": {},
     "output_type": "execute_result"
    }
   ],
   "source": [
    "users_table.filter(users_table.user_id == '88').orderBy('ts').count()"
   ]
  },
  {
   "cell_type": "code",
   "execution_count": 8,
   "metadata": {
    "editable": true
   },
   "outputs": [],
   "source": [
    "users_table.write.parquet('user/user.parquet')"
   ]
  },
  {
   "cell_type": "code",
   "execution_count": 8,
   "metadata": {
    "editable": true
   },
   "outputs": [],
   "source": [
    "log_data2 = log_data.where(log_data.page == 'NextSong')\n",
    "joined_table = log_data2.join(song_data, \n",
    "                             (log_data.song == song_data.title) & (log_data.artist == song_data.artist_name),\n",
    "                             'left')"
   ]
  },
  {
   "cell_type": "code",
   "execution_count": 39,
   "metadata": {
    "editable": true
   },
   "outputs": [
    {
     "name": "stdout",
     "output_type": "stream",
     "text": [
      "+-----------+----------+---------+------+-------------+--------+---------+-----+--------------------+------+--------+-----------------+---------+--------------------+------+-------------+--------------------+------+\n",
      "|     artist|      auth|firstName|gender|itemInSession|lastName|   length|level|            location|method|    page|     registration|sessionId|                song|status|           ts|           userAgent|userId|\n",
      "+-----------+----------+---------+------+-------------+--------+---------+-----+--------------------+------+--------+-----------------+---------+--------------------+------+-------------+--------------------+------+\n",
      "|   Harmonia| Logged In|     Ryan|     M|            0|   Smith|655.77751| free|San Jose-Sunnyval...|   PUT|NextSong|1.541016707796E12|      583|       Sehr kosmisch|   200|1542241826796|\"Mozilla/5.0 (X11...|    26|\n",
      "|The Prodigy| Logged In|     Ryan|     M|            1|   Smith|260.07465| free|San Jose-Sunnyval...|   PUT|NextSong|1.541016707796E12|      583|     The Big Gundown|   200|1542242481796|\"Mozilla/5.0 (X11...|    26|\n",
      "|      Train| Logged In|     Ryan|     M|            2|   Smith|205.45261| free|San Jose-Sunnyval...|   PUT|NextSong|1.541016707796E12|      583|            Marry Me|   200|1542242741796|\"Mozilla/5.0 (X11...|    26|\n",
      "|       null| Logged In|    Wyatt|     M|            0|   Scott|     null| free|Eureka-Arcata-For...|   GET|    Home|1.540872073796E12|      563|                null|   200|1542247071796|Mozilla/5.0 (Wind...|     9|\n",
      "|       null| Logged In|   Austin|     M|            0| Rosales|     null| free|New York-Newark-J...|   GET|    Home|1.541059521796E12|      521|                null|   200|1542252577796|Mozilla/5.0 (Wind...|    12|\n",
      "|Sony Wonder| Logged In|   Samuel|     M|            0|Gonzalez|218.06975| free|Houston-The Woodl...|   PUT|NextSong|1.540492941796E12|      597|           Blackbird|   200|1542253449796|\"Mozilla/5.0 (Mac...|    61|\n",
      "|       null| Logged In|   Samuel|     M|            1|Gonzalez|     null| free|Houston-The Woodl...|   GET|   About|1.540492941796E12|      597|                null|   200|1542253460796|\"Mozilla/5.0 (Mac...|    61|\n",
      "|       null|Logged Out|     null|  null|            0|    null|     null| paid|                null|   PUT|   Login|             null|      602|                null|   307|1542260074796|                null|      |\n",
      "|       null| Logged In|    Tegan|     F|            1|  Levine|     null| paid|Portland-South Po...|   GET|    Home|1.540794356796E12|      602|                null|   200|1542260277796|\"Mozilla/5.0 (Mac...|    80|\n",
      "|  Van Halen| Logged In|    Tegan|     F|            2|  Levine|289.38404| paid|Portland-South Po...|   PUT|NextSong|1.540794356796E12|      602|Best Of Both Worl...|   200|1542260935796|\"Mozilla/5.0 (Mac...|    80|\n",
      "+-----------+----------+---------+------+-------------+--------+---------+-----+--------------------+------+--------+-----------------+---------+--------------------+------+-------------+--------------------+------+\n",
      "only showing top 10 rows\n",
      "\n"
     ]
    }
   ],
   "source": [
    "#log_data.show(10)"
   ]
  },
  {
   "cell_type": "code",
   "execution_count": 9,
   "metadata": {
    "editable": true
   },
   "outputs": [],
   "source": [
    "songplays = joined_table.selectExpr([\"ts AS start_time\",\n",
    "                                 \"userId AS user_id\",\n",
    "                                 \"level\",\n",
    "                                 \"song_id\",\n",
    "                                 \"artist_id\",\n",
    "                                 \"sessionId AS session_id\",\n",
    "                                 \"location\",\n",
    "                                 \"userAgent AS user_agent\"])"
   ]
  },
  {
   "cell_type": "code",
   "execution_count": 43,
   "metadata": {
    "editable": true
   },
   "outputs": [
    {
     "data": {
      "text/plain": [
       "6820"
      ]
     },
     "execution_count": 43,
     "metadata": {},
     "output_type": "execute_result"
    }
   ],
   "source": [
    "songplays.count()"
   ]
  },
  {
   "cell_type": "code",
   "execution_count": 10,
   "metadata": {
    "editable": true
   },
   "outputs": [],
   "source": [
    "import pyspark.sql.functions as F\n",
    "songplays = songplays.withColumn(\"start_time\", (F.to_timestamp(songplays.start_time/1000))).orderBy(songplays.start_time)"
   ]
  },
  {
   "cell_type": "code",
   "execution_count": 11,
   "metadata": {
    "editable": true
   },
   "outputs": [],
   "source": [
    "songplays = songplays.withColumn(\"songplay_id\", F.monotonically_increasing_id())"
   ]
  },
  {
   "cell_type": "code",
   "execution_count": 61,
   "metadata": {
    "editable": true
   },
   "outputs": [
    {
     "name": "stdout",
     "output_type": "stream",
     "text": [
      "+--------------------+-------+-----+-------+---------+----------+--------------------+--------------------+-----------+\n",
      "|          start_time|user_id|level|song_id|artist_id|session_id|            location|          user_agent|songplay_id|\n",
      "+--------------------+-------+-----+-------+---------+----------+--------------------+--------------------+-----------+\n",
      "|2018-11-01 21:01:...|      8| free|   null|     null|       139|Phoenix-Mesa-Scot...|\"Mozilla/5.0 (Win...|          0|\n",
      "|2018-11-01 21:05:...|      8| free|   null|     null|       139|Phoenix-Mesa-Scot...|\"Mozilla/5.0 (Win...|          1|\n",
      "|2018-11-01 21:08:...|      8| free|   null|     null|       139|Phoenix-Mesa-Scot...|\"Mozilla/5.0 (Win...|          2|\n",
      "|2018-11-01 21:11:...|      8| free|   null|     null|       139|Phoenix-Mesa-Scot...|\"Mozilla/5.0 (Win...|          3|\n",
      "|2018-11-01 21:17:...|      8| free|   null|     null|       139|Phoenix-Mesa-Scot...|\"Mozilla/5.0 (Win...|          4|\n",
      "+--------------------+-------+-----+-------+---------+----------+--------------------+--------------------+-----------+\n",
      "only showing top 5 rows\n",
      "\n"
     ]
    }
   ],
   "source": [
    "songplays.show(5)"
   ]
  },
  {
   "cell_type": "code",
   "execution_count": 12,
   "metadata": {
    "editable": true
   },
   "outputs": [],
   "source": [
    "time = songplays.select(songplays.start_time)"
   ]
  },
  {
   "cell_type": "code",
   "execution_count": 13,
   "metadata": {
    "editable": true
   },
   "outputs": [],
   "source": [
    "#fields = ['hour', 'day', 'week', 'month', 'year', 'weekday']\n",
    "time = time.withColumn(\"hour\", F.hour(time.start_time))\n",
    "time = time.withColumn(\"day\", F.dayofmonth(time.start_time))\n",
    "time = time.withColumn(\"week\", F.weekofyear(time.start_time))\n",
    "time = time.withColumn(\"month\", F.month(time.start_time))\n",
    "time = time.withColumn(\"year\", F.year(time.start_time))\n",
    "time = time.withColumn(\"weekday\", F.dayofweek(time.start_time))"
   ]
  },
  {
   "cell_type": "code",
   "execution_count": 14,
   "metadata": {
    "editable": true
   },
   "outputs": [
    {
     "name": "stdout",
     "output_type": "stream",
     "text": [
      "+--------------------+----+---+----+-----+----+-------+\n",
      "|          start_time|hour|day|week|month|year|weekday|\n",
      "+--------------------+----+---+----+-----+----+-------+\n",
      "|2018-11-01 21:01:...|  21|  1|  44|   11|2018|      5|\n",
      "|2018-11-01 21:05:...|  21|  1|  44|   11|2018|      5|\n",
      "|2018-11-01 21:08:...|  21|  1|  44|   11|2018|      5|\n",
      "|2018-11-01 21:11:...|  21|  1|  44|   11|2018|      5|\n",
      "|2018-11-01 21:17:...|  21|  1|  44|   11|2018|      5|\n",
      "|2018-11-01 21:24:...|  21|  1|  44|   11|2018|      5|\n",
      "|2018-11-01 21:28:...|  21|  1|  44|   11|2018|      5|\n",
      "|2018-11-01 21:42:...|  21|  1|  44|   11|2018|      5|\n",
      "|2018-11-01 21:52:...|  21|  1|  44|   11|2018|      5|\n",
      "|2018-11-01 21:55:...|  21|  1|  44|   11|2018|      5|\n",
      "|2018-11-01 22:23:...|  22|  1|  44|   11|2018|      5|\n",
      "|2018-11-02 01:25:...|   1|  2|  44|   11|2018|      6|\n",
      "|2018-11-02 01:30:...|   1|  2|  44|   11|2018|      6|\n",
      "|2018-11-02 01:34:...|   1|  2|  44|   11|2018|      6|\n",
      "|2018-11-02 02:42:...|   2|  2|  44|   11|2018|      6|\n",
      "|2018-11-02 03:05:...|   3|  2|  44|   11|2018|      6|\n",
      "|2018-11-02 03:34:...|   3|  2|  44|   11|2018|      6|\n",
      "|2018-11-02 05:15:...|   5|  2|  44|   11|2018|      6|\n",
      "|2018-11-02 05:52:...|   5|  2|  44|   11|2018|      6|\n",
      "|2018-11-02 09:01:...|   9|  2|  44|   11|2018|      6|\n",
      "+--------------------+----+---+----+-----+----+-------+\n",
      "only showing top 20 rows\n",
      "\n"
     ]
    }
   ],
   "source": [
    "time.show()"
   ]
  },
  {
   "cell_type": "code",
   "execution_count": 15,
   "metadata": {
    "editable": true
   },
   "outputs": [],
   "source": [
    "time.write.partitionBy(['year', 'month']).parquet('time/time.parquet')"
   ]
  },
  {
   "cell_type": "code",
   "execution_count": 19,
   "metadata": {
    "editable": true
   },
   "outputs": [],
   "source": [
    "songplays = songplays.withColumn(\"month\", F.month(songplays.start_time))\n",
    "songplays = songplays.withColumn(\"year\", F.year(songplays.start_time))\n",
    "songplays.write.partitionBy(['year', 'month'])\\\n",
    "                  .parquet('songplays/songplays.parquet')"
   ]
  }
 ],
 "metadata": {
  "kernelspec": {
   "display_name": "Python 3",
   "language": "python",
   "name": "python3"
  },
  "language_info": {
   "codemirror_mode": {
    "name": "ipython",
    "version": 3
   },
   "file_extension": ".py",
   "mimetype": "text/x-python",
   "name": "python",
   "nbconvert_exporter": "python",
   "pygments_lexer": "ipython3",
   "version": "3.6.3"
  }
 },
 "nbformat": 4,
 "nbformat_minor": 4
}
