{
 "cells": [
  {
   "cell_type": "code",
   "execution_count": 1,
   "metadata": {
    "editable": true
   },
   "outputs": [],
   "source": [
    "import configparser\n",
    "from datetime import datetime\n",
    "import os\n",
    "from pyspark.sql import SparkSession\n",
    "from pyspark.sql.functions import udf, col\n",
    "from pyspark.sql.functions import year, month, dayofmonth, hour, weekofyear, date_format\n",
    "from zipfile import ZipFile\n",
    "\n",
    "config = configparser.ConfigParser()\n",
    "config.read('dl.cfg')\n",
    "\n",
    "os.environ['AWS_ACCESS_KEY_ID']=config.get('AWS','AWS_ACCESS_KEY_ID')\n",
    "os.environ['AWS_SECRET_ACCESS_KEY']=config.get('AWS','AWS_SECRET_ACCESS_KEY')"
   ]
  },
  {
   "cell_type": "code",
   "execution_count": 2,
   "metadata": {
    "editable": true
   },
   "outputs": [],
   "source": [
    "spark = SparkSession \\\n",
    "        .builder \\\n",
    "        .config(\"spark.jars.packages\", \"org.apache.hadoop:hadoop-aws:2.7.0\") \\\n",
    "        .getOrCreate()"
   ]
  },
  {
   "cell_type": "code",
   "execution_count": 7,
   "metadata": {
    "editable": true
   },
   "outputs": [],
   "source": [
    "with ZipFile('data/log-data.zip') as zipObj:\n",
    "    zipObj.extractall('data/log-data')\n",
    "with ZipFile('data/song-data.zip') as zipObj:\n",
    "    zipObj.extractall('data/song-data')"
   ]
  },
  {
   "cell_type": "code",
   "execution_count": null,
   "metadata": {
    "editable": true
   },
   "outputs": [],
   "source": [
    "log_data = spark.read.json('data/log-data/')"
   ]
  },
  {
   "cell_type": "code",
   "execution_count": 25,
   "metadata": {
    "editable": true
   },
   "outputs": [
    {
     "data": {
      "text/plain": [
       "8056"
      ]
     },
     "execution_count": 25,
     "metadata": {},
     "output_type": "execute_result"
    }
   ],
   "source": [
    "log_data.count()"
   ]
  },
  {
   "cell_type": "code",
   "execution_count": 26,
   "metadata": {
    "editable": true
   },
   "outputs": [
    {
     "name": "stdout",
     "output_type": "stream",
     "text": [
      "+--------------------+----------+---------+------+-------------+--------+---------+-----+--------------------+------+--------+-----------------+---------+--------------------+------+-------------+--------------------+------+\n",
      "|              artist|      auth|firstName|gender|itemInSession|lastName|   length|level|            location|method|    page|     registration|sessionId|                song|status|           ts|           userAgent|userId|\n",
      "+--------------------+----------+---------+------+-------------+--------+---------+-----+--------------------+------+--------+-----------------+---------+--------------------+------+-------------+--------------------+------+\n",
      "|            Harmonia| Logged In|     Ryan|     M|            0|   Smith|655.77751| free|San Jose-Sunnyval...|   PUT|NextSong|1.541016707796E12|      583|       Sehr kosmisch|   200|1542241826796|\"Mozilla/5.0 (X11...|    26|\n",
      "|         The Prodigy| Logged In|     Ryan|     M|            1|   Smith|260.07465| free|San Jose-Sunnyval...|   PUT|NextSong|1.541016707796E12|      583|     The Big Gundown|   200|1542242481796|\"Mozilla/5.0 (X11...|    26|\n",
      "|               Train| Logged In|     Ryan|     M|            2|   Smith|205.45261| free|San Jose-Sunnyval...|   PUT|NextSong|1.541016707796E12|      583|            Marry Me|   200|1542242741796|\"Mozilla/5.0 (X11...|    26|\n",
      "|                null| Logged In|    Wyatt|     M|            0|   Scott|     null| free|Eureka-Arcata-For...|   GET|    Home|1.540872073796E12|      563|                null|   200|1542247071796|Mozilla/5.0 (Wind...|     9|\n",
      "|                null| Logged In|   Austin|     M|            0| Rosales|     null| free|New York-Newark-J...|   GET|    Home|1.541059521796E12|      521|                null|   200|1542252577796|Mozilla/5.0 (Wind...|    12|\n",
      "|         Sony Wonder| Logged In|   Samuel|     M|            0|Gonzalez|218.06975| free|Houston-The Woodl...|   PUT|NextSong|1.540492941796E12|      597|           Blackbird|   200|1542253449796|\"Mozilla/5.0 (Mac...|    61|\n",
      "|                null| Logged In|   Samuel|     M|            1|Gonzalez|     null| free|Houston-The Woodl...|   GET|   About|1.540492941796E12|      597|                null|   200|1542253460796|\"Mozilla/5.0 (Mac...|    61|\n",
      "|                null|Logged Out|     null|  null|            0|    null|     null| paid|                null|   PUT|   Login|             null|      602|                null|   307|1542260074796|                null|      |\n",
      "|                null| Logged In|    Tegan|     F|            1|  Levine|     null| paid|Portland-South Po...|   GET|    Home|1.540794356796E12|      602|                null|   200|1542260277796|\"Mozilla/5.0 (Mac...|    80|\n",
      "|           Van Halen| Logged In|    Tegan|     F|            2|  Levine|289.38404| paid|Portland-South Po...|   PUT|NextSong|1.540794356796E12|      602|Best Of Both Worl...|   200|1542260935796|\"Mozilla/5.0 (Mac...|    80|\n",
      "|           Magic Sam| Logged In|    Tegan|     F|            3|  Levine|132.04853| paid|Portland-South Po...|   PUT|NextSong|1.540794356796E12|      602|Call Me If You Ne...|   200|1542261224796|\"Mozilla/5.0 (Mac...|    80|\n",
      "|Edward Sharpe & T...| Logged In|    Tegan|     F|            4|  Levine|306.31138| paid|Portland-South Po...|   PUT|NextSong|1.540794356796E12|      602|                Home|   200|1542261356796|\"Mozilla/5.0 (Mac...|    80|\n",
      "|Usher featuring w...| Logged In|    Tegan|     F|            5|  Levine|395.72853| paid|Portland-South Po...|   PUT|NextSong|1.540794356796E12|      602|                 OMG|   200|1542261662796|\"Mozilla/5.0 (Mac...|    80|\n",
      "|                null| Logged In|    Tegan|     F|            6|  Levine|     null| paid|Portland-South Po...|   GET|    Home|1.540794356796E12|      602|                null|   200|1542261713796|\"Mozilla/5.0 (Mac...|    80|\n",
      "|         Helen Reddy| Logged In|    Tegan|     F|            7|  Levine|176.50893| paid|Portland-South Po...|   PUT|NextSong|1.540794356796E12|      602| Candle On The Water|   200|1542262057796|\"Mozilla/5.0 (Mac...|    80|\n",
      "|        Taylor Swift| Logged In|    Tegan|     F|            8|  Levine|201.06404| paid|Portland-South Po...|   PUT|NextSong|1.540794356796E12|      602|            Our Song|   200|1542262233796|\"Mozilla/5.0 (Mac...|    80|\n",
      "|           Sean Paul| Logged In|    Tegan|     F|            9|  Levine|245.34159| paid|Portland-South Po...|   PUT|NextSong|1.540794356796E12|      602|Baby Boy [feat. B...|   200|1542262434796|\"Mozilla/5.0 (Mac...|    80|\n",
      "|         Soundgarden| Logged In|     Lily|     F|            0|    Koch|272.19546| paid|Chicago-Napervill...|   PUT|NextSong|1.541048010796E12|      582|      Black Hole Sun|   200|1542262456796|\"Mozilla/5.0 (X11...|    15|\n",
      "|         The Killers| Logged In|    Tegan|     F|           10|  Levine|360.75057| paid|Portland-South Po...|   PUT|NextSong|1.540794356796E12|      602|               Human|   200|1542262679796|\"Mozilla/5.0 (Mac...|    80|\n",
      "|       Amy Winehouse| Logged In|     Lily|     F|            1|    Koch|165.11955| paid|Chicago-Napervill...|   PUT|NextSong|1.541048010796E12|      582|            Addicted|   200|1542262728796|\"Mozilla/5.0 (X11...|    15|\n",
      "+--------------------+----------+---------+------+-------------+--------+---------+-----+--------------------+------+--------+-----------------+---------+--------------------+------+-------------+--------------------+------+\n",
      "only showing top 20 rows\n",
      "\n"
     ]
    }
   ],
   "source": [
    "log_data.show()"
   ]
  }
 ],
 "metadata": {
  "kernelspec": {
   "display_name": "Python 3",
   "language": "python",
   "name": "python3"
  },
  "language_info": {
   "codemirror_mode": {
    "name": "ipython",
    "version": 3
   },
   "file_extension": ".py",
   "mimetype": "text/x-python",
   "name": "python",
   "nbconvert_exporter": "python",
   "pygments_lexer": "ipython3",
   "version": "3.6.3"
  }
 },
 "nbformat": 4,
 "nbformat_minor": 4
}
