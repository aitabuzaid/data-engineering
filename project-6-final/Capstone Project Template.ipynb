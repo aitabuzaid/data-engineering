{
 "cells": [
  {
   "cell_type": "markdown",
   "metadata": {
    "editable": true
   },
   "source": [
    "# Project Title\n",
    "### Data Engineering Capstone Project\n",
    "\n",
    "#### Project Summary\n",
    "--describe your project at a high level--\n",
    "\n",
    "The project follows the follow steps:\n",
    "* Step 1: Scope the Project and Gather Data\n",
    "* Step 2: Explore and Assess the Data\n",
    "* Step 3: Define the Data Model\n",
    "* Step 4: Run ETL to Model the Data\n",
    "* Step 5: Complete Project Write Up"
   ]
  },
  {
   "cell_type": "code",
<<<<<<< HEAD
   "execution_count": 1,
=======
   "execution_count": 2,
>>>>>>> ca38c09ccade222867059d7d8c9c93e5b7c798a9
   "metadata": {
    "editable": true
   },
   "outputs": [],
   "source": [
    "# Do all imports and installs here\n",
    "import pandas as pd"
   ]
  },
  {
   "cell_type": "markdown",
   "metadata": {
    "editable": true
   },
   "source": [
    "### Step 1: Scope the Project and Gather Data\n",
    "\n",
    "#### Scope \n",
    "Explain what you plan to do in the project in more detail. What data do you use? What is your end solution look like? What tools did you use? etc>\n",
    "\n",
    "#### Describe and Gather Data \n",
    "Describe the data sets you're using. Where did it come from? What type of information is included? "
   ]
  },
  {
   "cell_type": "code",
<<<<<<< HEAD
   "execution_count": 2,
=======
   "execution_count": 3,
>>>>>>> ca38c09ccade222867059d7d8c9c93e5b7c798a9
   "metadata": {
    "editable": true
   },
   "outputs": [],
   "source": [
    "# Read in the data here\n",
    "fname = '../../data/18-83510-I94-Data-2016/i94_apr16_sub.sas7bdat'\n",
<<<<<<< HEAD
    "#df = pd.read_sas(fname, 'sas7bdat', encoding=\"ISO-8859-1\")"
=======
    "df = pd.read_sas(fname, 'sas7bdat', encoding=\"ISO-8859-1\")"
>>>>>>> ca38c09ccade222867059d7d8c9c93e5b7c798a9
   ]
  },
  {
   "cell_type": "code",
   "execution_count": 4,
   "metadata": {
    "editable": true
   },
   "outputs": [
    {
     "data": {
      "text/html": [
       "<div>\n",
       "<style scoped>\n",
       "    .dataframe tbody tr th:only-of-type {\n",
       "        vertical-align: middle;\n",
       "    }\n",
       "\n",
       "    .dataframe tbody tr th {\n",
       "        vertical-align: top;\n",
       "    }\n",
       "\n",
       "    .dataframe thead th {\n",
       "        text-align: right;\n",
       "    }\n",
       "</style>\n",
       "<table border=\"1\" class=\"dataframe\">\n",
       "  <thead>\n",
       "    <tr style=\"text-align: right;\">\n",
       "      <th></th>\n",
       "      <th>cicid</th>\n",
       "      <th>i94yr</th>\n",
       "      <th>i94mon</th>\n",
       "      <th>i94cit</th>\n",
       "      <th>i94res</th>\n",
       "      <th>i94port</th>\n",
       "      <th>arrdate</th>\n",
       "      <th>i94mode</th>\n",
       "      <th>i94addr</th>\n",
       "      <th>depdate</th>\n",
       "      <th>...</th>\n",
       "      <th>entdepu</th>\n",
       "      <th>matflag</th>\n",
       "      <th>biryear</th>\n",
       "      <th>dtaddto</th>\n",
       "      <th>gender</th>\n",
       "      <th>insnum</th>\n",
       "      <th>airline</th>\n",
       "      <th>admnum</th>\n",
       "      <th>fltno</th>\n",
       "      <th>visatype</th>\n",
       "    </tr>\n",
       "  </thead>\n",
       "  <tbody>\n",
       "    <tr>\n",
       "      <th>0</th>\n",
       "      <td>6.0</td>\n",
       "      <td>2016.0</td>\n",
       "      <td>4.0</td>\n",
       "      <td>692.0</td>\n",
       "      <td>692.0</td>\n",
       "      <td>XXX</td>\n",
       "      <td>20573.0</td>\n",
       "      <td>NaN</td>\n",
       "      <td>NaN</td>\n",
       "      <td>NaN</td>\n",
       "      <td>...</td>\n",
       "      <td>U</td>\n",
       "      <td>NaN</td>\n",
       "      <td>1979.0</td>\n",
       "      <td>10282016</td>\n",
       "      <td>NaN</td>\n",
       "      <td>NaN</td>\n",
       "      <td>NaN</td>\n",
       "      <td>1.897628e+09</td>\n",
       "      <td>NaN</td>\n",
       "      <td>B2</td>\n",
       "    </tr>\n",
       "    <tr>\n",
       "      <th>1</th>\n",
       "      <td>7.0</td>\n",
       "      <td>2016.0</td>\n",
       "      <td>4.0</td>\n",
       "      <td>254.0</td>\n",
       "      <td>276.0</td>\n",
       "      <td>ATL</td>\n",
       "      <td>20551.0</td>\n",
       "      <td>1.0</td>\n",
       "      <td>AL</td>\n",
       "      <td>NaN</td>\n",
       "      <td>...</td>\n",
       "      <td>Y</td>\n",
       "      <td>NaN</td>\n",
       "      <td>1991.0</td>\n",
       "      <td>D/S</td>\n",
       "      <td>M</td>\n",
       "      <td>NaN</td>\n",
       "      <td>NaN</td>\n",
       "      <td>3.736796e+09</td>\n",
       "      <td>00296</td>\n",
       "      <td>F1</td>\n",
       "    </tr>\n",
       "    <tr>\n",
       "      <th>2</th>\n",
       "      <td>15.0</td>\n",
       "      <td>2016.0</td>\n",
       "      <td>4.0</td>\n",
       "      <td>101.0</td>\n",
       "      <td>101.0</td>\n",
       "      <td>WAS</td>\n",
       "      <td>20545.0</td>\n",
       "      <td>1.0</td>\n",
       "      <td>MI</td>\n",
       "      <td>20691.0</td>\n",
       "      <td>...</td>\n",
       "      <td>NaN</td>\n",
       "      <td>M</td>\n",
       "      <td>1961.0</td>\n",
       "      <td>09302016</td>\n",
       "      <td>M</td>\n",
       "      <td>NaN</td>\n",
       "      <td>OS</td>\n",
       "      <td>6.666432e+08</td>\n",
       "      <td>93</td>\n",
       "      <td>B2</td>\n",
       "    </tr>\n",
       "    <tr>\n",
       "      <th>3</th>\n",
       "      <td>16.0</td>\n",
       "      <td>2016.0</td>\n",
       "      <td>4.0</td>\n",
       "      <td>101.0</td>\n",
       "      <td>101.0</td>\n",
       "      <td>NYC</td>\n",
       "      <td>20545.0</td>\n",
       "      <td>1.0</td>\n",
       "      <td>MA</td>\n",
       "      <td>20567.0</td>\n",
       "      <td>...</td>\n",
       "      <td>NaN</td>\n",
       "      <td>M</td>\n",
       "      <td>1988.0</td>\n",
       "      <td>09302016</td>\n",
       "      <td>NaN</td>\n",
       "      <td>NaN</td>\n",
       "      <td>AA</td>\n",
       "      <td>9.246846e+10</td>\n",
       "      <td>00199</td>\n",
       "      <td>B2</td>\n",
       "    </tr>\n",
       "    <tr>\n",
       "      <th>4</th>\n",
       "      <td>17.0</td>\n",
       "      <td>2016.0</td>\n",
       "      <td>4.0</td>\n",
       "      <td>101.0</td>\n",
       "      <td>101.0</td>\n",
       "      <td>NYC</td>\n",
       "      <td>20545.0</td>\n",
       "      <td>1.0</td>\n",
       "      <td>MA</td>\n",
       "      <td>20567.0</td>\n",
       "      <td>...</td>\n",
       "      <td>NaN</td>\n",
       "      <td>M</td>\n",
       "      <td>2012.0</td>\n",
       "      <td>09302016</td>\n",
       "      <td>NaN</td>\n",
       "      <td>NaN</td>\n",
       "      <td>AA</td>\n",
       "      <td>9.246846e+10</td>\n",
       "      <td>00199</td>\n",
       "      <td>B2</td>\n",
       "    </tr>\n",
       "  </tbody>\n",
       "</table>\n",
       "<p>5 rows × 28 columns</p>\n",
       "</div>"
      ],
      "text/plain": [
       "   cicid   i94yr  i94mon  i94cit  i94res i94port  arrdate  i94mode i94addr  \\\n",
       "0    6.0  2016.0     4.0   692.0   692.0     XXX  20573.0      NaN     NaN   \n",
       "1    7.0  2016.0     4.0   254.0   276.0     ATL  20551.0      1.0      AL   \n",
       "2   15.0  2016.0     4.0   101.0   101.0     WAS  20545.0      1.0      MI   \n",
       "3   16.0  2016.0     4.0   101.0   101.0     NYC  20545.0      1.0      MA   \n",
       "4   17.0  2016.0     4.0   101.0   101.0     NYC  20545.0      1.0      MA   \n",
       "\n",
       "   depdate   ...     entdepu  matflag  biryear   dtaddto gender insnum  \\\n",
       "0      NaN   ...           U      NaN   1979.0  10282016    NaN    NaN   \n",
       "1      NaN   ...           Y      NaN   1991.0       D/S      M    NaN   \n",
       "2  20691.0   ...         NaN        M   1961.0  09302016      M    NaN   \n",
       "3  20567.0   ...         NaN        M   1988.0  09302016    NaN    NaN   \n",
       "4  20567.0   ...         NaN        M   2012.0  09302016    NaN    NaN   \n",
       "\n",
       "  airline        admnum  fltno visatype  \n",
       "0     NaN  1.897628e+09    NaN       B2  \n",
       "1     NaN  3.736796e+09  00296       F1  \n",
       "2      OS  6.666432e+08     93       B2  \n",
       "3      AA  9.246846e+10  00199       B2  \n",
       "4      AA  9.246846e+10  00199       B2  \n",
       "\n",
       "[5 rows x 28 columns]"
      ]
     },
     "execution_count": 4,
     "metadata": {},
     "output_type": "execute_result"
    }
   ],
   "source": [
    "df.head()"
   ]
  },
  {
   "cell_type": "code",
   "execution_count": 5,
   "metadata": {
    "editable": true
   },
   "outputs": [
    {
     "data": {
      "text/plain": [
       "cicid       3096313\n",
       "i94yr       3096313\n",
       "i94mon      3096313\n",
       "i94cit      3096313\n",
       "i94res      3096313\n",
       "i94port     3096313\n",
       "arrdate     3096313\n",
       "i94mode     3096074\n",
       "i94addr     2943941\n",
       "depdate     2953856\n",
       "i94bir      3095511\n",
       "i94visa     3096313\n",
       "count       3096313\n",
       "dtadfile    3096312\n",
       "visapost    1215063\n",
       "occup          8126\n",
       "entdepa     3096075\n",
       "entdepd     2957884\n",
       "entdepu         392\n",
       "matflag     2957884\n",
       "biryear     3095511\n",
       "dtaddto     3095836\n",
       "gender      2682044\n",
       "insnum       113708\n",
       "airline     3012686\n",
       "admnum      3096313\n",
       "fltno       3076764\n",
       "visatype    3096313\n",
       "dtype: int64"
      ]
     },
     "execution_count": 5,
     "metadata": {},
     "output_type": "execute_result"
    }
   ],
   "source": [
    "df.count()"
   ]
  },
  {
   "cell_type": "code",
<<<<<<< HEAD
   "execution_count": 3,
=======
   "execution_count": 7,
>>>>>>> ca38c09ccade222867059d7d8c9c93e5b7c798a9
   "metadata": {
    "editable": true
   },
   "outputs": [],
   "source": [
    "\t\n",
    "from pyspark.sql import SparkSession\n",
    "spark = SparkSession.builder.\\\n",
    "config(\"spark.jars.packages\",\"saurfang:spark-sas7bdat:2.0.0-s_2.11\")\\\n",
    ".enableHiveSupport().getOrCreate()\n",
    "df_imm =spark.read.format('com.github.saurfang.sas.spark').load('../../data/18-83510-I94-Data-2016/i94_apr16_sub.sas7bdat')\n"
   ]
  },
  {
   "cell_type": "code",
<<<<<<< HEAD
   "execution_count": 5,
   "metadata": {
    "editable": true
   },
   "outputs": [
    {
     "name": "stdout",
     "output_type": "stream",
     "text": [
      "root\n",
      " |-- cicid: double (nullable = true)\n",
      " |-- i94yr: double (nullable = true)\n",
      " |-- i94mon: double (nullable = true)\n",
      " |-- i94cit: double (nullable = true)\n",
      " |-- i94res: double (nullable = true)\n",
      " |-- i94port: string (nullable = true)\n",
      " |-- arrdate: double (nullable = true)\n",
      " |-- i94mode: double (nullable = true)\n",
      " |-- i94addr: string (nullable = true)\n",
      " |-- depdate: double (nullable = true)\n",
      " |-- i94bir: double (nullable = true)\n",
      " |-- i94visa: double (nullable = true)\n",
      " |-- count: double (nullable = true)\n",
      " |-- dtadfile: string (nullable = true)\n",
      " |-- visapost: string (nullable = true)\n",
      " |-- occup: string (nullable = true)\n",
      " |-- entdepa: string (nullable = true)\n",
      " |-- entdepd: string (nullable = true)\n",
      " |-- entdepu: string (nullable = true)\n",
      " |-- matflag: string (nullable = true)\n",
      " |-- biryear: double (nullable = true)\n",
      " |-- dtaddto: string (nullable = true)\n",
      " |-- gender: string (nullable = true)\n",
      " |-- insnum: string (nullable = true)\n",
      " |-- airline: string (nullable = true)\n",
      " |-- admnum: double (nullable = true)\n",
      " |-- fltno: string (nullable = true)\n",
      " |-- visatype: string (nullable = true)\n",
      "\n"
     ]
    }
   ],
   "source": [
    "df_imm.printSchema()"
   ]
  },
  {
   "cell_type": "code",
=======
>>>>>>> ca38c09ccade222867059d7d8c9c93e5b7c798a9
   "execution_count": 9,
   "metadata": {
    "editable": true
   },
   "outputs": [],
   "source": [
    "#write to parquet\n",
<<<<<<< HEAD
    "df_imm.write.parquet(\"sas_data2\")\n",
    "df_imm = spark.read.parquet(\"sas_data2\")"
=======
    "df_spark.write.parquet(\"sas_data2\")\n",
    "df_spark=spark.read.parquet(\"sas_data2\")"
>>>>>>> ca38c09ccade222867059d7d8c9c93e5b7c798a9
   ]
  },
  {
   "cell_type": "code",
<<<<<<< HEAD
   "execution_count": 25,
   "metadata": {
    "editable": true
   },
   "outputs": [
    {
     "name": "stdout",
     "output_type": "stream",
     "text": [
      "+------+\n",
      "| cicid|\n",
      "+------+\n",
      "| 299.0|\n",
      "| 305.0|\n",
      "| 496.0|\n",
      "| 558.0|\n",
      "| 596.0|\n",
      "| 934.0|\n",
      "|1051.0|\n",
      "|1761.0|\n",
      "|2734.0|\n",
      "|2862.0|\n",
      "|3597.0|\n",
      "|3901.0|\n",
      "|3980.0|\n",
      "|4066.0|\n",
      "|4142.0|\n",
      "|5360.0|\n",
      "|5776.0|\n",
      "|5858.0|\n",
      "|5983.0|\n",
      "|6067.0|\n",
      "+------+\n",
      "only showing top 20 rows\n",
      "\n"
     ]
    }
   ],
   "source": [
    "df_imm.select(['cicid']).dropDuplicates().show()"
   ]
  },
  {
   "cell_type": "code",
   "execution_count": 19,
   "metadata": {
    "editable": true
   },
   "outputs": [
    {
     "name": "stdout",
     "output_type": "stream",
     "text": [
      "+------+-------+\n",
      "| i94yr|  count|\n",
      "+------+-------+\n",
      "|2016.0|3096313|\n",
      "+------+-------+\n",
      "\n"
     ]
    }
   ],
   "source": [
    "df_imm.select(['i94yr']).groupBy(['i94yr']).count().show()"
   ]
  },
  {
   "cell_type": "code",
   "execution_count": 22,
   "metadata": {
    "editable": true
   },
   "outputs": [
    {
     "name": "stdout",
     "output_type": "stream",
     "text": [
      "+------+-----+\n",
      "| cicid|count|\n",
      "+------+-----+\n",
      "| 299.0|    1|\n",
      "| 305.0|    1|\n",
      "| 496.0|    1|\n",
      "| 558.0|    1|\n",
      "| 596.0|    1|\n",
      "| 934.0|    1|\n",
      "|1051.0|    1|\n",
      "|1761.0|    1|\n",
      "|2734.0|    1|\n",
      "|2862.0|    1|\n",
      "|3597.0|    1|\n",
      "|3901.0|    1|\n",
      "|3980.0|    1|\n",
      "|4066.0|    1|\n",
      "|4142.0|    1|\n",
      "|5360.0|    1|\n",
      "|5776.0|    1|\n",
      "|5858.0|    1|\n",
      "|5983.0|    1|\n",
      "|6067.0|    1|\n",
      "+------+-----+\n",
      "only showing top 20 rows\n",
      "\n",
      "+------+-------+\n",
      "| i94yr|  count|\n",
      "+------+-------+\n",
      "|2016.0|3096313|\n",
      "+------+-------+\n",
      "\n",
      "+------+-------+\n",
      "|i94mon|  count|\n",
      "+------+-------+\n",
      "|   4.0|3096313|\n",
      "+------+-------+\n",
      "\n",
      "+------+------+\n",
      "|i94cit| count|\n",
      "+------+------+\n",
      "| 692.0| 41349|\n",
      "| 299.0|   797|\n",
      "| 769.0|     2|\n",
      "| 147.0|     3|\n",
      "| 576.0| 13914|\n",
      "| 735.0|   368|\n",
      "| 311.0|   402|\n",
      "| 206.0|  2391|\n",
      "| 524.0|   569|\n",
      "| 389.0|   102|\n",
      "| 390.0|    68|\n",
      "| 249.0|  1344|\n",
      "| 329.0|   135|\n",
      "| 112.0|  1752|\n",
      "| 154.0|   620|\n",
      "| 521.0|     2|\n",
      "| 124.0| 19821|\n",
      "| 438.0|109884|\n",
      "| 348.0|   131|\n",
      "| 410.0|    14|\n",
      "+------+------+\n",
      "only showing top 20 rows\n",
      "\n",
      "+------+------+\n",
      "|i94res| count|\n",
      "+------+------+\n",
      "| 692.0| 42495|\n",
      "| 299.0|   792|\n",
      "| 576.0| 13992|\n",
      "| 735.0|   423|\n",
      "| 206.0|  8505|\n",
      "| 524.0|   519|\n",
      "| 389.0|    99|\n",
      "| 390.0|    76|\n",
      "| 249.0|  1310|\n",
      "| 329.0|   153|\n",
      "| 112.0|156613|\n",
      "| 154.0|   616|\n",
      "| 521.0|    19|\n",
      "| 124.0| 20245|\n",
      "| 438.0|112407|\n",
      "| 348.0|   137|\n",
      "| 410.0|    42|\n",
      "| 253.0|  2646|\n",
      "| 317.0|     9|\n",
      "| 128.0|    24|\n",
      "+------+------+\n",
      "only showing top 20 rows\n",
      "\n",
      "+-------+-----+\n",
      "|i94port|count|\n",
      "+-------+-----+\n",
      "|    FMY|17514|\n",
      "|    BGM|  128|\n",
      "|    HEL|    2|\n",
      "|    DNS|   35|\n",
      "|    MOR|   14|\n",
      "|    FOK|   14|\n",
      "|    HVR|   45|\n",
      "|    SNA| 7066|\n",
      "|    PTK|   12|\n",
      "|    SPM|16973|\n",
      "|    CLG| 3191|\n",
      "|    OPF|  909|\n",
      "|    DLB|   12|\n",
      "|    ABS|    4|\n",
      "|    NAS|13032|\n",
      "|    MYR|    5|\n",
      "|    PVD|  352|\n",
      "|    OAK| 3501|\n",
      "|    FAR|    5|\n",
      "|    OTT|  663|\n",
      "+-------+-----+\n",
      "only showing top 20 rows\n",
      "\n",
      "+-------+------+\n",
      "|arrdate| count|\n",
      "+-------+------+\n",
      "|20550.0| 88273|\n",
      "|20556.0| 85600|\n",
      "|20553.0|105930|\n",
      "|20551.0| 99763|\n",
      "|20565.0|105454|\n",
      "|20563.0| 86068|\n",
      "|20546.0|103196|\n",
      "|20547.0| 99972|\n",
      "|20554.0|104394|\n",
      "|20564.0| 95428|\n",
      "|20545.0|108407|\n",
      "|20560.0|114970|\n",
      "|20573.0|128267|\n",
      "|20559.0|114803|\n",
      "|20574.0|127155|\n",
      "|20567.0|112883|\n",
      "|20555.0| 98737|\n",
      "|20570.0| 88100|\n",
      "|20569.0| 99652|\n",
      "|20549.0| 91514|\n",
      "+-------+------+\n",
      "only showing top 20 rows\n",
      "\n",
      "+-------+-------+\n",
      "|i94mode|  count|\n",
      "+-------+-------+\n",
      "|   null|    239|\n",
      "|    1.0|2994505|\n",
      "|    3.0|  66660|\n",
      "|    2.0|  26349|\n",
      "|    9.0|   8560|\n",
      "+-------+-------+\n",
      "\n",
      "+-------+-----+\n",
      "|i94addr|count|\n",
      "+-------+-----+\n",
      "|     .N|    4|\n",
      "|     RG|    4|\n",
      "|     YH|    1|\n",
      "|     RF|    1|\n",
      "|     FT|    2|\n",
      "|     CI|   13|\n",
      "|     TC|    1|\n",
      "|     SC| 9811|\n",
      "|     AZ|20218|\n",
      "|     FI|    7|\n",
      "|     IC|    3|\n",
      "|     PU|   13|\n",
      "|     UA|   10|\n",
      "|     EA|    2|\n",
      "|     NS|   28|\n",
      "|     KI|   25|\n",
      "|     RO|    1|\n",
      "|     PI|    6|\n",
      "|     SL|    6|\n",
      "|     LA|22655|\n",
      "+-------+-----+\n",
      "only showing top 20 rows\n",
      "\n",
      "+-------+-----+\n",
      "|depdate|count|\n",
      "+-------+-----+\n",
      "|20593.0|10375|\n",
      "|20689.0|  723|\n",
      "|20673.0|  942|\n",
      "|20467.0|    1|\n",
      "|20652.0| 1595|\n",
      "|20196.0|    1|\n",
      "|20705.0|  724|\n",
      "|20621.0| 2522|\n",
      "|20550.0|28056|\n",
      "|20682.0|  915|\n",
      "|20203.0|    1|\n",
      "|20592.0|11065|\n",
      "|20614.0| 3270|\n",
      "|20556.0|51234|\n",
      "|20683.0|  877|\n",
      "|20518.0|    8|\n",
      "|20553.0|54548|\n",
      "|20622.0| 2046|\n",
      "|20527.0|    4|\n",
      "|20699.0|  719|\n",
      "+-------+-----+\n",
      "only showing top 20 rows\n",
      "\n",
      "+------+-----+\n",
      "|i94bir|count|\n",
      "+------+-----+\n",
      "|  70.0|24891|\n",
      "|  67.0|32063|\n",
      "|   8.0|14607|\n",
      "|   0.0|  765|\n",
      "|  69.0|28451|\n",
      "|   7.0|14233|\n",
      "| 108.0|    2|\n",
      "|  88.0|  884|\n",
      "|  49.0|56041|\n",
      "| 101.0|    2|\n",
      "|  98.0|   26|\n",
      "|  29.0|67762|\n",
      "| 107.0|    1|\n",
      "|  64.0|37002|\n",
      "|  75.0|12305|\n",
      "|  47.0|58127|\n",
      "|  42.0|62150|\n",
      "|  44.0|62001|\n",
      "|  62.0|41352|\n",
      "|  35.0|69626|\n",
      "+------+-----+\n",
      "only showing top 20 rows\n",
      "\n",
      "+-------+-------+\n",
      "|i94visa|  count|\n",
      "+-------+-------+\n",
      "|    1.0| 522079|\n",
      "|    3.0|  43366|\n",
      "|    2.0|2530868|\n",
      "+-------+-------+\n",
      "\n",
      "+-----+-------+\n",
      "|count|  count|\n",
      "+-----+-------+\n",
      "|  1.0|3096313|\n",
      "+-----+-------+\n",
      "\n",
      "+--------+------+\n",
      "|dtadfile| count|\n",
      "+--------+------+\n",
      "|20160429|120497|\n",
      "|20160615| 25142|\n",
      "|20160825|     9|\n",
      "|20160604|     2|\n",
      "|20160403| 94852|\n",
      "|20160611|     2|\n",
      "|20160623|     4|\n",
      "|20160427| 96696|\n",
      "|20160420| 90795|\n",
      "|20160423|107079|\n",
      "|20160702|     2|\n",
      "|20160529|     1|\n",
      "|20160422|105575|\n",
      "|20160405| 86195|\n",
      "|20160609|     1|\n",
      "|20160525|     2|\n",
      "|20160709|     1|\n",
      "|20160617| 30397|\n",
      "|20160628|   445|\n",
      "|20160830|    84|\n",
      "+--------+------+\n",
      "only showing top 20 rows\n",
      "\n",
      "+--------+-----+\n",
      "|visapost|count|\n",
      "+--------+-----+\n",
      "|     CRS|37137|\n",
      "|     KGL|  157|\n",
      "|     AKD|   41|\n",
      "|     BGM|    1|\n",
      "|     TRK|   11|\n",
      "|     MOR|    2|\n",
      "|     MDL|    1|\n",
      "|     KAT|    2|\n",
      "|     FRN| 5993|\n",
      "|     CJT|    9|\n",
      "|     MBO|  100|\n",
      "|     OSK|   44|\n",
      "|     LND|12760|\n",
      "|     SNA|   35|\n",
      "|     MXT|   14|\n",
      "|     CLG| 1828|\n",
      "|     BRA|11540|\n",
      "|     SPM|    4|\n",
      "|     ZZZ|   31|\n",
      "|     GRB|    1|\n",
      "+--------+-----+\n",
      "only showing top 20 rows\n",
      "\n",
      "+-----+-----+\n",
      "|occup|count|\n",
      "+-----+-----+\n",
      "|  PHA|    5|\n",
      "|  ENT|    3|\n",
      "|  REL|    3|\n",
      "|  ACH|   29|\n",
      "|  101|    1|\n",
      "|  EMM|    4|\n",
      "|  ULS|  175|\n",
      "|  GEN|    3|\n",
      "|  DVM|    2|\n",
      "|  MTH|    1|\n",
      "|  SVC|    3|\n",
      "|  ECH|   11|\n",
      "|  EXA|  196|\n",
      "|  ENV|    1|\n",
      "|  ENP|    2|\n",
      "|  PRF|   11|\n",
      "|  VOC|   10|\n",
      "|  AST|    2|\n",
      "|  TCH|   26|\n",
      "|  MSC|    3|\n",
      "+-----+-----+\n",
      "only showing top 20 rows\n",
      "\n",
      "+-------+-------+\n",
      "|entdepa|  count|\n",
      "+-------+-------+\n",
      "|      K|  17076|\n",
      "|      F|      3|\n",
      "|   null|    238|\n",
      "|      T|  61144|\n",
      "|      B|    401|\n",
      "|      M|     27|\n",
      "|      U|   2371|\n",
      "|      O| 413057|\n",
      "|      Z|  64864|\n",
      "|      A| 108560|\n",
      "|      N|    252|\n",
      "|      G|2399582|\n",
      "|      P|  14397|\n",
      "|      H|  14341|\n",
      "+-------+-------+\n",
      "\n",
      "+-------+-------+\n",
      "|entdepd|  count|\n",
      "+-------+-------+\n",
      "|      K|  70624|\n",
      "|      Q|  52729|\n",
      "|   null| 138429|\n",
      "|      M|     13|\n",
      "|      L|     44|\n",
      "|      V|    762|\n",
      "|      O|2513632|\n",
      "|      D|  96518|\n",
      "|      J|   1758|\n",
      "|      N|  76192|\n",
      "|      W|   3887|\n",
      "|      R|  41879|\n",
      "|      I|  99846|\n",
      "+-------+-------+\n",
      "\n",
      "+-------+-------+\n",
      "|entdepu|  count|\n",
      "+-------+-------+\n",
      "|   null|3095921|\n",
      "|      Y|      1|\n",
      "|      U|    391|\n",
      "+-------+-------+\n",
      "\n",
      "+-------+-------+\n",
      "|matflag|  count|\n",
      "+-------+-------+\n",
      "|   null| 138429|\n",
      "|      M|2957884|\n",
      "+-------+-------+\n",
      "\n",
      "+-------+-----+\n",
      "|biryear|count|\n",
      "+-------+-----+\n",
      "| 1988.0|65566|\n",
      "| 1951.0|34141|\n",
      "| 1976.0|66568|\n",
      "| 1940.0|10897|\n",
      "| 1928.0|  884|\n",
      "| 1979.0|66494|\n",
      "| 1953.0|38333|\n",
      "| 1913.0|    1|\n",
      "| 1987.0|67762|\n",
      "| 1909.0|    1|\n",
      "| 1959.0|47674|\n",
      "| 1934.0| 3784|\n",
      "| 1978.0|64262|\n",
      "| 1968.0|57420|\n",
      "| 2010.0|15773|\n",
      "|   null|  802|\n",
      "| 1936.0| 5635|\n",
      "| 1902.0|    1|\n",
      "| 1967.0|56041|\n",
      "| 1964.0|56579|\n",
      "+-------+-----+\n",
      "only showing top 20 rows\n",
      "\n",
      "+--------+-----+\n",
      "| dtaddto|count|\n",
      "+--------+-----+\n",
      "|09282016|  632|\n",
      "|02282017|    5|\n",
      "|10202017|    5|\n",
      "|11292017|    3|\n",
      "|11162016|    2|\n",
      "|01102017|    6|\n",
      "|06152016|  357|\n",
      "|03152017|    6|\n",
      "|03262017|    4|\n",
      "|11142016|    8|\n",
      "|01192018|    8|\n",
      "|04102016|  125|\n",
      "|07032016|47182|\n",
      "|07202019|    3|\n",
      "|06082019|    1|\n",
      "|05232016| 3351|\n",
      "|08042016|  112|\n",
      "|03292017|   11|\n",
      "|04082018|  762|\n",
      "|08042017|    4|\n",
      "+--------+-----+\n",
      "only showing top 20 rows\n",
      "\n",
      "+------+-------+\n",
      "|gender|  count|\n",
      "+------+-------+\n",
      "|     F|1302743|\n",
      "|  null| 414269|\n",
      "|     M|1377224|\n",
      "|     U|    467|\n",
      "|     X|   1610|\n",
      "+------+-------+\n",
      "\n",
      "+------+-----+\n",
      "|insnum|count|\n",
      "+------+-----+\n",
      "|  5325|    7|\n",
      "|  3414|   10|\n",
      "|  7252|    3|\n",
      "|  4032|    1|\n",
      "|  3959|    2|\n",
      "| 39645|    1|\n",
      "| 39590|    1|\n",
      "|   691|    1|\n",
      "| 39458|    1|\n",
      "|  4821|    1|\n",
      "|  5023|   10|\n",
      "|  3517|  543|\n",
      "|  5149|   14|\n",
      "|  3441|    9|\n",
      "|  5067|    1|\n",
      "|  3281|   39|\n",
      "|  3826|    1|\n",
      "| 38900|    2|\n",
      "|  3650|   16|\n",
      "|  1669|    3|\n",
      "+------+-----+\n",
      "only showing top 20 rows\n",
      "\n",
      "+-------+------+\n",
      "|airline| count|\n",
      "+-------+------+\n",
      "|     LT|     2|\n",
      "|     MM|     1|\n",
      "|     DZ|     4|\n",
      "|     CI| 17466|\n",
      "|    447|     1|\n",
      "|    YFA|     1|\n",
      "|     TC|     2|\n",
      "|     AZ| 17610|\n",
      "|     FI| 11429|\n",
      "|    R0E|    21|\n",
      "|    B01|     1|\n",
      "|    78B|     1|\n",
      "|     UA|264271|\n",
      "|     EA|   753|\n",
      "|     Q7|     7|\n",
      "|     VP|     2|\n",
      "|    FYG|     5|\n",
      "|    CHP|     1|\n",
      "|    743|     6|\n",
      "|     3M|   669|\n",
      "+-------+------+\n",
      "only showing top 20 rows\n",
      "\n",
      "+---------------+-----+\n",
      "|         admnum|count|\n",
      "+---------------+-----+\n",
      "|5.5412292033E10|    1|\n",
      "|5.5457659733E10|    1|\n",
      "|5.5427268533E10|    1|\n",
      "|5.5454626433E10|    1|\n",
      "|5.5415501233E10|    1|\n",
      "|5.5419999333E10|    1|\n",
      "|5.5432153433E10|    1|\n",
      "|5.5420421033E10|    1|\n",
      "|5.5463666633E10|    1|\n",
      "|5.5437022833E10|    1|\n",
      "| 9.249575503E10|    1|\n",
      "|5.5438157633E10|    1|\n",
      "| 9.246162853E10|    1|\n",
      "| 9.248399983E10|    1|\n",
      "|5.5438886333E10|    1|\n",
      "|5.5415379333E10|    1|\n",
      "|5.5415756033E10|    1|\n",
      "|5.5463016733E10|    1|\n",
      "|5.5463931533E10|    1|\n",
      "|5.5447111633E10|    1|\n",
      "+---------------+-----+\n",
      "only showing top 20 rows\n",
      "\n",
      "+-----+-----+\n",
      "|fltno|count|\n",
      "+-----+-----+\n",
      "|00456| 7916|\n",
      "| 1159|   11|\n",
      "|00530| 2582|\n",
      "| 1512|    3|\n",
      "|  296|   41|\n",
      "| 3606|    2|\n",
      "|00556|  566|\n",
      "|0059C|    1|\n",
      "| 2294|   44|\n",
      "|0990C|    8|\n",
      "|N800P|    4|\n",
      "|10096|   15|\n",
      "|  691|    2|\n",
      "|04319|  101|\n",
      "|XAGPR|    5|\n",
      "|00332|    3|\n",
      "| 4821|   13|\n",
      "|B8095|   17|\n",
      "|N415S|    8|\n",
      "|02090|   36|\n",
      "+-----+-----+\n",
      "only showing top 20 rows\n",
      "\n",
      "+--------+-------+\n",
      "|visatype|  count|\n",
      "+--------+-------+\n",
      "|      F2|   2984|\n",
      "|     GMB|    150|\n",
      "|      B2|1117897|\n",
      "|      F1|  39016|\n",
      "|     CPL|     10|\n",
      "|      I1|    234|\n",
      "|      WB| 282983|\n",
      "|      M1|   1317|\n",
      "|      B1| 212410|\n",
      "|      WT|1309059|\n",
      "|      M2|     49|\n",
      "|      CP|  14758|\n",
      "|     GMT|  89133|\n",
      "|      E1|   3743|\n",
      "|       I|   3176|\n",
      "|      E2|  19383|\n",
      "|     SBP|     11|\n",
      "+--------+-------+\n",
      "\n"
     ]
    }
   ],
   "source": [
    "for col in df_imm.columns:\n",
    "    df_imm.select([col]).groupBy([col]).count().show()"
   ]
  },
  {
   "cell_type": "code",
   "execution_count": 7,
=======
   "execution_count": 10,
>>>>>>> ca38c09ccade222867059d7d8c9c93e5b7c798a9
   "metadata": {
    "editable": true
   },
   "outputs": [],
   "source": [
    "fname = '../../data2/GlobalLandTemperaturesByCity.csv'\n",
<<<<<<< HEAD
    "df_temp = spark.read.csv(fname, header=True)"
=======
    "df = pd.read_csv(fname)"
>>>>>>> ca38c09ccade222867059d7d8c9c93e5b7c798a9
   ]
  },
  {
   "cell_type": "code",
   "execution_count": 11,
   "metadata": {
    "editable": true
   },
   "outputs": [
    {
     "data": {
      "text/plain": [
<<<<<<< HEAD
       "8599212"
=======
       "dt                               8599212\n",
       "AverageTemperature               8235082\n",
       "AverageTemperatureUncertainty    8235082\n",
       "City                             8599212\n",
       "Country                          8599212\n",
       "Latitude                         8599212\n",
       "Longitude                        8599212\n",
       "dtype: int64"
>>>>>>> ca38c09ccade222867059d7d8c9c93e5b7c798a9
      ]
     },
     "execution_count": 11,
     "metadata": {},
     "output_type": "execute_result"
    }
   ],
   "source": [
<<<<<<< HEAD
    "df_temp.count()"
   ]
  },
  {
   "cell_type": "code",
   "execution_count": 8,
   "metadata": {
    "editable": true
   },
   "outputs": [
    {
     "name": "stdout",
     "output_type": "stream",
     "text": [
      "+----------+------------------+-----------------------------+-----+-------+--------+---------+\n",
      "|        dt|AverageTemperature|AverageTemperatureUncertainty| City|Country|Latitude|Longitude|\n",
      "+----------+------------------+-----------------------------+-----+-------+--------+---------+\n",
      "|1743-11-01|             6.068|           1.7369999999999999|Århus|Denmark|  57.05N|   10.33E|\n",
      "|1743-12-01|              null|                         null|Århus|Denmark|  57.05N|   10.33E|\n",
      "|1744-01-01|              null|                         null|Århus|Denmark|  57.05N|   10.33E|\n",
      "|1744-02-01|              null|                         null|Århus|Denmark|  57.05N|   10.33E|\n",
      "|1744-03-01|              null|                         null|Århus|Denmark|  57.05N|   10.33E|\n",
      "+----------+------------------+-----------------------------+-----+-------+--------+---------+\n",
      "only showing top 5 rows\n",
      "\n"
     ]
    }
   ],
   "source": [
    "df_temp.show(5)"
   ]
  },
  {
   "cell_type": "code",
   "execution_count": 10,
   "metadata": {
    "editable": true
   },
   "outputs": [
    {
     "name": "stdout",
     "output_type": "stream",
     "text": [
      "root\n",
      " |-- dt: string (nullable = true)\n",
      " |-- AverageTemperature: string (nullable = true)\n",
      " |-- AverageTemperatureUncertainty: string (nullable = true)\n",
      " |-- City: string (nullable = true)\n",
      " |-- Country: string (nullable = true)\n",
      " |-- Latitude: string (nullable = true)\n",
      " |-- Longitude: string (nullable = true)\n",
      "\n"
     ]
    }
   ],
   "source": [
    "df_temp.printSchema()"
   ]
  },
  {
   "cell_type": "code",
   "execution_count": 6,
   "metadata": {
    "editable": true
   },
   "outputs": [],
   "source": [
    "fname = 'airport-codes_csv.csv'\n",
    "df_air = spark.read.csv(fname, header=True)"
   ]
  },
  {
   "cell_type": "code",
   "execution_count": 7,
   "metadata": {
    "editable": true
   },
   "outputs": [
    {
     "name": "stdout",
     "output_type": "stream",
     "text": [
      "root\n",
      " |-- ident: string (nullable = true)\n",
      " |-- type: string (nullable = true)\n",
      " |-- name: string (nullable = true)\n",
      " |-- elevation_ft: string (nullable = true)\n",
      " |-- continent: string (nullable = true)\n",
      " |-- iso_country: string (nullable = true)\n",
      " |-- iso_region: string (nullable = true)\n",
      " |-- municipality: string (nullable = true)\n",
      " |-- gps_code: string (nullable = true)\n",
      " |-- iata_code: string (nullable = true)\n",
      " |-- local_code: string (nullable = true)\n",
      " |-- coordinates: string (nullable = true)\n",
      "\n"
     ]
    }
   ],
   "source": [
    "df_air.printSchema()"
   ]
  },
  {
   "cell_type": "code",
   "execution_count": 9,
   "metadata": {
    "editable": true
   },
   "outputs": [
    {
     "name": "stdout",
     "output_type": "stream",
     "text": [
      "+-----+-------------+--------------------+------------+---------+-----------+----------+------------+--------+---------+----------+--------------------+\n",
      "|ident|         type|                name|elevation_ft|continent|iso_country|iso_region|municipality|gps_code|iata_code|local_code|         coordinates|\n",
      "+-----+-------------+--------------------+------------+---------+-----------+----------+------------+--------+---------+----------+--------------------+\n",
      "|  00A|     heliport|   Total Rf Heliport|          11|       NA|         US|     US-PA|    Bensalem|     00A|     null|       00A|-74.9336013793945...|\n",
      "| 00AA|small_airport|Aero B Ranch Airport|        3435|       NA|         US|     US-KS|       Leoti|    00AA|     null|      00AA|-101.473911, 38.7...|\n",
      "| 00AK|small_airport|        Lowell Field|         450|       NA|         US|     US-AK|Anchor Point|    00AK|     null|      00AK|-151.695999146, 5...|\n",
      "| 00AL|small_airport|        Epps Airpark|         820|       NA|         US|     US-AL|     Harvest|    00AL|     null|      00AL|-86.7703018188476...|\n",
      "| 00AR|       closed|Newport Hospital ...|         237|       NA|         US|     US-AR|     Newport|    null|     null|      null| -91.254898, 35.6087|\n",
      "+-----+-------------+--------------------+------------+---------+-----------+----------+------------+--------+---------+----------+--------------------+\n",
      "only showing top 5 rows\n",
      "\n"
     ]
    }
   ],
   "source": [
    "df_air.show(5)"
   ]
  },
  {
   "cell_type": "code",
   "execution_count": 15,
   "metadata": {
    "editable": true
   },
   "outputs": [],
   "source": [
    "fname = 'us-cities-demographics.csv'\n",
    "df_demo = spark.read.csv(fname, header=True, sep=';')"
   ]
  },
  {
   "cell_type": "code",
   "execution_count": 16,
   "metadata": {
    "editable": true
   },
   "outputs": [
    {
     "name": "stdout",
     "output_type": "stream",
     "text": [
      "root\n",
      " |-- City: string (nullable = true)\n",
      " |-- State: string (nullable = true)\n",
      " |-- Median Age: string (nullable = true)\n",
      " |-- Male Population: string (nullable = true)\n",
      " |-- Female Population: string (nullable = true)\n",
      " |-- Total Population: string (nullable = true)\n",
      " |-- Number of Veterans: string (nullable = true)\n",
      " |-- Foreign-born: string (nullable = true)\n",
      " |-- Average Household Size: string (nullable = true)\n",
      " |-- State Code: string (nullable = true)\n",
      " |-- Race: string (nullable = true)\n",
      " |-- Count: string (nullable = true)\n",
      "\n"
     ]
    }
   ],
   "source": [
    "df_demo.printSchema()"
   ]
  },
  {
   "cell_type": "code",
   "execution_count": 18,
   "metadata": {
    "editable": true
   },
   "outputs": [
    {
     "name": "stdout",
     "output_type": "stream",
     "text": [
      "+----------------+-------------+----------+---------------+-----------------+----------------+------------------+------------+----------------------+----------+--------------------+-----+\n",
      "|            City|        State|Median Age|Male Population|Female Population|Total Population|Number of Veterans|Foreign-born|Average Household Size|State Code|                Race|Count|\n",
      "+----------------+-------------+----------+---------------+-----------------+----------------+------------------+------------+----------------------+----------+--------------------+-----+\n",
      "|   Silver Spring|     Maryland|      33.8|          40601|            41862|           82463|              1562|       30908|                   2.6|        MD|  Hispanic or Latino|25924|\n",
      "|          Quincy|Massachusetts|      41.0|          44129|            49500|           93629|              4147|       32935|                  2.39|        MA|               White|58723|\n",
      "|          Hoover|      Alabama|      38.5|          38040|            46799|           84839|              4819|        8229|                  2.58|        AL|               Asian| 4759|\n",
      "|Rancho Cucamonga|   California|      34.5|          88127|            87105|          175232|              5821|       33878|                  3.18|        CA|Black or African-...|24437|\n",
      "|          Newark|   New Jersey|      34.6|         138040|           143873|          281913|              5829|       86253|                  2.73|        NJ|               White|76402|\n",
      "+----------------+-------------+----------+---------------+-----------------+----------------+------------------+------------+----------------------+----------+--------------------+-----+\n",
      "only showing top 5 rows\n",
      "\n"
     ]
    }
   ],
   "source": [
    "df_demo.show(5)"
=======
    "df.count()"
>>>>>>> ca38c09ccade222867059d7d8c9c93e5b7c798a9
   ]
  },
  {
   "cell_type": "markdown",
   "metadata": {
    "editable": true
   },
   "source": [
    "### Step 2: Explore and Assess the Data\n",
    "#### Explore the Data \n",
    "Identify data quality issues, like missing values, duplicate data, etc.\n",
    "\n",
    "#### Cleaning Steps\n",
    "Document steps necessary to clean the data"
   ]
  },
  {
   "cell_type": "code",
   "execution_count": null,
   "metadata": {
    "editable": true
   },
   "outputs": [],
   "source": [
    "# Performing cleaning tasks here\n",
    "\n",
    "\n",
    "\n"
   ]
  },
  {
   "cell_type": "markdown",
   "metadata": {
    "editable": true
   },
   "source": [
    "### Step 3: Define the Data Model\n",
    "#### 3.1 Conceptual Data Model\n",
    "Map out the conceptual data model and explain why you chose that model\n",
    "\n",
    "#### 3.2 Mapping Out Data Pipelines\n",
    "List the steps necessary to pipeline the data into the chosen data model"
   ]
  },
  {
   "cell_type": "markdown",
   "metadata": {
    "editable": true
   },
   "source": [
    "### Step 4: Run Pipelines to Model the Data \n",
    "#### 4.1 Create the data model\n",
    "Build the data pipelines to create the data model."
   ]
  },
  {
   "cell_type": "code",
   "execution_count": null,
   "metadata": {
    "editable": true
   },
   "outputs": [],
   "source": [
    "# Write code here"
   ]
  },
  {
   "cell_type": "markdown",
   "metadata": {
    "editable": true
   },
   "source": [
    "#### 4.2 Data Quality Checks\n",
    "Explain the data quality checks you'll perform to ensure the pipeline ran as expected. These could include:\n",
    " * Integrity constraints on the relational database (e.g., unique key, data type, etc.)\n",
    " * Unit tests for the scripts to ensure they are doing the right thing\n",
    " * Source/Count checks to ensure completeness\n",
    " \n",
    "Run Quality Checks"
   ]
  },
  {
   "cell_type": "code",
   "execution_count": null,
   "metadata": {
    "editable": true
   },
   "outputs": [],
   "source": [
    "# Perform quality checks here"
   ]
  },
  {
   "cell_type": "markdown",
   "metadata": {
    "editable": true
   },
   "source": [
    "#### 4.3 Data dictionary \n",
    "Create a data dictionary for your data model. For each field, provide a brief description of what the data is and where it came from. You can include the data dictionary in the notebook or in a separate file."
   ]
  },
  {
   "cell_type": "markdown",
   "metadata": {
    "editable": true
   },
   "source": [
    "#### Step 5: Complete Project Write Up\n",
    "* Clearly state the rationale for the choice of tools and technologies for the project.\n",
    "* Propose how often the data should be updated and why.\n",
    "* Write a description of how you would approach the problem differently under the following scenarios:\n",
    " * The data was increased by 100x.\n",
    " * The data populates a dashboard that must be updated on a daily basis by 7am every day.\n",
    " * The database needed to be accessed by 100+ people."
   ]
  },
  {
   "cell_type": "code",
   "execution_count": null,
   "metadata": {
    "editable": true
   },
   "outputs": [],
   "source": []
  },
  {
   "cell_type": "code",
   "execution_count": null,
   "metadata": {
    "editable": true
   },
   "outputs": [],
   "source": []
  },
  {
   "cell_type": "code",
   "execution_count": null,
   "metadata": {
    "editable": true
   },
   "outputs": [],
   "source": []
  },
  {
   "cell_type": "code",
   "execution_count": null,
   "metadata": {
    "editable": true
   },
   "outputs": [],
   "source": []
  },
  {
   "cell_type": "code",
   "execution_count": null,
   "metadata": {
    "editable": true
   },
   "outputs": [],
   "source": []
  },
  {
   "cell_type": "code",
   "execution_count": null,
   "metadata": {
    "editable": true
   },
   "outputs": [],
   "source": []
  }
 ],
 "metadata": {
  "kernelspec": {
   "display_name": "Python 3",
   "language": "python",
   "name": "python3"
  },
  "language_info": {
   "codemirror_mode": {
    "name": "ipython",
    "version": 3
   },
   "file_extension": ".py",
   "mimetype": "text/x-python",
   "name": "python",
   "nbconvert_exporter": "python",
   "pygments_lexer": "ipython3",
   "version": "3.6.3"
  }
 },
 "nbformat": 4,
 "nbformat_minor": 4
}
