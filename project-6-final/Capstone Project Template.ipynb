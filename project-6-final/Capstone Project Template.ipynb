{
 "cells": [
  {
   "cell_type": "markdown",
   "metadata": {
    "editable": true
   },
   "source": [
    "# Project Title\n",
    "### Data Engineering Capstone Project\n",
    "\n",
    "#### Project Summary\n",
    "--describe your project at a high level--\n",
    "\n",
    "The project follows the follow steps:\n",
    "* Step 1: Scope the Project and Gather Data\n",
    "* Step 2: Explore and Assess the Data\n",
    "* Step 3: Define the Data Model\n",
    "* Step 4: Run ETL to Model the Data\n",
    "* Step 5: Complete Project Write Up"
   ]
  },
  {
   "cell_type": "code",
   "execution_count": 1,
   "metadata": {
    "editable": true
   },
   "outputs": [],
   "source": [
    "# Do all imports and installs here\n",
    "import pandas as pd"
   ]
  },
  {
   "cell_type": "markdown",
   "metadata": {
    "editable": true
   },
   "source": [
    "### Step 1: Scope the Project and Gather Data\n",
    "\n",
    "#### Scope \n",
    "Explain what you plan to do in the project in more detail. What data do you use? What is your end solution look like? What tools did you use? etc>\n",
    "\n",
    "#### Describe and Gather Data \n",
    "Describe the data sets you're using. Where did it come from? What type of information is included? "
   ]
  },
  {
   "cell_type": "code",
   "execution_count": 2,
   "metadata": {
    "editable": true
   },
   "outputs": [],
   "source": [
    "# Read in the data here\n",
    "fname = '../../data/18-83510-I94-Data-2016/i94_apr16_sub.sas7bdat'\n",
    "#df = pd.read_sas(fname, 'sas7bdat', encoding=\"ISO-8859-1\")"
   ]
  },
  {
   "cell_type": "code",
   "execution_count": 29,
   "metadata": {
    "editable": true
   },
   "outputs": [],
   "source": [
    "\t\n",
    "from pyspark.sql import SparkSession\n",
    "from pyspark.sql import column as col\n",
    "from pyspark.sql.types import DoubleType\n",
    "spark = SparkSession.builder.\\\n",
    "config(\"spark.jars.packages\",\"saurfang:spark-sas7bdat:2.0.0-s_2.11\")\\\n",
    ".enableHiveSupport().getOrCreate()\n",
    "df_imm =spark.read.format('com.github.saurfang.sas.spark').load('../../data/18-83510-I94-Data-2016/i94_apr16_sub.sas7bdat')\n"
   ]
  },
  {
   "cell_type": "code",
   "execution_count": 28,
   "metadata": {
    "editable": true
   },
   "outputs": [],
   "source": [
    "#df_immDesc = pd.read_sas('I94_SAS_Labels_Descriptions.SAS', format='SAS7BDAT')"
   ]
  },
  {
   "cell_type": "code",
   "execution_count": 30,
   "metadata": {
    "editable": true
   },
   "outputs": [],
   "source": [
    "df_imm = df_imm.selectExpr([\"cicid AS  id\",\n",
    "                            \"i94yr AS  year\",\n",
    "                            \"i94mon AS month\",\n",
    "                            \"i94res AS origin_country_id\",\n",
    "                            \"i94port AS city_id\",\n",
    "                            \"arrdate AS arrival_date\",\n",
    "                            \"i94mode AS transport_mode\",\n",
    "                            \"depdate AS departure_date\",\n",
    "                            \"i94visa AS visa_purpose\",\n",
    "                            \"visatype AS visa_type\",\n",
    "                            \"biryear AS birth_year\",\n",
    "                            \"gender\",\n",
    "                            \"admnum AS admin_num\",\n",
    "                            \"airline AS airline_code\",\n",
    "                            \"fltno AS flight_number\"])"
   ]
  },
  {
   "cell_type": "code",
   "execution_count": 18,
   "metadata": {
    "editable": true
   },
   "outputs": [
    {
     "name": "stdout",
     "output_type": "stream",
     "text": [
      "+----+------+-----+-----------------+-------+------------+--------------+--------------+------------+---------+----------+------+--------------+------------+-------------+\n",
      "|  id|  year|month|origin_country_id|city_id|arrival_date|transport_mode|departure_date|visa_purpose|visa_type|birth_year|gender|     admin_num|airline_code|flight_number|\n",
      "+----+------+-----+-----------------+-------+------------+--------------+--------------+------------+---------+----------+------+--------------+------------+-------------+\n",
      "| 6.0|2016.0|  4.0|            692.0|    XXX|     20573.0|          null|          null|         2.0|       B2|    1979.0|  null| 1.897628485E9|        null|         null|\n",
      "| 7.0|2016.0|  4.0|            276.0|    ATL|     20551.0|           1.0|          null|         3.0|       F1|    1991.0|     M|  3.73679633E9|        null|        00296|\n",
      "|15.0|2016.0|  4.0|            101.0|    WAS|     20545.0|           1.0|       20691.0|         2.0|       B2|    1961.0|     M|  6.66643185E8|          OS|           93|\n",
      "|16.0|2016.0|  4.0|            101.0|    NYC|     20545.0|           1.0|       20567.0|         2.0|       B2|    1988.0|  null|9.246846133E10|          AA|        00199|\n",
      "|17.0|2016.0|  4.0|            101.0|    NYC|     20545.0|           1.0|       20567.0|         2.0|       B2|    2012.0|  null|9.246846313E10|          AA|        00199|\n",
      "+----+------+-----+-----------------+-------+------------+--------------+--------------+------------+---------+----------+------+--------------+------------+-------------+\n",
      "only showing top 5 rows\n",
      "\n"
     ]
    }
   ],
   "source": [
    "df_imm.show(5)"
   ]
  },
  {
   "cell_type": "code",
   "execution_count": 31,
   "metadata": {
    "editable": true
   },
   "outputs": [],
   "source": [
    "fname = 'airport-codes_csv.csv'\n",
    "df_airports = spark.read.csv(fname, header=True)\n",
    "df_airports = df_airports.selectExpr([\"iata_code\",\n",
    "                                      \"name\",\n",
    "                                      \"type\",\n",
    "                                      \"municipality AS city\",\n",
    "                                      \"iso_region AS region\",\n",
    "                                      \"iso_country AS country\",\n",
    "                                      \"continent\",\n",
    "                                      \"coordinates\",\n",
    "                                      \"gps_code\",\n",
    "                                      \"local_code\"])"
   ]
  },
  {
   "cell_type": "code",
   "execution_count": 20,
   "metadata": {
    "editable": true
   },
   "outputs": [
    {
     "name": "stdout",
     "output_type": "stream",
     "text": [
      "+---------+--------------------+-------------+------------+------+-------+---------+--------------------+--------+----------+\n",
      "|iata_code|                name|         type|        city|region|country|continent|         coordinates|gps_code|local_code|\n",
      "+---------+--------------------+-------------+------------+------+-------+---------+--------------------+--------+----------+\n",
      "|     null|   Total Rf Heliport|     heliport|    Bensalem| US-PA|     US|       NA|-74.9336013793945...|     00A|       00A|\n",
      "|     null|Aero B Ranch Airport|small_airport|       Leoti| US-KS|     US|       NA|-101.473911, 38.7...|    00AA|      00AA|\n",
      "|     null|        Lowell Field|small_airport|Anchor Point| US-AK|     US|       NA|-151.695999146, 5...|    00AK|      00AK|\n",
      "|     null|        Epps Airpark|small_airport|     Harvest| US-AL|     US|       NA|-86.7703018188476...|    00AL|      00AL|\n",
      "|     null|Newport Hospital ...|       closed|     Newport| US-AR|     US|       NA| -91.254898, 35.6087|    null|      null|\n",
      "+---------+--------------------+-------------+------------+------+-------+---------+--------------------+--------+----------+\n",
      "only showing top 5 rows\n",
      "\n"
     ]
    }
   ],
   "source": [
    "df_airports.show(5)"
   ]
  },
  {
   "cell_type": "code",
   "execution_count": 32,
   "metadata": {
    "editable": true
   },
   "outputs": [],
   "source": [
    "df_join = df_imm.join(df_airports, df_imm.city_id==df_airports.iata_code, 'left')\n",
    "\n",
    "df_imm = df_join.filter(df_join.iata_code.isNotNull())\\\n",
    "                .select([   \"id\",\n",
    "                            \"year\",\n",
    "                            \"month\",\n",
    "                            \"origin_country_id\",\n",
    "                            \"city_id\",\n",
    "                            \"city\",\n",
    "                            \"arrival_date\",\n",
    "                            \"transport_mode\",\n",
    "                            \"departure_date\",\n",
    "                            \"visa_purpose\",\n",
    "                            \"visa_type\",\n",
    "                            \"birth_year\",\n",
    "                            \"gender\",\n",
    "                            \"admin_num\",\n",
    "                            \"airline_code\",\n",
    "                            \"flight_number\"  ])\n",
    "\n",
    "df_airports = df_join.filter(df_join.iata_code.isNotNull())\\\n",
    "                     .select([\"iata_code\",\n",
    "                              \"name\",\n",
    "                              \"type\",\n",
    "                              \"city\",\n",
    "                              \"region\",\n",
    "                              \"country\",\n",
    "                              \"continent\",\n",
    "                              \"coordinates\",\n",
    "                              \"gps_code\",\n",
    "                              \"local_code\"])\\\n",
    "                     .dropDuplicates()\n",
    "                     "
   ]
  },
  {
   "cell_type": "code",
   "execution_count": 26,
   "metadata": {
    "editable": true
   },
   "outputs": [
    {
     "data": {
      "text/plain": [
       "2036075"
      ]
     },
     "execution_count": 26,
     "metadata": {},
     "output_type": "execute_result"
    }
   ],
   "source": [
    "df_imm.count()"
   ]
  },
  {
   "cell_type": "code",
   "execution_count": 33,
   "metadata": {
    "editable": true
   },
   "outputs": [
    {
     "data": {
      "text/plain": [
       "255"
      ]
     },
     "execution_count": 33,
     "metadata": {},
     "output_type": "execute_result"
    }
   ],
   "source": [
    "df_airports.count()"
   ]
  },
  {
   "cell_type": "code",
   "execution_count": 35,
   "metadata": {
    "editable": true
   },
   "outputs": [
    {
     "name": "stdout",
     "output_type": "stream",
     "text": [
      "+---------+--------------------+--------------+--------------------+------+-------+---------+--------------------+--------+----------+\n",
      "|iata_code|                name|          type|                city|region|country|continent|         coordinates|gps_code|local_code|\n",
      "+---------+--------------------+--------------+--------------------+------+-------+---------+--------------------+--------+----------+\n",
      "|      AGA|  Al Massira Airport|medium_airport|              Agadir|MA-AGD|     MA|       AF|-9.41306972503662...|    GMAD|      null|\n",
      "|      TRO|       Taree Airport|medium_airport|               Taree|AU-NSW|     AU|       OC|152.514007568, -3...|    YTRE|      null|\n",
      "|      BEB|   Benbecula Airport|medium_airport|          Balivanich|GB-SCT|     GB|       EU|-7.36278009414672...|    EGPL|      null|\n",
      "|      ORL|Orlando Executive...| small_airport|             Orlando| US-FL|     US|       NA| -81.332901, 28.5455|    KORL|       ORL|\n",
      "|      NRN|       Weeze Airport|medium_airport|               Weeze| DE-NW|     DE|       EU|6.14216995239, 51...|    EDLV|      null|\n",
      "|      BAL|      Batman Airport|medium_airport|              Batman| TR-72|     TR|       AS|41.1166000366, 37...|    LTCJ|      null|\n",
      "|      CHM|Teniente FAP Jaim...|medium_airport|            Chimbote|PE-ANC|     PE|       SA|-78.5238037109375...|    SPEO|      null|\n",
      "|      PBB|  ParanaÃ­ba Airport| small_airport|          ParanaÃ­ba| BR-MS|     BR|       SA|-51.1994018554687...|    SSPN|      SSPN|\n",
      "|      JAC|Jackson Hole Airport|medium_airport|             Jackson| US-WY|     US|       NA|-110.737998962402...|    KJAC|       JAC|\n",
      "|      EDA|Edna Bay Seaplane...| seaplane_base|            Edna Bay| US-AK|     US|       NA|-133.661012, 55.9...|    null|      null|\n",
      "|      YSL|  St Leonard Airport|medium_airport|          St Leonard| CA-NB|     CA|       NA|-67.8347015380859...|    CYSL|      null|\n",
      "|      SDP|  Sand Point Airport|medium_airport|          Sand Point| US-AK|     US|       NA|-160.522994995117...|    PASD|       SDP|\n",
      "|      CHA|        Lovell Field| large_airport|         Chattanooga| US-TN|     US|       NA|-85.2037963867187...|    KCHA|       CHA|\n",
      "|      APF|Naples Municipal ...|medium_airport|              Naples| US-FL|     US|       NA|-81.7752990723, 2...|    KAPF|       APF|\n",
      "|      PIE|St Petersburg Cle...|medium_airport|St Petersburg-Cle...| US-FL|     US|       NA|-82.68740082, 27....|    KPIE|       PIE|\n",
      "|      BRO|Brownsville South...|medium_airport|         Brownsville| US-TX|     US|       NA|-97.4259033203125...|    KBRO|       BRO|\n",
      "|      PSM|Portsmouth Intern...|medium_airport|          Portsmouth| US-NH|     US|       NA|-70.8233032227, 4...|    KPSM|       PSM|\n",
      "|      CLT|Charlotte Douglas...| large_airport|           Charlotte| US-NC|     US|       NA|-80.9430999755859...|    KCLT|       CLT|\n",
      "|      MON|  Mount Cook Airport|medium_airport|                null|NZ-CAN|     NZ|       OC|170.1329956054687...|    NZMC|      null|\n",
      "|      FRT| El Avellano Airport| small_airport|           Frutillar| CL-LL|     CL|       SA|-73.0500030517578...|    SCEV|      null|\n",
      "|      MRC|Maury County Airport| small_airport|Columbia/Mount Pl...| US-TN|     US|       NA|-87.1789016723999...|    KMRC|       MRC|\n",
      "|      SHR|Sheridan County A...|medium_airport|            Sheridan| US-WY|     US|       NA|-106.980003356933...|    KSHR|       SHR|\n",
      "|      OMA|     Eppley Airfield| large_airport|               Omaha| US-NE|     US|       NA| -95.894096, 41.3032|    KOMA|       OMA|\n",
      "|      MAD|Adolfo SuÃ¡rez Ma...| large_airport|              Madrid|  ES-M|     ES|       EU| -3.56264, 40.471926|    LEMD|      null|\n",
      "|      HIG|[Duplicate] Highb...|        closed|            Highbury|AU-QLD|     AU|       OC|143.145996094, -1...|    null|      null|\n",
      "|      HNS|      Haines Airport|medium_airport|              Haines| US-AK|     US|       NA|-135.524002075195...|    PAHN|       HNS|\n",
      "|      CLG|New Coalinga Muni...| small_airport|            Coalinga| US-CA|     US|       NA|-120.293998718261...|    null|       C80|\n",
      "|      BRG|Whitesburg Munici...|        closed|          Whitesburg| US-KY|     US|       NA|   -82.8742, 37.2219|    null|      null|\n",
      "|      MTH|The Florida Keys ...|medium_airport|            Marathon| US-FL|     US|       NA|-81.051399, 24.72...|    KMTH|       MTH|\n",
      "|      WHO|Franz Josef Aerod...| small_airport|                null|NZ-WTC|     NZ|       OC|170.1340026855468...|    NZFJ|      null|\n",
      "|      CHS|Charleston Air Fo...| large_airport|          Charleston| US-SC|     US|       NA|-80.04049683, 32....|    KCHS|       CHS|\n",
      "|      FAL|Falcon State Airport|        closed|                Roma| US-TX|     US|       NA|  -99.13985, 26.5856|    null|      null|\n",
      "|      ROC|Greater Rochester...| large_airport|           Rochester| US-NY|     US|       NA|-77.6724014282226...|    KROC|       ROC|\n",
      "|      SKA|Fairchild Air For...| large_airport|             Spokane| US-WA|     US|       NA|-117.65599823, 47...|    KSKA|       SKA|\n",
      "|      MAI|    Mangochi Airport|medium_airport|            Mangochi| MW-MG|     MW|       AF|35.26699829101562...|    FWMG|      null|\n",
      "|      ONT|Ontario Internati...| large_airport|             Ontario| US-CA|     US|       NA|-117.600997924804...|    KONT|       ONT|\n",
      "|      NRT|Narita Internatio...| large_airport|               Tokyo| JP-12|     JP|       AS|140.386001587, 35...|    RJAA|      null|\n",
      "|      ELP|El Paso Internati...|medium_airport|             El Paso| US-TX|     US|       NA|-106.3779984, 31....|    KELP|       ELP|\n",
      "|      ADS|     Addison Airport| small_airport|              Dallas| US-TX|     US|       NA|-96.8364028931, 3...|    KADS|       ADS|\n",
      "|      VNY|    Van Nuys Airport|medium_airport|            Van Nuys| US-CA|     US|       NA|-118.48999786377,...|    KVNY|       VNY|\n",
      "|      BED|Laurence G Hansco...|medium_airport|             Bedford| US-MA|     US|       NA|-71.28900146, 42....|    KBED|       BED|\n",
      "|      HTM|     Khatgal Airport| small_airport|              Hatgal|MN-041|     MN|       AS|100.139532, 50.43...|    ZMHG|      null|\n",
      "|      HID| Horn Island Airport|medium_airport|         Horn Island|AU-QLD|     AU|       OC|142.289993286, -1...|    YHID|      null|\n",
      "|      SLC|Salt Lake City In...| large_airport|      Salt Lake City| US-UT|     US|       NA|-111.977996826171...|    KSLC|       SLC|\n",
      "|      MCA|     Macenta Airport| small_airport|             Macenta|  GN-N|     GN|       AF| -9.525071, 8.481857|    GUMA|      null|\n",
      "|      DAB|Daytona Beach Int...| large_airport|       Daytona Beach| US-FL|     US|       NA|-81.058098, 29.17...|    KDAB|       DAB|\n",
      "|      STR|   Stuttgart Airport| large_airport|           Stuttgart| DE-BW|     DE|       EU|9.22196006775, 48...|    EDDS|      null|\n",
      "|      PTK|Oakland County In...|medium_airport|             Pontiac| US-MI|     US|       NA|-83.420097351074,...|    KPTK|       PTK|\n",
      "|      FRE|Fera/Maringe Airport| small_airport|         Fera Island| SB-IS|     SB|       OC| 159.576996, -8.1075|    AGGF|      null|\n",
      "|      WIN|      Winton Airport|medium_airport|                null|AU-QLD|     AU|       OC|143.0859985351562...|    YWTN|      null|\n",
      "|      KOA|Ellison Onizuka K...|medium_airport|         Kailua/Kona| US-HI|     US|       NA|-156.045603, 19.7...|    PHKO|       KOA|\n",
      "|      NEW|   Lakefront Airport|medium_airport|         New Orleans| US-LA|     US|       NA|-90.028297424316,...|    KNEW|       NEW|\n",
      "|      CLG|    Coalinga Airport|        closed|                null| US-CA|     US|       NA|-120.360116959, 3...|    null|      null|\n",
      "|      CLM|William R Fairchi...|medium_airport|        Port Angeles| US-WA|     US|       NA|-123.5, 48.120201...|    KCLM|       CLM|\n",
      "|      NOO|       Naoro Airport| small_airport|        Naoro Vilage|PG-CPM|     PG|       OC|147.621352, -9.25...|    null|       NAO|\n",
      "|      CRY|Carlton Hill Airport| small_airport|        Carlton Hill| AU-WA|     AU|       OC|128.5339965820312...|    null|      null|\n",
      "|      PIT|Pittsburgh Intern...| large_airport|          Pittsburgh| US-PA|     US|       NA|-80.23290253, 40....|    KPIT|       PIT|\n",
      "|      SHA|Shanghai Hongqiao...| large_airport|            Shanghai| CN-31|     CN|       AS|121.3359985351562...|    ZSSS|      null|\n",
      "|      ROU|        Ruse Airport|        closed|                Ruse| BG-18|     BG|       EU|26.05669975280000...|    LBRS|      null|\n",
      "|      STT|Cyril E. King Air...|medium_airport|Charlotte Amalie,...|VI-U-A|     VI|       NA|-64.9733963012695...|    TIST|       STT|\n",
      "|      MGM|Montgomery Region...| large_airport|          Montgomery| US-AL|     US|       NA|-86.39399719, 32....|    KMGM|       MGM|\n",
      "|      HSV|Huntsville Intern...| large_airport|          Huntsville| US-AL|     US|       NA|-86.775100708008,...|    KHSV|       HSV|\n",
      "|      ATW|Appleton Internat...| small_airport|            Appleton| US-WI|     US|       NA|-88.5190963745, 4...|    KATW|       ATW|\n",
      "|      REN|Orenburg Central ...|medium_airport|            Orenburg|RU-ORE|     RU|       EU|55.45669937133789...|    UWOO|      null|\n",
      "|      TUC|Teniente Benjamin...|medium_airport|San Miguel de Tuc...|  AR-T|     AR|       SA|-65.104897, -26.8409|    SANT|       TUC|\n",
      "|      MND|      Medina Airport| small_airport|              Medina|CO-CUN|     CO|       SA|-73.283333, 4.516667|    null|       MND|\n",
      "|      SLU|George F. L. Char...|medium_airport|            Castries| LC-02|     LC|       NA| -60.992901, 14.0202|    TLPC|      null|\n",
      "|      SPE|     Sepulot Airport| small_airport|             Sepulot| MY-12|     MY|       AS|116.4670028686523...|    WBKO|      null|\n",
      "|      CNA|Cananea National ...| small_airport|             Cananea|MX-SON|     MX|       NA|-110.097878, 31.0...|    MMCA|       CNA|\n",
      "|      PHO|  Point Hope Airport| small_airport|          Point Hope| US-AK|     US|       NA|-166.798995971679...|    PAPO|       PHO|\n",
      "|      ALC|Alicante Internat...| large_airport|            Alicante|  ES-V|     ES|       EU|-0.55815601348876...|    LEAL|      null|\n",
      "|      PHF|Newport News Will...| large_airport|        Newport News| US-VA|     US|       NA|-76.49299622, 37....|    KPHF|       PHF|\n",
      "|      DPA|      Dupage Airport|medium_airport|Chicago/West Chicago| US-IL|     US|       NA|-88.24859619, 41....|    KDPA|       DPA|\n",
      "|      DAL|   Dallas Love Field| large_airport|              Dallas| US-TX|     US|       NA|-96.851799, 32.84...|    KDAL|       DAL|\n",
      "|      SNA|John Wayne Airpor...| large_airport|           Santa Ana| US-CA|     US|       NA|-117.8679962, 33....|    KSNA|       SNA|\n",
      "|      FAR|Hector Internatio...|medium_airport|               Fargo| US-ND|     US|       NA|-96.8158035278320...|    KFAR|       FAR|\n",
      "|      FOK|Francis S Gabresk...| small_airport|   Westhampton Beach| US-NY|     US|       NA|-72.6317977905, 4...|    KFOK|       FOK|\n",
      "|      BOA|        Boma Airport| small_airport|                Boma| CD-BC|     CD|       AF|13.06400012969970...|    FZAJ|      null|\n",
      "|      HAR|Capital City Airport| small_airport|          Harrisburg| US-PA|     US|       NA|-76.8515014648000...|    KCXY|       CXY|\n",
      "|      TKI|Tokeen Seaplane Base| seaplane_base|              Tokeen| US-AK|     US|       NA|-133.32699585, 55...|     57A|       57A|\n",
      "|      LYN|   Lyon-Bron Airport|medium_airport|           Lyon/Bron|  FR-V|     FR|       EU|4.944270133972168...|    LFLY|      null|\n",
      "|      MOB|Mobile Regional A...| large_airport|              Mobile| US-AL|     US|       NA|-88.242797851562,...|    KMOB|       MOB|\n",
      "|      SUM|      Sumter Airport| small_airport|              Sumter| US-SC|     US|       NA|-80.361297607422,...|    KSMS|       SMS|\n",
      "|      LAU|      Manda Airstrip|medium_airport|                Lamu|KE-300|     KE|       AF|40.91310119628906...|    HKLU|      null|\n",
      "|      HPN|Westchester Count...|medium_airport|        White Plains| US-NY|     US|       NA|-73.7076034545898...|    KHPN|       HPN|\n",
      "|      MYR|Myrtle Beach Inte...|medium_airport|        Myrtle Beach| US-SC|     US|       NA|-78.9282989502, 3...|    KMYR|       MYR|\n",
      "|      AGN|Angoon Seaplane Base| seaplane_base|              Angoon| US-AK|     US|       NA|-134.585007, 57.5...|    PAGN|       AGN|\n",
      "|      ANC|Ted Stevens Ancho...| large_airport|           Anchorage| US-AK|     US|       NA|-149.996002197265...|    PANC|       ANC|\n",
      "|      RST|Rochester Interna...| large_airport|           Rochester| US-MN|     US|       NA|-92.5, 43.9082984...|    KRST|       RST|\n",
      "|      ANA|      Angama Airport| small_airport|         Maasai Mara|KE-700|     KE|       AF| 34.955513, -1.27156|    HKOM|      null|\n",
      "|      WPB| Port BergÃ© Airport| small_airport|         Port BergÃ©|  MG-M|     MG|       AF|47.623587, -15.58...|    FMNG|      null|\n",
      "|      PEN|Penang Internatio...|medium_airport|              Penang| MY-07|     MY|       AS|100.2770004272461...|    WMKP|      null|\n",
      "|      FWA|Fort Wayne Intern...| large_airport|          Fort Wayne| US-IN|     US|       NA|-85.19509888, 40....|    KFWA|       FWA|\n",
      "|      SYS|   Saskylakh Airport|medium_airport|           Saskylakh| RU-SA|     RU|       EU|114.08000183105, ...|    UERS|      null|\n",
      "|      BAU|       Bauru Airport|medium_airport|               Bauru| BR-SP|     BR|       SA|-49.0537986755, -...|    SBBU|      null|\n",
      "|      BHX|Birmingham Intern...| large_airport|          Birmingham|GB-ENG|     GB|       EU|-1.74802994728, 5...|    EGBB|      null|\n",
      "|      OTM|Ottumwa Regional ...|medium_airport|             Ottumwa| US-IA|     US|       NA|-92.44789886, 41....|    KOTM|       OTM|\n",
      "|      DNA|     Kadena Air Base| large_airport|                null| JP-47|     JP|       AS| 127.767998, 26.3556|    RODN|      null|\n",
      "|      POR|        Pori Airport|medium_airport|                Pori| FI-LS|     FI|       EU|21.799999237061, ...|    EFPO|      null|\n",
      "|      NIA|       Nimba Airport| small_airport|               Nimba| LR-NI|     LR|       AF|-8.60000038146972...|    GLNA|      null|\n",
      "|      DVL|Devils Lake Regio...| small_airport|         Devils Lake| US-ND|     US|       NA|-98.90879822, 48....|    KDVL|       DVL|\n",
      "|      NEC|    Necochea Airport|medium_airport|            Necochea|  AR-B|     AR|       SA|  -58.8172, -38.4831|    SAZO|       NEC|\n",
      "|      DUB|      Dublin Airport| large_airport|              Dublin|  IE-D|     IE|       EU| -6.27007, 53.421299|    EIDW|      null|\n",
      "|      TAM|General Francisco...|medium_airport|             Tampico|MX-TAM|     MX|       NA|-97.8658981323, 2...|    MMTM|      null|\n",
      "|      RDU|Raleigh Durham In...| large_airport|      Raleigh/Durham| US-NC|     US|       NA|-78.7874984741211...|    KRDU|       RDU|\n",
      "|      COO|   Cadjehoun Airport|medium_airport|             Cotonou| BJ-AQ|     BJ|       AF|2.384350061416626...|    DBBB|      null|\n",
      "|      MMU|Morristown Munici...|medium_airport|          Morristown| US-NJ|     US|       NA|-74.4149017333984...|    KMMU|       MMU|\n",
      "|      VIB|Villa ConstituciÃ...|        closed|Ciudad ConstituciÃ³n|MX-BCS|     MX|       NA|  -111.6874, 25.0552|    null|      null|\n",
      "|      MIA|Miami Internation...| large_airport|               Miami| US-FL|     US|       NA|-80.2906036376953...|    KMIA|       MIA|\n",
      "|      SGR|Sugar Land Region...|medium_airport|             Houston| US-TX|     US|       NA|-95.65650177002, ...|    KSGR|       SGR|\n",
      "|      CPX|Benjamin Rivera N...| small_airport|      Culebra Island|PR-U-A|     PR|       NA|-65.304324, 18.31...|    TJCP|       CPX|\n",
      "|      SCH|Schenectady Count...|medium_airport|         Schenectady| US-NY|     US|       NA|-73.928901672363,...|    KSCH|       SCH|\n",
      "|      MOO|      Moomba Airport| small_airport|                null| AU-SA|     AU|       OC|140.1970062255859...|    YOOM|      null|\n",
      "|      NIG|     Nikunau Airport| small_airport|             Nikunau|  KI-G|     KI|       OC|176.410003662, -1...|    NGNU|      null|\n",
      "|      SFR|San Fernando Airport|        closed|         Los Angeles| US-CA|     US|       NA|    -118.422, 34.289|    null|      null|\n",
      "|      FRI|Marshall Army Air...|medium_airport|Fort Riley(Juncti...| US-KS|     US|       NA|-96.76450348, 39....|    KFRI|       FRI|\n",
      "|      FRB|      Forbes Airport|medium_airport|              Forbes|AU-NSW|     AU|       OC|147.934998, -33.3...|    YFBS|      null|\n",
      "|      OGG|     Kahului Airport|medium_airport|             Kahului| US-HI|     US|       NA|-156.429993, 20.8986|    PHOG|       OGG|\n",
      "|      CLE|Cleveland Hopkins...| large_airport|           Cleveland| US-OH|     US|       NA|-81.8498001099, 4...|    KCLE|       CLE|\n",
      "|      BLA|General JosÃ© Ant...| large_airport|           Barcelona|  VE-B|     VE|       SA|-64.692222, 10.11...|    SVBC|      null|\n",
      "|      COB|    Coolibah Airport| small_airport|            Coolibah| AU-NT|     AU|       OC|130.9620056152343...|    null|      null|\n",
      "|      BWM|Bowman Regional A...| small_airport|              Bowman| US-ND|     US|       NA|-103.30075, 46.16...|    KBWW|       BWW|\n",
      "|      DLR|Dalnerechensk Air...| small_airport|       Dalnerechensk|RU-PRI|     RU|       EU|   133.7363, 45.8783|    UHHD|      null|\n",
      "|      PIR|Pierre Regional A...|medium_airport|              Pierre| US-SD|     US|       NA|-100.2860031, 44....|    KPIR|       PIR|\n",
      "|      BWA|Gautam Buddha Air...|medium_airport|            Bhairawa| NP-LU|     NP|       AS|83.416293, 27.505685|    VNBW|      null|\n",
      "|      PSP|Palm Springs Inte...|medium_airport|        Palm Springs| US-CA|     US|       NA|-116.507003784179...|    KPSP|       PSP|\n",
      "|      ERC|    Erzincan Airport|medium_airport|            Erzincan| TR-24|     TR|       AS|39.52700042719999...|    LTCD|      null|\n",
      "|      ATL|Hartsfield Jackso...| large_airport|             Atlanta| US-GA|     US|       NA| -84.428101, 33.6367|    KATL|       ATL|\n",
      "|      LLB|        Libo Airport| small_airport|         Libo County| CN-52|     CN|       AS| 107.961667, 25.4525|    ZULB|      null|\n",
      "|      PVD|Theodore Francis ...|medium_airport|          Providence| US-RI|     US|       NA|-71.4204025268554...|    KPVD|       PVD|\n",
      "|      LIH|       Lihue Airport|medium_airport|               Lihue| US-HI|     US|       NA|-159.339004516601...|    PHLI|       LIH|\n",
      "|      MAF|Midland Internati...|medium_airport|             Midland| US-TX|     US|       NA|-102.202003479003...|    KMAF|       MAF|\n",
      "|      LOI|Helmuth Baungarte...| small_airport|             Lontras| BR-SC|     BR|       SA|-49.5424995422, -...|    SSLN|      SSLN|\n",
      "|      CIN|Arthur N Neu Airport| small_airport|             Carroll| US-IA|     US|       NA|-94.7890014648000...|    KCIN|       CIN|\n",
      "|      AXB|     Maxson Airfield| small_airport|      Alexandria Bay| US-NY|     US|       NA|-75.90034, 44.312002|    89NY|      89NY|\n",
      "|      THO|   Thorshofn Airport| small_airport|           Thorshofn|  IS-6|     IS|       EU|-15.3355998992919...|    BITN|      null|\n",
      "|      LWT|Lewistown Municip...|medium_airport|           Lewistown| US-MT|     US|       NA|-109.467002868652...|    KLWT|       LWT|\n",
      "|      TEC|TelÃªmaco Borba A...|medium_airport|     TelÃªmaco Borba| BR-PR|     BR|       SA|-50.6515998840332...|    SBTL|      null|\n",
      "|      NOR|NorÃ°fjÃ¶rÃ°ur Ai...| small_airport|      NorÃ°fjÃ¶rÃ°ur|  IS-7|     IS|       EU|-13.7463998794555...|    BINF|      null|\n",
      "|      GSP|Greenville Sparta...| large_airport|          Greenville| US-SC|     US|       NA|-82.2189025879, 3...|    KGSP|       GSP|\n",
      "|      SYR|Syracuse Hancock ...| large_airport|            Syracuse| US-NY|     US|       NA|-76.1063003540039...|    KSYR|       SYR|\n",
      "|      POO|PoÃ§os de Caldas ...|medium_airport|    PoÃ§os De Caldas| BR-MG|     BR|       SA|-46.567901611328,...|    SBPC|      null|\n",
      "|      DNS|Denison Municipal...| small_airport|             Denison| US-IA|     US|       NA|-95.38069916, 41....|    KDNS|       DNS|\n",
      "|      AND|Anderson Regional...|medium_airport|            Anderson| US-SC|     US|       NA|-82.7093963623000...|    KAND|       AND|\n",
      "|      OPF|Opa-locka Executi...|medium_airport|               Miami| US-FL|     US|       NA|  -80.278397, 25.907|    KOPF|       OPF|\n",
      "|      SJO|Juan Santamaria I...|medium_airport|            San Jose|  CR-A|     CR|       NA|-84.2088012695312...|    MROC|      null|\n",
      "|      MWH|Grant County Inte...|medium_airport|          Moses Lake| US-WA|     US|       NA|-119.3199997, 47....|    KMWH|       MWH|\n",
      "|      VIC|     Vicenza Airport|        closed|             Vicenza| IT-34|     IT|       EU|  11.5295, 45.573399|    LIPT|      null|\n",
      "|      PDN|    Parndana Airport| small_airport|     Kangaroo Island| AU-SA|     AU|       OC|    137.264, -35.807|    YPDA|      YPDA|\n",
      "|      PHI|    Pinheiro Airport| small_airport|            Pinheiro| BR-MA|     BR|       SA|-45.0672225952148...|    SNYE|      SNYE|\n",
      "|      CLS|Chehalis Centrali...| small_airport|            Chehalis| US-WA|     US|       NA|-122.983001709, 4...|    KCLS|       CLS|\n",
      "|      DAC|Hazrat Shahjalal ...| large_airport|               Dhaka|  BD-3|     BD|       AS|90.397783, 23.843347|    VGHS|      null|\n",
      "|      LNB|   Lamen Bay Airport| small_airport|           Lamen Bay|VU-SEE|     VU|       OC|168.158996582, -1...|    NVSM|      null|\n",
      "|      PRE|        Pore Airport| small_airport|                Pore|CO-CAS|     CO|       SA|-71.983333, 5.733333|    null|       POR|\n",
      "|      CNC|Coconut Island Ai...| small_airport|                null|AU-QLD|     AU|       OC|143.0700073242187...|    YCCT|      null|\n",
      "|      SAV|Savannah Hilton H...| large_airport|            Savannah| US-GA|     US|       NA|-81.20210266, 32....|    KSAV|       SAV|\n",
      "|      ICT|Wichita Eisenhowe...| large_airport|             Wichita| US-KS|     US|       NA|-97.433098, 37.64...|    KICT|       ICT|\n",
      "|      COL|        Coll Airport| small_airport|         Coll Island|GB-SCT|     GB|       EU|-6.61778020859, 5...|    EGEL|      null|\n",
      "|      SFB|Orlando Sanford I...| large_airport|             Orlando| US-FL|     US|       NA|-81.2375030517578...|    KSFB|       SFB|\n",
      "|      SAA|       Shively Field| small_airport|            Saratoga| US-WY|     US|       NA|-106.823997, 41.4...|    KSAA|       SAA|\n",
      "|      BGM|Greater Binghamto...|medium_airport|          Binghamton| US-NY|     US|       NA|-75.97979736, 42....|    KBGM|       BGM|\n",
      "|      CRQ|   Caravelas Airport|medium_airport|           Caravelas| BR-BA|     BR|       SA|-39.253101348877,...|    SBCV|      null|\n",
      "|      ADW|  Joint Base Andrews| large_airport|        Camp Springs| US-MD|     US|       NA|-76.866997, 38.81...|    KADW|       ADW|\n",
      "|      ABG|Abingdon Downs Ai...| small_airport|                null|AU-QLD|     AU|       OC|143.167007446, -1...|    YABI|      null|\n",
      "|      LCB|Pontes e Lacerda ...| small_airport|    Pontes e Lacerda| BR-MT|     BR|       SA|  -59.3848, -15.1934|    SWBG|      null|\n",
      "|      CAL| Campbeltown Airport|medium_airport|         Campbeltown|GB-SCT|     GB|       EU|-5.68638992309570...|    EGEC|      null|\n",
      "|      FTK|Godman Army Air F...|medium_airport|           Fort Knox| US-KY|     US|       NA|-85.9720993042, 3...|    KFTK|       FTK|\n",
      "|      OAK|Metropolitan Oakl...| large_airport|             Oakland| US-CA|     US|       NA|-122.221001, 37.7...|    KOAK|       OAK|\n",
      "|      SAC|Sacramento Execut...|medium_airport|          Sacramento| US-CA|     US|       NA|-121.492996216, 3...|    KSAC|       SAC|\n",
      "|      PRO|Perry Municipal A...| small_airport|               Perry| US-IA|     US|       NA|-94.15989685, 41....|    KPRO|       PRO|\n",
      "|      HAM|     Hamburg Airport| large_airport|             Hamburg| DE-HH|     DE|       EU|9.9882297515869, ...|    EDDH|      null|\n",
      "|      LUK|Cincinnati Munici...|medium_airport|          Cincinnati| US-OH|     US|       NA|-84.41860199, 39....|    KLUK|       LUK|\n",
      "|      NAC|  Naracoorte Airport| small_airport|                null| AU-SA|     AU|       OC|140.7250061035156...|    YNRC|      null|\n",
      "|      KEY|     Kericho Airport| small_airport|             Kericho|KE-700|     KE|       AF|  35.242093, -0.3899|    HKKR|      null|\n",
      "|      MDT|Harrisburg Intern...|medium_airport|          Harrisburg| US-PA|     US|       NA|-76.7633972168, 4...|    KMDT|       MDT|\n",
      "|      BTN|Marlboro County J...| small_airport|       Bennettsville| US-SC|     US|       NA|-79.73439789, 34....|    KBBP|       BBP|\n",
      "|      WAR|       Waris Airport| small_airport|               Swach| ID-PA|     ID|       AS|     140.994, -3.235|    WAJR|      null|\n",
      "|      MLB|Melbourne Interna...|medium_airport|           Melbourne| US-FL|     US|       NA|-80.6453018188476...|    KMLB|       MLB|\n",
      "|      WIL|Nairobi Wilson Ai...|medium_airport|             Nairobi|KE-110|     KE|       AF|36.81480026245117...|    HKNW|      null|\n",
      "|      EGP|Maverick County M...| small_airport|          Eagle Pass| US-TX|     US|       NA|-100.512001, 28.8...|     5T9|       5T9|\n",
      "|      TUR|    TucuruÃ­ Airport|medium_airport|            TucuruÃ­| BR-PA|     BR|       SA|-49.72029876709, ...|    SBTU|      null|\n",
      "|      CHL|     Challis Airport| small_airport|             Challis| US-ID|     US|       NA|-114.218002, 44.5...|    KLLJ|       LLJ|\n",
      "|      LAN|Capital City Airport|medium_airport|             Lansing| US-MI|     US|       NA|-84.58740234375, ...|    KLAN|       LAN|\n",
      "|      DEN|Denver Internatio...| large_airport|              Denver| US-CO|     US|       NA|-104.672996521, 3...|    KDEN|       DEN|\n",
      "|      HAL|      Halali Airport| small_airport|              Halali| NA-OT|     NA|       AF|   16.4585, -19.0285|    FYHI|      null|\n",
      "|      ANZ| Angus Downs Airport| small_airport| Angus Downs Station| AU-NT|     AU|       OC|  132.2748, -25.0325|    null|      null|\n",
      "|      HVR|Havre City County...|medium_airport|               Havre| US-MT|     US|       NA|-109.762001, 48.5...|    KHVR|       HVR|\n",
      "|      HOU|William P Hobby A...| large_airport|             Houston| US-TX|     US|       NA|-95.27890015, 29....|    KHOU|       HOU|\n",
      "|      LAR|Laramie Regional ...|medium_airport|             Laramie| US-WY|     US|       NA|-105.675003051757...|    KLAR|       LAR|\n",
      "|      STL|St Louis Lambert ...| large_airport|            St Louis| US-MO|     US|       NA|-90.370003, 38.74...|    KSTL|       STL|\n",
      "|      SWF|Stewart Internati...|medium_airport|            Newburgh| US-NY|     US|       NA|-74.1047973632812...|    KSWF|       SWF|\n",
      "|      MHT|Manchester-Boston...|medium_airport|          Manchester| US-NH|     US|       NA|-71.435699, 42.93...|    KMHT|       MHT|\n",
      "|      YIP|  Willow Run Airport|medium_airport|             Detroit| US-MI|     US|       NA|-83.53040314, 42....|    KYIP|       YIP|\n",
      "|      ORO|        Yoro Airport| small_airport|                Yoro| HN-YO|     HN|       NA|    -87.135, 15.1275|    MHYR|      null|\n",
      "|      LOS|Murtala Muhammed ...| large_airport|               Lagos| NG-LA|     NG|       AF|3.321160078048706...|    DNMM|      null|\n",
      "|      MAA|Chennai Internati...| large_airport|             Chennai| IN-TN|     IN|       AS|80.16929626464844...|    VOMM|      null|\n",
      "|      AUS|Austin Robert Mue...|        closed|                null| US-TX|     US|       NA|-97.6997852325, 3...|    KAUS|      null|\n",
      "|      PEV|PÃ©cs-PogÃ¡ny Air...|medium_airport|       PÃ©cs-PogÃ¡ny| HU-BA|     HU|       EU|18.240996, 45.990898|    LHPP|      null|\n",
      "|      FPR|St Lucie County I...|medium_airport|         Fort Pierce| US-FL|     US|       NA|-80.36830139, 27....|    KFPR|       FPR|\n",
      "|      NRG|    Narrogin Airport| small_airport|            Narrogin| AU-WA|     AU|       OC|117.08000183105, ...|    YNRG|      null|\n",
      "|      NSV|       Noosa Airport| small_airport|                null|AU-QLD|     AU|       OC|153.0630035400390...|    YNSH|      null|\n",
      "|      ROO|Maestro Marinho F...| small_airport|       RondonÃ³polis| BR-MT|     BR|       SA|   -54.7248, -16.586|    SBRD|      SBRD|\n",
      "|      NAS|Lynden Pindling I...| large_airport|              Nassau| BS-NP|     BS|       NA|-77.4662017821999...|    MYNN|      null|\n",
      "|      OTT| Andre Maggi Airport| small_airport|         CotriguaÃ§u| BR-MT|     BR|       SA|-58.581944, -9.89...|    null|      null|\n",
      "|      WLL| Wollogorang Airport| small_airport|                null| AU-NT|     AU|       OC| 137.93453, -17.2199|    YWOR|      null|\n",
      "|      CHT|Chatham Islands-T...|medium_airport|            Waitangi|NZ-WGN|     NZ|       OC|-176.457000732421...|    NZCI|      null|\n",
      "|      MET|     Moreton Airport| small_airport|             Moreton|AU-QLD|     AU|       OC|142.638000488, -1...|    YMOT|      null|\n",
      "|      TOR|Torrington Munici...| small_airport|          Torrington| US-WY|     US|       NA|-104.1529999, 42....|    KTOR|       TOR|\n",
      "|      AUS|Austin Bergstrom ...| large_airport|              Austin| US-TX|     US|       NA|-97.6698989868164...|    KAUS|       AUS|\n",
      "|      CAE|Columbia Metropol...| large_airport|            Columbia| US-SC|     US|       NA|-81.1194992065429...|    KCAE|       CAE|\n",
      "|      BDL|Bradley Internati...| large_airport|            Hartford| US-CT|     US|       NA|-72.6831970214999...|    KBDL|       BDL|\n",
      "|      FMY|          Page Field|medium_airport|          Fort Myers| US-FL|     US|       NA|-81.8632965087999...|    KFMY|       FMY|\n",
      "|      NCA|North Caicos Airport|medium_airport|                null| TC-NC|     TC|       NA| -71.939598, 21.9175|    MBNC|      null|\n",
      "|      LEW|Auburn Lewiston M...| small_airport|     Auburn/Lewiston| US-ME|     US|       NA|-70.2835006714, 4...|    KLEW|       LEW|\n",
      "|      SWE|       Siwea Airport| small_airport|               Siwea|PG-MPL|     PG|       OC|147.580833, -6.28...|    AYEW|       SIW|\n",
      "|      SPM|Spangdahlem Air Base|medium_airport|               Trier| DE-RP|     DE|       EU|6.69250011444, 49...|    ETAD|      null|\n",
      "|      SNJ| San Julian Air Base|medium_airport|       Pinar Del Rio| CU-01|     CU|       NA|-84.1520004272461...|    MUSJ|      null|\n",
      "|      CRP|Corpus Christi In...| large_airport|      Corpus Christi| US-TX|     US|       NA|-97.5011978149414...|    KCRP|       CRP|\n",
      "|      HEL|Helsinki Vantaa A...| large_airport|            Helsinki| FI-ES|     FI|       EU|24.963300704956, ...|    EFHK|      null|\n",
      "|      NOG|Nogales Internati...| small_airport|                null|MX-SON|     MX|       NA|-110.975997924804...|    MMNG|      null|\n",
      "|      BOS|General Edward La...| large_airport|              Boston| US-MA|     US|       NA|-71.00520325, 42....|    KBOS|       BOS|\n",
      "|      FCA|Glacier Park Inte...|medium_airport|           Kalispell| US-MT|     US|       NA|-114.255996704101...|    KGPI|       GPI|\n",
      "|      DER|       Derim Airport| small_airport|               Derim|PG-MPL|     PG|       OC|147.107222222, -6...|    AYDE|       DEM|\n",
      "|      HNN|    Honinabi Airport| small_airport|            Honinabi|PG-WPD|     PG|       OC|  142.1771, -16.2457|    AYHH|       HBI|\n",
      "|      VCV|Southern Californ...| small_airport|         Victorville| US-CA|     US|       NA|-117.383003235, 3...|    KVCV|       VCV|\n",
      "|      BEE|  Beagle Bay Airport| small_airport|          Beagle Bay| AU-WA|     AU|       OC|  122.6464, -17.0165|    YBGB|      null|\n",
      "|      PNH|Phnom Penh Intern...| large_airport|          Phnom Penh|  KH-8|     KH|       AS|104.8440017700195...|    VDPP|      null|\n",
      "|      BEL|Val de Cans/JÃºli...| large_airport|              BelÃ©m| BR-PA|     BR|       SA|-48.4762992859, -...|    SBBE|      null|\n",
      "|      PGR|          Kirk Field| small_airport|           Paragould| US-AR|     US|       NA|-90.50779724, 36....|    KPGR|       PGR|\n",
      "|      BQN|Rafael Hernandez ...|medium_airport|           Aguadilla|PR-U-A|     PR|       NA|-67.1294021606445...|    TJBQ|       BQN|\n",
      "|      BUF|Buffalo Niagara I...| large_airport|             Buffalo| US-NY|     US|       NA|-78.73220062, 42....|    KBUF|       BUF|\n",
      "|      HIG|    Highbury Airport| small_airport|                null|AU-QLD|     AU|       OC|143.145996094, -1...|    YHHY|      null|\n",
      "|      RNO|Reno Tahoe Intern...| large_airport|                Reno| US-NV|     US|       NA|-119.767997741699...|    KRNO|       RNO|\n",
      "|      PEM|Padre Aldamiz Int...|medium_airport|    Puerto Maldonado|PE-MDD|     PE|       SA|-69.2285995483, -...|    SPTU|      null|\n",
      "|      INT|Smith Reynolds Ai...|medium_airport|       Winston Salem| US-NC|     US|       NA|-80.2220001220703...|    KINT|       INT|\n",
      "|      LEX|  Blue Grass Airport| large_airport|           Lexington| US-KY|     US|       NA|-84.6059036254882...|    KLEX|       LEX|\n",
      "|      DLR|Dalnerechensk Air...| small_airport|       Dalnerechensk|RU-PRI|     RU|       EU|   133.7363, 45.8783|    null|      null|\n",
      "|      DOU|    Dourados Airport| small_airport|            Dourados| BR-MS|     BR|       SA|-54.926601, -22.2019|    SBDO|      SBDO|\n",
      "|      LOU|        Bowman Field|medium_airport|          Louisville| US-KY|     US|       NA|-85.6636962891, 3...|    KLOU|       LOU|\n",
      "|      GAL|Edward G. Pitka S...|medium_airport|              Galena| US-AK|     US|       NA|-156.9369965, 64....|    PAGA|       GAL|\n",
      "|      ADT|Ada Regional Airport| small_airport|                 Ada| US-OK|     US|       NA|-96.671303, 34.80...|    KADH|       ADH|\n",
      "|      LUB|   Lumid Pau Airport| small_airport|           Lumid Pau| GY-UT|     GY|       SA|-59.4410018921, 2...|    SYLP|      null|\n",
      "|      DET|Coleman A. Young ...|medium_airport|             Detroit| US-MI|     US|       NA|-83.00990295, 42....|    KDET|       DET|\n",
      "|      SRQ|Sarasota Bradento...| large_airport|  Sarasota/Bradenton| US-FL|     US|       NA|-82.5543975830078...|    KSRQ|       SRQ|\n",
      "|      WAL|Wallops Flight Fa...| small_airport|      Wallops Island| US-VA|     US|       NA|-75.4664001465, 3...|    KWAL|       WAL|\n",
      "|      ABQ|Albuquerque Inter...| large_airport|         Albuquerque| US-NM|     US|       NA|-106.609001, 35.0...|    KABQ|       ABQ|\n",
      "|      KAN|Mallam Aminu Inte...| large_airport|                Kano| NG-KN|     NG|       AF|    8.52462, 12.0476|    DNKN|      null|\n",
      "|      ROS|Islas Malvinas Ai...|medium_airport|             Rosario|  AR-S|     AR|       SA|   -60.785, -32.9036|    SAAR|       ROS|\n",
      "|      SEA|Seattle Tacoma In...| large_airport|             Seattle| US-WA|     US|       NA|-122.308998, 47.4...|    KSEA|       SEA|\n",
      "|      CHR|\"ChÃ¢teauroux-DÃ©...|medium_airport| ChÃ¢teauroux/DÃ©ols|  FR-F|     FR|       EU| 1.721111, 46.860278|    LFLX|      null|\n",
      "|      OGD|Ogden Hinckley Ai...|medium_airport|               Ogden| US-UT|     US|       NA|-112.0120010376, ...|    KOGD|       OGD|\n",
      "|      PCF|Potchefstroom Air...|medium_airport|       Potchefstroom| ZA-NW|     ZA|       AF|27.0818996429, -2...|    FAPS|      null|\n",
      "|      MAS|      Momote Airport|medium_airport|        Manus Island|PG-MRL|     PG|       OC|147.423996, -2.06189|    AYMO|      null|\n",
      "|      MEM|Memphis Internati...| large_airport|             Memphis| US-TN|     US|       NA|-89.9766998291015...|    KMEM|       MEM|\n",
      "|      ABS|  Abu Simbel Airport|medium_airport|          Abu Simbel|EG-ASN|     EG|       AF|31.611700058, 22....|    HEBL|      null|\n",
      "+---------+--------------------+--------------+--------------------+------+-------+---------+--------------------+--------+----------+\n",
      "\n"
     ]
    }
   ],
   "source": [
    "df_airports.show(255)"
   ]
  },
  {
   "cell_type": "code",
   "execution_count": 2,
   "metadata": {
    "editable": true
   },
   "outputs": [],
   "source": [
    "fname = '../../data2/GlobalLandTemperaturesByCity.csv'\n",
    "df_temp = spark.read.csv(fname, header=True)"
   ]
  },
  {
   "cell_type": "code",
   "execution_count": 11,
   "metadata": {
    "editable": true
   },
   "outputs": [
    {
     "data": {
      "text/plain": [
       "8599212"
      ]
     },
     "execution_count": 11,
     "metadata": {},
     "output_type": "execute_result"
    }
   ],
   "source": [
    "df_temp.count()"
   ]
  },
  {
   "cell_type": "code",
   "execution_count": 13,
   "metadata": {
    "editable": true
   },
   "outputs": [
    {
     "name": "stdout",
     "output_type": "stream",
     "text": [
      "+----------+------------------+-----------------------------+-----+-------+--------+---------+\n",
      "|        dt|AverageTemperature|AverageTemperatureUncertainty| City|Country|Latitude|Longitude|\n",
      "+----------+------------------+-----------------------------+-----+-------+--------+---------+\n",
      "|1743-11-01|             6.068|           1.7369999999999999|Århus|Denmark|  57.05N|   10.33E|\n",
      "|1743-12-01|              null|                         null|Århus|Denmark|  57.05N|   10.33E|\n",
      "|1744-01-01|              null|                         null|Århus|Denmark|  57.05N|   10.33E|\n",
      "|1744-02-01|              null|                         null|Århus|Denmark|  57.05N|   10.33E|\n",
      "|1744-03-01|              null|                         null|Århus|Denmark|  57.05N|   10.33E|\n",
      "+----------+------------------+-----------------------------+-----+-------+--------+---------+\n",
      "only showing top 5 rows\n",
      "\n"
     ]
    }
   ],
   "source": [
    "df_temp.show(5)"
   ]
  },
  {
   "cell_type": "code",
   "execution_count": 10,
   "metadata": {
    "editable": true
   },
   "outputs": [
    {
     "name": "stdout",
     "output_type": "stream",
     "text": [
      "root\n",
      " |-- dt: string (nullable = true)\n",
      " |-- AverageTemperature: string (nullable = true)\n",
      " |-- AverageTemperatureUncertainty: string (nullable = true)\n",
      " |-- City: string (nullable = true)\n",
      " |-- Country: string (nullable = true)\n",
      " |-- Latitude: string (nullable = true)\n",
      " |-- Longitude: string (nullable = true)\n",
      "\n"
     ]
    }
   ],
   "source": [
    "df_temp.printSchema()"
   ]
  },
  {
   "cell_type": "code",
   "execution_count": 25,
   "metadata": {
    "editable": true
   },
   "outputs": [],
   "source": [
    "df_temp = df_temp.filter((df_temp.dt[6:2]==\"04\") & (df_temp.Country == \"United States\"))\\\n",
    "                 .groupBy(df_temp.City,df_temp.Latitude,df_temp.Longitude)\\\n",
    "                 .agg({\"AverageTemperature\":\"avg\"})"
   ]
  },
  {
   "cell_type": "code",
   "execution_count": 3,
   "metadata": {
    "editable": true
   },
   "outputs": [],
   "source": []
  },
  {
   "cell_type": "code",
   "execution_count": 7,
   "metadata": {
    "editable": true
   },
   "outputs": [
    {
     "name": "stdout",
     "output_type": "stream",
     "text": [
      "root\n",
      " |-- ident: string (nullable = true)\n",
      " |-- type: string (nullable = true)\n",
      " |-- name: string (nullable = true)\n",
      " |-- elevation_ft: string (nullable = true)\n",
      " |-- continent: string (nullable = true)\n",
      " |-- iso_country: string (nullable = true)\n",
      " |-- iso_region: string (nullable = true)\n",
      " |-- municipality: string (nullable = true)\n",
      " |-- gps_code: string (nullable = true)\n",
      " |-- iata_code: string (nullable = true)\n",
      " |-- local_code: string (nullable = true)\n",
      " |-- coordinates: string (nullable = true)\n",
      "\n"
     ]
    }
   ],
   "source": [
    "df_air.printSchema()"
   ]
  },
  {
   "cell_type": "code",
   "execution_count": 9,
   "metadata": {
    "editable": true
   },
   "outputs": [
    {
     "name": "stdout",
     "output_type": "stream",
     "text": [
      "+-----+-------------+--------------------+------------+---------+-----------+----------+------------+--------+---------+----------+--------------------+\n",
      "|ident|         type|                name|elevation_ft|continent|iso_country|iso_region|municipality|gps_code|iata_code|local_code|         coordinates|\n",
      "+-----+-------------+--------------------+------------+---------+-----------+----------+------------+--------+---------+----------+--------------------+\n",
      "|  00A|     heliport|   Total Rf Heliport|          11|       NA|         US|     US-PA|    Bensalem|     00A|     null|       00A|-74.9336013793945...|\n",
      "| 00AA|small_airport|Aero B Ranch Airport|        3435|       NA|         US|     US-KS|       Leoti|    00AA|     null|      00AA|-101.473911, 38.7...|\n",
      "| 00AK|small_airport|        Lowell Field|         450|       NA|         US|     US-AK|Anchor Point|    00AK|     null|      00AK|-151.695999146, 5...|\n",
      "| 00AL|small_airport|        Epps Airpark|         820|       NA|         US|     US-AL|     Harvest|    00AL|     null|      00AL|-86.7703018188476...|\n",
      "| 00AR|       closed|Newport Hospital ...|         237|       NA|         US|     US-AR|     Newport|    null|     null|      null| -91.254898, 35.6087|\n",
      "+-----+-------------+--------------------+------------+---------+-----------+----------+------------+--------+---------+----------+--------------------+\n",
      "only showing top 5 rows\n",
      "\n"
     ]
    }
   ],
   "source": [
    "df_air.show(5)"
   ]
  },
  {
   "cell_type": "code",
   "execution_count": 4,
   "metadata": {
    "editable": true
   },
   "outputs": [],
   "source": [
    "df_join1 = df_imm.join(df_air, df_imm.i94port==df_air.iata_code, 'left')"
   ]
  },
  {
   "cell_type": "code",
   "execution_count": 5,
   "metadata": {
    "editable": true
   },
   "outputs": [],
   "source": [
    "fname = 'us-cities-demographics.csv'\n",
    "df_demo = spark.read.csv(fname, header=True, sep=';')"
   ]
  },
  {
   "cell_type": "code",
   "execution_count": 16,
   "metadata": {
    "editable": true
   },
   "outputs": [
    {
     "name": "stdout",
     "output_type": "stream",
     "text": [
      "root\n",
      " |-- City: string (nullable = true)\n",
      " |-- State: string (nullable = true)\n",
      " |-- Median Age: string (nullable = true)\n",
      " |-- Male Population: string (nullable = true)\n",
      " |-- Female Population: string (nullable = true)\n",
      " |-- Total Population: string (nullable = true)\n",
      " |-- Number of Veterans: string (nullable = true)\n",
      " |-- Foreign-born: string (nullable = true)\n",
      " |-- Average Household Size: string (nullable = true)\n",
      " |-- State Code: string (nullable = true)\n",
      " |-- Race: string (nullable = true)\n",
      " |-- Count: string (nullable = true)\n",
      "\n"
     ]
    }
   ],
   "source": [
    "df_demo.printSchema()"
   ]
  },
  {
   "cell_type": "code",
   "execution_count": 18,
   "metadata": {
    "editable": true
   },
   "outputs": [
    {
     "name": "stdout",
     "output_type": "stream",
     "text": [
      "+----------------+-------------+----------+---------------+-----------------+----------------+------------------+------------+----------------------+----------+--------------------+-----+\n",
      "|            City|        State|Median Age|Male Population|Female Population|Total Population|Number of Veterans|Foreign-born|Average Household Size|State Code|                Race|Count|\n",
      "+----------------+-------------+----------+---------------+-----------------+----------------+------------------+------------+----------------------+----------+--------------------+-----+\n",
      "|   Silver Spring|     Maryland|      33.8|          40601|            41862|           82463|              1562|       30908|                   2.6|        MD|  Hispanic or Latino|25924|\n",
      "|          Quincy|Massachusetts|      41.0|          44129|            49500|           93629|              4147|       32935|                  2.39|        MA|               White|58723|\n",
      "|          Hoover|      Alabama|      38.5|          38040|            46799|           84839|              4819|        8229|                  2.58|        AL|               Asian| 4759|\n",
      "|Rancho Cucamonga|   California|      34.5|          88127|            87105|          175232|              5821|       33878|                  3.18|        CA|Black or African-...|24437|\n",
      "|          Newark|   New Jersey|      34.6|         138040|           143873|          281913|              5829|       86253|                  2.73|        NJ|               White|76402|\n",
      "+----------------+-------------+----------+---------------+-----------------+----------------+------------------+------------+----------------------+----------+--------------------+-----+\n",
      "only showing top 5 rows\n",
      "\n"
     ]
    }
   ],
   "source": [
    "df_demo.show(5)"
   ]
  },
  {
   "cell_type": "code",
   "execution_count": 6,
   "metadata": {
    "editable": true
   },
   "outputs": [],
   "source": [
    "df_join2 = df_join1.join(df_demo, df_join1.municipality==df_demo.City, 'left')"
   ]
  },
  {
   "cell_type": "code",
   "execution_count": 16,
   "metadata": {
    "editable": true
   },
   "outputs": [
    {
     "name": "stdout",
     "output_type": "stream",
     "text": [
      "+-----+------+------+------+------+-------+-------+-------+-------+-------+------+-------+-----+--------+--------+-----+-------+-------+-------+-------+-------+--------+------+------+-------+-------------+-----+--------+-----+-------------+--------------------+------------+---------+-----------+----------+------------+--------+---------+----------+-------------------+-------+-------+----------+---------------+-----------------+----------------+------------------+------------+----------------------+----------+--------------------+------+\n",
      "|cicid| i94yr|i94mon|i94cit|i94res|i94port|arrdate|i94mode|i94addr|depdate|i94bir|i94visa|count|dtadfile|visapost|occup|entdepa|entdepd|entdepu|matflag|biryear| dtaddto|gender|insnum|airline|       admnum|fltno|visatype|ident|         type|                name|elevation_ft|continent|iso_country|iso_region|municipality|gps_code|iata_code|local_code|        coordinates|   City|  State|Median Age|Male Population|Female Population|Total Population|Number of Veterans|Foreign-born|Average Household Size|State Code|                Race| Count|\n",
      "+-----+------+------+------+------+-------+-------+-------+-------+-------+------+-------+-----+--------+--------+-----+-------+-------+-------+-------+-------+--------+------+------+-------+-------------+-----+--------+-----+-------------+--------------------+------------+---------+-----------+----------+------------+--------+---------+----------+-------------------+-------+-------+----------+---------------+-----------------+----------------+------------------+------------+----------------------+----------+--------------------+------+\n",
      "|  6.0|2016.0|   4.0| 692.0| 692.0|    XXX|20573.0|   null|   null|   null|  37.0|    2.0|  1.0|    null|    null| null|      T|   null|      U|   null| 1979.0|10282016|  null|  null|   null|1.897628485E9| null|      B2| null|         null|                null|        null|     null|       null|      null|        null|    null|     null|      null|               null|   null|   null|      null|           null|             null|            null|              null|        null|                  null|      null|                null|  null|\n",
      "|  7.0|2016.0|   4.0| 254.0| 276.0|    ATL|20551.0|    1.0|     AL|   null|  25.0|    3.0|  1.0|20130811|     SEO| null|      G|   null|      Y|   null| 1991.0|     D/S|     M|  null|   null| 3.73679633E9|00296|      F1| KATL|large_airport|Hartsfield Jackso...|        1026|       NA|         US|     US-GA|     Atlanta|    KATL|      ATL|       ATL|-84.428101, 33.6367|Atlanta|Georgia|      33.8|         223960|           239915|          463875|             18572|       32016|                  2.15|        GA|Black or African-...|245367|\n",
      "|  7.0|2016.0|   4.0| 254.0| 276.0|    ATL|20551.0|    1.0|     AL|   null|  25.0|    3.0|  1.0|20130811|     SEO| null|      G|   null|      Y|   null| 1991.0|     D/S|     M|  null|   null| 3.73679633E9|00296|      F1| KATL|large_airport|Hartsfield Jackso...|        1026|       NA|         US|     US-GA|     Atlanta|    KATL|      ATL|       ATL|-84.428101, 33.6367|Atlanta|Georgia|      33.8|         223960|           239915|          463875|             18572|       32016|                  2.15|        GA|               White|196316|\n",
      "|  7.0|2016.0|   4.0| 254.0| 276.0|    ATL|20551.0|    1.0|     AL|   null|  25.0|    3.0|  1.0|20130811|     SEO| null|      G|   null|      Y|   null| 1991.0|     D/S|     M|  null|   null| 3.73679633E9|00296|      F1| KATL|large_airport|Hartsfield Jackso...|        1026|       NA|         US|     US-GA|     Atlanta|    KATL|      ATL|       ATL|-84.428101, 33.6367|Atlanta|Georgia|      33.8|         223960|           239915|          463875|             18572|       32016|                  2.15|        GA|  Hispanic or Latino| 18653|\n",
      "|  7.0|2016.0|   4.0| 254.0| 276.0|    ATL|20551.0|    1.0|     AL|   null|  25.0|    3.0|  1.0|20130811|     SEO| null|      G|   null|      Y|   null| 1991.0|     D/S|     M|  null|   null| 3.73679633E9|00296|      F1| KATL|large_airport|Hartsfield Jackso...|        1026|       NA|         US|     US-GA|     Atlanta|    KATL|      ATL|       ATL|-84.428101, 33.6367|Atlanta|Georgia|      33.8|         223960|           239915|          463875|             18572|       32016|                  2.15|        GA|               Asian| 24268|\n",
      "+-----+------+------+------+------+-------+-------+-------+-------+-------+------+-------+-----+--------+--------+-----+-------+-------+-------+-------+-------+--------+------+------+-------+-------------+-----+--------+-----+-------------+--------------------+------------+---------+-----------+----------+------------+--------+---------+----------+-------------------+-------+-------+----------+---------------+-----------------+----------------+------------------+------------+----------------------+----------+--------------------+------+\n",
      "only showing top 5 rows\n",
      "\n"
     ]
    }
   ],
   "source": [
    "df_join2.show(5)"
   ]
  },
  {
   "cell_type": "code",
   "execution_count": 24,
   "metadata": {
    "editable": true
   },
   "outputs": [
    {
     "name": "stdout",
     "output_type": "stream",
     "text": [
      "+----------------+--------+---------+-----------------------+\n",
      "|            City|Latitude|Longitude|avg(AverageTemperature)|\n",
      "+----------------+--------+---------+-----------------------+\n",
      "|     New Orleans|  29.74N|   90.46W|     20.316677884615384|\n",
      "|     Kansas City|  39.38N|   93.64W|     12.053695473251038|\n",
      "|     Springfield|  37.78N|   93.56W|     13.075181069958841|\n",
      "|    Independence|  39.38N|   93.64W|     12.053695473251038|\n",
      "|         Fontana|  34.56N|  116.76W|     15.237381818181817|\n",
      "|     Los Angeles|  34.56N|  118.70W|     13.934545454545448|\n",
      "|Rancho Cucamonga|  34.56N|  116.76W|     15.237381818181817|\n",
      "|        Glendale|  32.95N|  112.02W|     19.554320224719106|\n",
      "|      Louisville|  37.78N|   85.42W|      13.02154615384615|\n",
      "|   Overland Park|  39.38N|   93.64W|     12.053695473251038|\n",
      "|   Santa Clarita|  34.56N|  118.70W|     13.934545454545448|\n",
      "|         Abilene|  32.95N|  100.53W|      16.99996907216495|\n",
      "|      Greensboro|  36.17N|   79.56W|     14.271480769230775|\n",
      "|       Inglewood|  34.56N|  118.70W|     13.934545454545448|\n",
      "|       Vancouver|  45.81N|  123.46W|      8.699005524861878|\n",
      "|         Killeen|  31.35N|   98.01W|     18.532731958762888|\n",
      "|         Yonkers|  40.99N|   74.56W|      8.641388461538465|\n",
      "|        Thornton|  39.38N|  104.05W|      7.460892307692307|\n",
      "|     Albuquerque|  34.56N|  107.03W|      10.66182291666667|\n",
      "|        Stamford|  40.99N|   74.56W|      8.641388461538465|\n",
      "+----------------+--------+---------+-----------------------+\n",
      "only showing top 20 rows\n",
      "\n"
     ]
    }
   ],
   "source": [
    "import pyspark\n",
    "#spark.createDataFrame(df_temp.dt[0:4].cast(DoubleType()))\n",
    "#df_temp.filter((df_temp.dt[6:2]==\"04\") & (df_temp.Country == \"United States\")).groupBy(df_temp.City,df_temp.Latitude,df_temp.Longitude).agg({\"AverageTemperature\":\"avg\"}).show(20)\n",
    "#df_temp.withColumn(\"year\", df_temp.dt[6:2]).show(10)"
   ]
  },
  {
   "cell_type": "code",
   "execution_count": 26,
   "metadata": {
    "editable": true
   },
   "outputs": [
    {
     "name": "stdout",
     "output_type": "stream",
     "text": [
      "+---------+------+------+------+------+-------+-------+-------+-------+-------+------+-------+-----+--------+--------+-----+-------+-------+-------+-------+-------+--------+------+------+-------+---------------+-----+--------+-----+-------------+--------------------+------------+---------+-----------+----------+------------+--------+---------+----------+--------------------+----------+--------------+----------+---------------+-----------------+----------------+------------------+------------+----------------------+----------+--------------------+------+----------+--------+---------+-----------------------+\n",
      "|    cicid| i94yr|i94mon|i94cit|i94res|i94port|arrdate|i94mode|i94addr|depdate|i94bir|i94visa|count|dtadfile|visapost|occup|entdepa|entdepd|entdepu|matflag|biryear| dtaddto|gender|insnum|airline|         admnum|fltno|visatype|ident|         type|                name|elevation_ft|continent|iso_country|iso_region|municipality|gps_code|iata_code|local_code|         coordinates|      City|         State|Median Age|Male Population|Female Population|Total Population|Number of Veterans|Foreign-born|Average Household Size|State Code|                Race| Count|      City|Latitude|Longitude|avg(AverageTemperature)|\n",
      "+---------+------+------+------+------+-------+-------+-------+-------+-------+------+-------+-----+--------+--------+-----+-------+-------+-------+-------+-------+--------+------+------+-------+---------------+-----+--------+-----+-------------+--------------------+------------+---------+-----------+----------+------------+--------+---------+----------+--------------------+----------+--------------+----------+---------------+-----------------+----------------+------------------+------------+----------------------+----------+--------------------+------+----------+--------+---------+-----------------------+\n",
      "|  50962.0|2016.0|   4.0| 148.0| 112.0|    CHS|20545.0|    1.0|     SC|20630.0|  77.0|    2.0|  1.0|20160401|     FRN| null|      G|      R|   null|      M| 1939.0|09302016|     F|  null|    537| 9.247277243E10|00272|      B2| KCHS|large_airport|Charleston Air Fo...|          46|       NA|         US|     US-SC|  Charleston|    KCHS|      CHS|       CHS|-80.04049683, 32....|Charleston|South Carolina|      35.0|          63956|            71568|          135524|              9368|        5767|                   2.4|        SC|American Indian a...|   633|Charleston|  32.95N|   79.47W|      17.80519615384615|\n",
      "|  50962.0|2016.0|   4.0| 148.0| 112.0|    CHS|20545.0|    1.0|     SC|20630.0|  77.0|    2.0|  1.0|20160401|     FRN| null|      G|      R|   null|      M| 1939.0|09302016|     F|  null|    537| 9.247277243E10|00272|      B2| KCHS|large_airport|Charleston Air Fo...|          46|       NA|         US|     US-SC|  Charleston|    KCHS|      CHS|       CHS|-80.04049683, 32....|Charleston|South Carolina|      35.0|          63956|            71568|          135524|              9368|        5767|                   2.4|        SC|               White|104016|Charleston|  32.95N|   79.47W|      17.80519615384615|\n",
      "|  50962.0|2016.0|   4.0| 148.0| 112.0|    CHS|20545.0|    1.0|     SC|20630.0|  77.0|    2.0|  1.0|20160401|     FRN| null|      G|      R|   null|      M| 1939.0|09302016|     F|  null|    537| 9.247277243E10|00272|      B2| KCHS|large_airport|Charleston Air Fo...|          46|       NA|         US|     US-SC|  Charleston|    KCHS|      CHS|       CHS|-80.04049683, 32....|Charleston|South Carolina|      35.0|          63956|            71568|          135524|              9368|        5767|                   2.4|        SC|  Hispanic or Latino|  3929|Charleston|  32.95N|   79.47W|      17.80519615384615|\n",
      "|  50962.0|2016.0|   4.0| 148.0| 112.0|    CHS|20545.0|    1.0|     SC|20630.0|  77.0|    2.0|  1.0|20160401|     FRN| null|      G|      R|   null|      M| 1939.0|09302016|     F|  null|    537| 9.247277243E10|00272|      B2| KCHS|large_airport|Charleston Air Fo...|          46|       NA|         US|     US-SC|  Charleston|    KCHS|      CHS|       CHS|-80.04049683, 32....|Charleston|South Carolina|      35.0|          63956|            71568|          135524|              9368|        5767|                   2.4|        SC|Black or African-...| 29998|Charleston|  32.95N|   79.47W|      17.80519615384615|\n",
      "|  50962.0|2016.0|   4.0| 148.0| 112.0|    CHS|20545.0|    1.0|     SC|20630.0|  77.0|    2.0|  1.0|20160401|     FRN| null|      G|      R|   null|      M| 1939.0|09302016|     F|  null|    537| 9.247277243E10|00272|      B2| KCHS|large_airport|Charleston Air Fo...|          46|       NA|         US|     US-SC|  Charleston|    KCHS|      CHS|       CHS|-80.04049683, 32....|Charleston|South Carolina|      35.0|          63956|            71568|          135524|              9368|        5767|                   2.4|        SC|               Asian|  2773|Charleston|  32.95N|   79.47W|      17.80519615384615|\n",
      "|  50963.0|2016.0|   4.0| 148.0| 112.0|    CHS|20545.0|    1.0|     SC|20630.0|  76.0|    2.0|  1.0|20160401|     FRN| null|      G|      R|   null|      M| 1940.0|09302016|     M|  null|    537| 9.247288893E10|00272|      B2| KCHS|large_airport|Charleston Air Fo...|          46|       NA|         US|     US-SC|  Charleston|    KCHS|      CHS|       CHS|-80.04049683, 32....|Charleston|South Carolina|      35.0|          63956|            71568|          135524|              9368|        5767|                   2.4|        SC|American Indian a...|   633|Charleston|  32.95N|   79.47W|      17.80519615384615|\n",
      "|  50963.0|2016.0|   4.0| 148.0| 112.0|    CHS|20545.0|    1.0|     SC|20630.0|  76.0|    2.0|  1.0|20160401|     FRN| null|      G|      R|   null|      M| 1940.0|09302016|     M|  null|    537| 9.247288893E10|00272|      B2| KCHS|large_airport|Charleston Air Fo...|          46|       NA|         US|     US-SC|  Charleston|    KCHS|      CHS|       CHS|-80.04049683, 32....|Charleston|South Carolina|      35.0|          63956|            71568|          135524|              9368|        5767|                   2.4|        SC|               White|104016|Charleston|  32.95N|   79.47W|      17.80519615384615|\n",
      "|  50963.0|2016.0|   4.0| 148.0| 112.0|    CHS|20545.0|    1.0|     SC|20630.0|  76.0|    2.0|  1.0|20160401|     FRN| null|      G|      R|   null|      M| 1940.0|09302016|     M|  null|    537| 9.247288893E10|00272|      B2| KCHS|large_airport|Charleston Air Fo...|          46|       NA|         US|     US-SC|  Charleston|    KCHS|      CHS|       CHS|-80.04049683, 32....|Charleston|South Carolina|      35.0|          63956|            71568|          135524|              9368|        5767|                   2.4|        SC|  Hispanic or Latino|  3929|Charleston|  32.95N|   79.47W|      17.80519615384615|\n",
      "|  50963.0|2016.0|   4.0| 148.0| 112.0|    CHS|20545.0|    1.0|     SC|20630.0|  76.0|    2.0|  1.0|20160401|     FRN| null|      G|      R|   null|      M| 1940.0|09302016|     M|  null|    537| 9.247288893E10|00272|      B2| KCHS|large_airport|Charleston Air Fo...|          46|       NA|         US|     US-SC|  Charleston|    KCHS|      CHS|       CHS|-80.04049683, 32....|Charleston|South Carolina|      35.0|          63956|            71568|          135524|              9368|        5767|                   2.4|        SC|Black or African-...| 29998|Charleston|  32.95N|   79.47W|      17.80519615384615|\n",
      "|  50963.0|2016.0|   4.0| 148.0| 112.0|    CHS|20545.0|    1.0|     SC|20630.0|  76.0|    2.0|  1.0|20160401|     FRN| null|      G|      R|   null|      M| 1940.0|09302016|     M|  null|    537| 9.247288893E10|00272|      B2| KCHS|large_airport|Charleston Air Fo...|          46|       NA|         US|     US-SC|  Charleston|    KCHS|      CHS|       CHS|-80.04049683, 32....|Charleston|South Carolina|      35.0|          63956|            71568|          135524|              9368|        5767|                   2.4|        SC|               Asian|  2773|Charleston|  32.95N|   79.47W|      17.80519615384615|\n",
      "| 877647.0|2016.0|   4.0| 260.0| 260.0|    CHS|20549.0|    2.0|   null|20556.0|  33.0|    2.0|  1.0|20160405|     MNL| null|      G|      O|   null|      M| 1983.0|10042016|     F|  null|    VES| 9.279487803E10|87113|      B2| KCHS|large_airport|Charleston Air Fo...|          46|       NA|         US|     US-SC|  Charleston|    KCHS|      CHS|       CHS|-80.04049683, 32....|Charleston|South Carolina|      35.0|          63956|            71568|          135524|              9368|        5767|                   2.4|        SC|American Indian a...|   633|Charleston|  32.95N|   79.47W|      17.80519615384615|\n",
      "| 877647.0|2016.0|   4.0| 260.0| 260.0|    CHS|20549.0|    2.0|   null|20556.0|  33.0|    2.0|  1.0|20160405|     MNL| null|      G|      O|   null|      M| 1983.0|10042016|     F|  null|    VES| 9.279487803E10|87113|      B2| KCHS|large_airport|Charleston Air Fo...|          46|       NA|         US|     US-SC|  Charleston|    KCHS|      CHS|       CHS|-80.04049683, 32....|Charleston|South Carolina|      35.0|          63956|            71568|          135524|              9368|        5767|                   2.4|        SC|               White|104016|Charleston|  32.95N|   79.47W|      17.80519615384615|\n",
      "| 877647.0|2016.0|   4.0| 260.0| 260.0|    CHS|20549.0|    2.0|   null|20556.0|  33.0|    2.0|  1.0|20160405|     MNL| null|      G|      O|   null|      M| 1983.0|10042016|     F|  null|    VES| 9.279487803E10|87113|      B2| KCHS|large_airport|Charleston Air Fo...|          46|       NA|         US|     US-SC|  Charleston|    KCHS|      CHS|       CHS|-80.04049683, 32....|Charleston|South Carolina|      35.0|          63956|            71568|          135524|              9368|        5767|                   2.4|        SC|  Hispanic or Latino|  3929|Charleston|  32.95N|   79.47W|      17.80519615384615|\n",
      "| 877647.0|2016.0|   4.0| 260.0| 260.0|    CHS|20549.0|    2.0|   null|20556.0|  33.0|    2.0|  1.0|20160405|     MNL| null|      G|      O|   null|      M| 1983.0|10042016|     F|  null|    VES| 9.279487803E10|87113|      B2| KCHS|large_airport|Charleston Air Fo...|          46|       NA|         US|     US-SC|  Charleston|    KCHS|      CHS|       CHS|-80.04049683, 32....|Charleston|South Carolina|      35.0|          63956|            71568|          135524|              9368|        5767|                   2.4|        SC|Black or African-...| 29998|Charleston|  32.95N|   79.47W|      17.80519615384615|\n",
      "| 877647.0|2016.0|   4.0| 260.0| 260.0|    CHS|20549.0|    2.0|   null|20556.0|  33.0|    2.0|  1.0|20160405|     MNL| null|      G|      O|   null|      M| 1983.0|10042016|     F|  null|    VES| 9.279487803E10|87113|      B2| KCHS|large_airport|Charleston Air Fo...|          46|       NA|         US|     US-SC|  Charleston|    KCHS|      CHS|       CHS|-80.04049683, 32....|Charleston|South Carolina|      35.0|          63956|            71568|          135524|              9368|        5767|                   2.4|        SC|               Asian|  2773|Charleston|  32.95N|   79.47W|      17.80519615384615|\n",
      "| 877648.0|2016.0|   4.0| 260.0| 260.0|    CHS|20549.0|    2.0|     IL|20557.0|  42.0|    2.0|  1.0|20160405|     MNL| null|      G|      O|   null|      M| 1974.0|10042016|     F|  null|    VES| 9.279462323E10|87113|      B2| KCHS|large_airport|Charleston Air Fo...|          46|       NA|         US|     US-SC|  Charleston|    KCHS|      CHS|       CHS|-80.04049683, 32....|Charleston|South Carolina|      35.0|          63956|            71568|          135524|              9368|        5767|                   2.4|        SC|American Indian a...|   633|Charleston|  32.95N|   79.47W|      17.80519615384615|\n",
      "| 877648.0|2016.0|   4.0| 260.0| 260.0|    CHS|20549.0|    2.0|     IL|20557.0|  42.0|    2.0|  1.0|20160405|     MNL| null|      G|      O|   null|      M| 1974.0|10042016|     F|  null|    VES| 9.279462323E10|87113|      B2| KCHS|large_airport|Charleston Air Fo...|          46|       NA|         US|     US-SC|  Charleston|    KCHS|      CHS|       CHS|-80.04049683, 32....|Charleston|South Carolina|      35.0|          63956|            71568|          135524|              9368|        5767|                   2.4|        SC|               White|104016|Charleston|  32.95N|   79.47W|      17.80519615384615|\n",
      "| 877648.0|2016.0|   4.0| 260.0| 260.0|    CHS|20549.0|    2.0|     IL|20557.0|  42.0|    2.0|  1.0|20160405|     MNL| null|      G|      O|   null|      M| 1974.0|10042016|     F|  null|    VES| 9.279462323E10|87113|      B2| KCHS|large_airport|Charleston Air Fo...|          46|       NA|         US|     US-SC|  Charleston|    KCHS|      CHS|       CHS|-80.04049683, 32....|Charleston|South Carolina|      35.0|          63956|            71568|          135524|              9368|        5767|                   2.4|        SC|  Hispanic or Latino|  3929|Charleston|  32.95N|   79.47W|      17.80519615384615|\n",
      "| 877648.0|2016.0|   4.0| 260.0| 260.0|    CHS|20549.0|    2.0|     IL|20557.0|  42.0|    2.0|  1.0|20160405|     MNL| null|      G|      O|   null|      M| 1974.0|10042016|     F|  null|    VES| 9.279462323E10|87113|      B2| KCHS|large_airport|Charleston Air Fo...|          46|       NA|         US|     US-SC|  Charleston|    KCHS|      CHS|       CHS|-80.04049683, 32....|Charleston|South Carolina|      35.0|          63956|            71568|          135524|              9368|        5767|                   2.4|        SC|Black or African-...| 29998|Charleston|  32.95N|   79.47W|      17.80519615384615|\n",
      "| 877648.0|2016.0|   4.0| 260.0| 260.0|    CHS|20549.0|    2.0|     IL|20557.0|  42.0|    2.0|  1.0|20160405|     MNL| null|      G|      O|   null|      M| 1974.0|10042016|     F|  null|    VES| 9.279462323E10|87113|      B2| KCHS|large_airport|Charleston Air Fo...|          46|       NA|         US|     US-SC|  Charleston|    KCHS|      CHS|       CHS|-80.04049683, 32....|Charleston|South Carolina|      35.0|          63956|            71568|          135524|              9368|        5767|                   2.4|        SC|               Asian|  2773|Charleston|  32.95N|   79.47W|      17.80519615384615|\n",
      "| 978887.0|2016.0|   4.0| 694.0| 694.0|    CHS|20549.0|    2.0|   null|20561.0|  35.0|    2.0|  1.0|20160405|     LMA| null|      G|      O|   null|      M| 1981.0|10042016|     M|  null|    VES| 9.279424563E10|87113|      B2| KCHS|large_airport|Charleston Air Fo...|          46|       NA|         US|     US-SC|  Charleston|    KCHS|      CHS|       CHS|-80.04049683, 32....|Charleston|South Carolina|      35.0|          63956|            71568|          135524|              9368|        5767|                   2.4|        SC|American Indian a...|   633|Charleston|  32.95N|   79.47W|      17.80519615384615|\n",
      "| 978887.0|2016.0|   4.0| 694.0| 694.0|    CHS|20549.0|    2.0|   null|20561.0|  35.0|    2.0|  1.0|20160405|     LMA| null|      G|      O|   null|      M| 1981.0|10042016|     M|  null|    VES| 9.279424563E10|87113|      B2| KCHS|large_airport|Charleston Air Fo...|          46|       NA|         US|     US-SC|  Charleston|    KCHS|      CHS|       CHS|-80.04049683, 32....|Charleston|South Carolina|      35.0|          63956|            71568|          135524|              9368|        5767|                   2.4|        SC|               White|104016|Charleston|  32.95N|   79.47W|      17.80519615384615|\n",
      "| 978887.0|2016.0|   4.0| 694.0| 694.0|    CHS|20549.0|    2.0|   null|20561.0|  35.0|    2.0|  1.0|20160405|     LMA| null|      G|      O|   null|      M| 1981.0|10042016|     M|  null|    VES| 9.279424563E10|87113|      B2| KCHS|large_airport|Charleston Air Fo...|          46|       NA|         US|     US-SC|  Charleston|    KCHS|      CHS|       CHS|-80.04049683, 32....|Charleston|South Carolina|      35.0|          63956|            71568|          135524|              9368|        5767|                   2.4|        SC|  Hispanic or Latino|  3929|Charleston|  32.95N|   79.47W|      17.80519615384615|\n",
      "| 978887.0|2016.0|   4.0| 694.0| 694.0|    CHS|20549.0|    2.0|   null|20561.0|  35.0|    2.0|  1.0|20160405|     LMA| null|      G|      O|   null|      M| 1981.0|10042016|     M|  null|    VES| 9.279424563E10|87113|      B2| KCHS|large_airport|Charleston Air Fo...|          46|       NA|         US|     US-SC|  Charleston|    KCHS|      CHS|       CHS|-80.04049683, 32....|Charleston|South Carolina|      35.0|          63956|            71568|          135524|              9368|        5767|                   2.4|        SC|Black or African-...| 29998|Charleston|  32.95N|   79.47W|      17.80519615384615|\n",
      "| 978887.0|2016.0|   4.0| 694.0| 694.0|    CHS|20549.0|    2.0|   null|20561.0|  35.0|    2.0|  1.0|20160405|     LMA| null|      G|      O|   null|      M| 1981.0|10042016|     M|  null|    VES| 9.279424563E10|87113|      B2| KCHS|large_airport|Charleston Air Fo...|          46|       NA|         US|     US-SC|  Charleston|    KCHS|      CHS|       CHS|-80.04049683, 32....|Charleston|South Carolina|      35.0|          63956|            71568|          135524|              9368|        5767|                   2.4|        SC|               Asian|  2773|Charleston|  32.95N|   79.47W|      17.80519615384615|\n",
      "|2684490.0|2016.0|   4.0| 117.0| 117.0|    CHS|20559.0|    2.0|   null|20615.0|  33.0|    1.0|  1.0|20160415|     MLN| null|      H|      I|   null|      M| 1983.0|08192016|     F|  null|    VES| 8.864581833E10|87113|      B1| KCHS|large_airport|Charleston Air Fo...|          46|       NA|         US|     US-SC|  Charleston|    KCHS|      CHS|       CHS|-80.04049683, 32....|Charleston|South Carolina|      35.0|          63956|            71568|          135524|              9368|        5767|                   2.4|        SC|American Indian a...|   633|Charleston|  32.95N|   79.47W|      17.80519615384615|\n",
      "|2684490.0|2016.0|   4.0| 117.0| 117.0|    CHS|20559.0|    2.0|   null|20615.0|  33.0|    1.0|  1.0|20160415|     MLN| null|      H|      I|   null|      M| 1983.0|08192016|     F|  null|    VES| 8.864581833E10|87113|      B1| KCHS|large_airport|Charleston Air Fo...|          46|       NA|         US|     US-SC|  Charleston|    KCHS|      CHS|       CHS|-80.04049683, 32....|Charleston|South Carolina|      35.0|          63956|            71568|          135524|              9368|        5767|                   2.4|        SC|               White|104016|Charleston|  32.95N|   79.47W|      17.80519615384615|\n",
      "|2684490.0|2016.0|   4.0| 117.0| 117.0|    CHS|20559.0|    2.0|   null|20615.0|  33.0|    1.0|  1.0|20160415|     MLN| null|      H|      I|   null|      M| 1983.0|08192016|     F|  null|    VES| 8.864581833E10|87113|      B1| KCHS|large_airport|Charleston Air Fo...|          46|       NA|         US|     US-SC|  Charleston|    KCHS|      CHS|       CHS|-80.04049683, 32....|Charleston|South Carolina|      35.0|          63956|            71568|          135524|              9368|        5767|                   2.4|        SC|  Hispanic or Latino|  3929|Charleston|  32.95N|   79.47W|      17.80519615384615|\n",
      "|2684490.0|2016.0|   4.0| 117.0| 117.0|    CHS|20559.0|    2.0|   null|20615.0|  33.0|    1.0|  1.0|20160415|     MLN| null|      H|      I|   null|      M| 1983.0|08192016|     F|  null|    VES| 8.864581833E10|87113|      B1| KCHS|large_airport|Charleston Air Fo...|          46|       NA|         US|     US-SC|  Charleston|    KCHS|      CHS|       CHS|-80.04049683, 32....|Charleston|South Carolina|      35.0|          63956|            71568|          135524|              9368|        5767|                   2.4|        SC|Black or African-...| 29998|Charleston|  32.95N|   79.47W|      17.80519615384615|\n",
      "|2684490.0|2016.0|   4.0| 117.0| 117.0|    CHS|20559.0|    2.0|   null|20615.0|  33.0|    1.0|  1.0|20160415|     MLN| null|      H|      I|   null|      M| 1983.0|08192016|     F|  null|    VES| 8.864581833E10|87113|      B1| KCHS|large_airport|Charleston Air Fo...|          46|       NA|         US|     US-SC|  Charleston|    KCHS|      CHS|       CHS|-80.04049683, 32....|Charleston|South Carolina|      35.0|          63956|            71568|          135524|              9368|        5767|                   2.4|        SC|               Asian|  2773|Charleston|  32.95N|   79.47W|      17.80519615384615|\n",
      "|2871227.0|2016.0|   4.0| 696.0| 696.0|    CHS|20559.0|    2.0|     CO|20714.0|  31.0|    3.0|  1.0|20160415|     CRS| null|      G|      I|   null|      M| 1985.0|     D/S|     F|  null|    VES| 9.358401713E10|87113|      F1| KCHS|large_airport|Charleston Air Fo...|          46|       NA|         US|     US-SC|  Charleston|    KCHS|      CHS|       CHS|-80.04049683, 32....|Charleston|South Carolina|      35.0|          63956|            71568|          135524|              9368|        5767|                   2.4|        SC|American Indian a...|   633|Charleston|  32.95N|   79.47W|      17.80519615384615|\n",
      "|2871227.0|2016.0|   4.0| 696.0| 696.0|    CHS|20559.0|    2.0|     CO|20714.0|  31.0|    3.0|  1.0|20160415|     CRS| null|      G|      I|   null|      M| 1985.0|     D/S|     F|  null|    VES| 9.358401713E10|87113|      F1| KCHS|large_airport|Charleston Air Fo...|          46|       NA|         US|     US-SC|  Charleston|    KCHS|      CHS|       CHS|-80.04049683, 32....|Charleston|South Carolina|      35.0|          63956|            71568|          135524|              9368|        5767|                   2.4|        SC|               White|104016|Charleston|  32.95N|   79.47W|      17.80519615384615|\n",
      "|2871227.0|2016.0|   4.0| 696.0| 696.0|    CHS|20559.0|    2.0|     CO|20714.0|  31.0|    3.0|  1.0|20160415|     CRS| null|      G|      I|   null|      M| 1985.0|     D/S|     F|  null|    VES| 9.358401713E10|87113|      F1| KCHS|large_airport|Charleston Air Fo...|          46|       NA|         US|     US-SC|  Charleston|    KCHS|      CHS|       CHS|-80.04049683, 32....|Charleston|South Carolina|      35.0|          63956|            71568|          135524|              9368|        5767|                   2.4|        SC|  Hispanic or Latino|  3929|Charleston|  32.95N|   79.47W|      17.80519615384615|\n",
      "|2871227.0|2016.0|   4.0| 696.0| 696.0|    CHS|20559.0|    2.0|     CO|20714.0|  31.0|    3.0|  1.0|20160415|     CRS| null|      G|      I|   null|      M| 1985.0|     D/S|     F|  null|    VES| 9.358401713E10|87113|      F1| KCHS|large_airport|Charleston Air Fo...|          46|       NA|         US|     US-SC|  Charleston|    KCHS|      CHS|       CHS|-80.04049683, 32....|Charleston|South Carolina|      35.0|          63956|            71568|          135524|              9368|        5767|                   2.4|        SC|Black or African-...| 29998|Charleston|  32.95N|   79.47W|      17.80519615384615|\n",
      "|2871227.0|2016.0|   4.0| 696.0| 696.0|    CHS|20559.0|    2.0|     CO|20714.0|  31.0|    3.0|  1.0|20160415|     CRS| null|      G|      I|   null|      M| 1985.0|     D/S|     F|  null|    VES| 9.358401713E10|87113|      F1| KCHS|large_airport|Charleston Air Fo...|          46|       NA|         US|     US-SC|  Charleston|    KCHS|      CHS|       CHS|-80.04049683, 32....|Charleston|South Carolina|      35.0|          63956|            71568|          135524|              9368|        5767|                   2.4|        SC|               Asian|  2773|Charleston|  32.95N|   79.47W|      17.80519615384615|\n",
      "|3672713.0|2016.0|   4.0| 133.0| 264.0|    CHS|20564.0|    2.0|   null|20571.0|  42.0|    2.0|  1.0|20160420|     IST| null|      H|      O|   null|      M| 1974.0|10132016|     F|  null|    VES| 9.351494723E10|87113|      B2| KCHS|large_airport|Charleston Air Fo...|          46|       NA|         US|     US-SC|  Charleston|    KCHS|      CHS|       CHS|-80.04049683, 32....|Charleston|South Carolina|      35.0|          63956|            71568|          135524|              9368|        5767|                   2.4|        SC|American Indian a...|   633|Charleston|  32.95N|   79.47W|      17.80519615384615|\n",
      "|3672713.0|2016.0|   4.0| 133.0| 264.0|    CHS|20564.0|    2.0|   null|20571.0|  42.0|    2.0|  1.0|20160420|     IST| null|      H|      O|   null|      M| 1974.0|10132016|     F|  null|    VES| 9.351494723E10|87113|      B2| KCHS|large_airport|Charleston Air Fo...|          46|       NA|         US|     US-SC|  Charleston|    KCHS|      CHS|       CHS|-80.04049683, 32....|Charleston|South Carolina|      35.0|          63956|            71568|          135524|              9368|        5767|                   2.4|        SC|               White|104016|Charleston|  32.95N|   79.47W|      17.80519615384615|\n",
      "|3672713.0|2016.0|   4.0| 133.0| 264.0|    CHS|20564.0|    2.0|   null|20571.0|  42.0|    2.0|  1.0|20160420|     IST| null|      H|      O|   null|      M| 1974.0|10132016|     F|  null|    VES| 9.351494723E10|87113|      B2| KCHS|large_airport|Charleston Air Fo...|          46|       NA|         US|     US-SC|  Charleston|    KCHS|      CHS|       CHS|-80.04049683, 32....|Charleston|South Carolina|      35.0|          63956|            71568|          135524|              9368|        5767|                   2.4|        SC|  Hispanic or Latino|  3929|Charleston|  32.95N|   79.47W|      17.80519615384615|\n",
      "|3672713.0|2016.0|   4.0| 133.0| 264.0|    CHS|20564.0|    2.0|   null|20571.0|  42.0|    2.0|  1.0|20160420|     IST| null|      H|      O|   null|      M| 1974.0|10132016|     F|  null|    VES| 9.351494723E10|87113|      B2| KCHS|large_airport|Charleston Air Fo...|          46|       NA|         US|     US-SC|  Charleston|    KCHS|      CHS|       CHS|-80.04049683, 32....|Charleston|South Carolina|      35.0|          63956|            71568|          135524|              9368|        5767|                   2.4|        SC|Black or African-...| 29998|Charleston|  32.95N|   79.47W|      17.80519615384615|\n",
      "|3672713.0|2016.0|   4.0| 133.0| 264.0|    CHS|20564.0|    2.0|   null|20571.0|  42.0|    2.0|  1.0|20160420|     IST| null|      H|      O|   null|      M| 1974.0|10132016|     F|  null|    VES| 9.351494723E10|87113|      B2| KCHS|large_airport|Charleston Air Fo...|          46|       NA|         US|     US-SC|  Charleston|    KCHS|      CHS|       CHS|-80.04049683, 32....|Charleston|South Carolina|      35.0|          63956|            71568|          135524|              9368|        5767|                   2.4|        SC|               Asian|  2773|Charleston|  32.95N|   79.47W|      17.80519615384615|\n",
      "|3672714.0|2016.0|   4.0| 133.0| 264.0|    CHS|20564.0|    2.0|   null|20571.0|   4.0|    2.0|  1.0|20160420|     IST| null|      H|      O|   null|      M| 2012.0|10132016|     F|  null|    VES| 9.351471083E10|87113|      B2| KCHS|large_airport|Charleston Air Fo...|          46|       NA|         US|     US-SC|  Charleston|    KCHS|      CHS|       CHS|-80.04049683, 32....|Charleston|South Carolina|      35.0|          63956|            71568|          135524|              9368|        5767|                   2.4|        SC|American Indian a...|   633|Charleston|  32.95N|   79.47W|      17.80519615384615|\n",
      "|3672714.0|2016.0|   4.0| 133.0| 264.0|    CHS|20564.0|    2.0|   null|20571.0|   4.0|    2.0|  1.0|20160420|     IST| null|      H|      O|   null|      M| 2012.0|10132016|     F|  null|    VES| 9.351471083E10|87113|      B2| KCHS|large_airport|Charleston Air Fo...|          46|       NA|         US|     US-SC|  Charleston|    KCHS|      CHS|       CHS|-80.04049683, 32....|Charleston|South Carolina|      35.0|          63956|            71568|          135524|              9368|        5767|                   2.4|        SC|               White|104016|Charleston|  32.95N|   79.47W|      17.80519615384615|\n",
      "|3672714.0|2016.0|   4.0| 133.0| 264.0|    CHS|20564.0|    2.0|   null|20571.0|   4.0|    2.0|  1.0|20160420|     IST| null|      H|      O|   null|      M| 2012.0|10132016|     F|  null|    VES| 9.351471083E10|87113|      B2| KCHS|large_airport|Charleston Air Fo...|          46|       NA|         US|     US-SC|  Charleston|    KCHS|      CHS|       CHS|-80.04049683, 32....|Charleston|South Carolina|      35.0|          63956|            71568|          135524|              9368|        5767|                   2.4|        SC|  Hispanic or Latino|  3929|Charleston|  32.95N|   79.47W|      17.80519615384615|\n",
      "|3672714.0|2016.0|   4.0| 133.0| 264.0|    CHS|20564.0|    2.0|   null|20571.0|   4.0|    2.0|  1.0|20160420|     IST| null|      H|      O|   null|      M| 2012.0|10132016|     F|  null|    VES| 9.351471083E10|87113|      B2| KCHS|large_airport|Charleston Air Fo...|          46|       NA|         US|     US-SC|  Charleston|    KCHS|      CHS|       CHS|-80.04049683, 32....|Charleston|South Carolina|      35.0|          63956|            71568|          135524|              9368|        5767|                   2.4|        SC|Black or African-...| 29998|Charleston|  32.95N|   79.47W|      17.80519615384615|\n",
      "|3672714.0|2016.0|   4.0| 133.0| 264.0|    CHS|20564.0|    2.0|   null|20571.0|   4.0|    2.0|  1.0|20160420|     IST| null|      H|      O|   null|      M| 2012.0|10132016|     F|  null|    VES| 9.351471083E10|87113|      B2| KCHS|large_airport|Charleston Air Fo...|          46|       NA|         US|     US-SC|  Charleston|    KCHS|      CHS|       CHS|-80.04049683, 32....|Charleston|South Carolina|      35.0|          63956|            71568|          135524|              9368|        5767|                   2.4|        SC|               Asian|  2773|Charleston|  32.95N|   79.47W|      17.80519615384615|\n",
      "|3672715.0|2016.0|   4.0| 133.0| 264.0|    CHS|20564.0|    2.0|     FL|20571.0|  44.0|    2.0|  1.0|20160420|     IST| null|      G|      O|   null|      M| 1972.0|10192016|     M|  null|    VES| 9.402016173E10|87113|      B2| KCHS|large_airport|Charleston Air Fo...|          46|       NA|         US|     US-SC|  Charleston|    KCHS|      CHS|       CHS|-80.04049683, 32....|Charleston|South Carolina|      35.0|          63956|            71568|          135524|              9368|        5767|                   2.4|        SC|American Indian a...|   633|Charleston|  32.95N|   79.47W|      17.80519615384615|\n",
      "|3672715.0|2016.0|   4.0| 133.0| 264.0|    CHS|20564.0|    2.0|     FL|20571.0|  44.0|    2.0|  1.0|20160420|     IST| null|      G|      O|   null|      M| 1972.0|10192016|     M|  null|    VES| 9.402016173E10|87113|      B2| KCHS|large_airport|Charleston Air Fo...|          46|       NA|         US|     US-SC|  Charleston|    KCHS|      CHS|       CHS|-80.04049683, 32....|Charleston|South Carolina|      35.0|          63956|            71568|          135524|              9368|        5767|                   2.4|        SC|               White|104016|Charleston|  32.95N|   79.47W|      17.80519615384615|\n",
      "|3672715.0|2016.0|   4.0| 133.0| 264.0|    CHS|20564.0|    2.0|     FL|20571.0|  44.0|    2.0|  1.0|20160420|     IST| null|      G|      O|   null|      M| 1972.0|10192016|     M|  null|    VES| 9.402016173E10|87113|      B2| KCHS|large_airport|Charleston Air Fo...|          46|       NA|         US|     US-SC|  Charleston|    KCHS|      CHS|       CHS|-80.04049683, 32....|Charleston|South Carolina|      35.0|          63956|            71568|          135524|              9368|        5767|                   2.4|        SC|  Hispanic or Latino|  3929|Charleston|  32.95N|   79.47W|      17.80519615384615|\n",
      "|3672715.0|2016.0|   4.0| 133.0| 264.0|    CHS|20564.0|    2.0|     FL|20571.0|  44.0|    2.0|  1.0|20160420|     IST| null|      G|      O|   null|      M| 1972.0|10192016|     M|  null|    VES| 9.402016173E10|87113|      B2| KCHS|large_airport|Charleston Air Fo...|          46|       NA|         US|     US-SC|  Charleston|    KCHS|      CHS|       CHS|-80.04049683, 32....|Charleston|South Carolina|      35.0|          63956|            71568|          135524|              9368|        5767|                   2.4|        SC|Black or African-...| 29998|Charleston|  32.95N|   79.47W|      17.80519615384615|\n",
      "|3672715.0|2016.0|   4.0| 133.0| 264.0|    CHS|20564.0|    2.0|     FL|20571.0|  44.0|    2.0|  1.0|20160420|     IST| null|      G|      O|   null|      M| 1972.0|10192016|     M|  null|    VES| 9.402016173E10|87113|      B2| KCHS|large_airport|Charleston Air Fo...|          46|       NA|         US|     US-SC|  Charleston|    KCHS|      CHS|       CHS|-80.04049683, 32....|Charleston|South Carolina|      35.0|          63956|            71568|          135524|              9368|        5767|                   2.4|        SC|               Asian|  2773|Charleston|  32.95N|   79.47W|      17.80519615384615|\n",
      "|3689201.0|2016.0|   4.0| 155.0| 155.0|    CHS|20564.0|    2.0|   null|20705.0|  23.0|    2.0|  1.0|20160420|     ATA| null|      G|      O|   null|      M| 1993.0|10192016|     M|  null|    VES| 9.401394943E10|87113|      B2| KCHS|large_airport|Charleston Air Fo...|          46|       NA|         US|     US-SC|  Charleston|    KCHS|      CHS|       CHS|-80.04049683, 32....|Charleston|South Carolina|      35.0|          63956|            71568|          135524|              9368|        5767|                   2.4|        SC|American Indian a...|   633|Charleston|  32.95N|   79.47W|      17.80519615384615|\n",
      "|3689201.0|2016.0|   4.0| 155.0| 155.0|    CHS|20564.0|    2.0|   null|20705.0|  23.0|    2.0|  1.0|20160420|     ATA| null|      G|      O|   null|      M| 1993.0|10192016|     M|  null|    VES| 9.401394943E10|87113|      B2| KCHS|large_airport|Charleston Air Fo...|          46|       NA|         US|     US-SC|  Charleston|    KCHS|      CHS|       CHS|-80.04049683, 32....|Charleston|South Carolina|      35.0|          63956|            71568|          135524|              9368|        5767|                   2.4|        SC|               White|104016|Charleston|  32.95N|   79.47W|      17.80519615384615|\n",
      "|3689201.0|2016.0|   4.0| 155.0| 155.0|    CHS|20564.0|    2.0|   null|20705.0|  23.0|    2.0|  1.0|20160420|     ATA| null|      G|      O|   null|      M| 1993.0|10192016|     M|  null|    VES| 9.401394943E10|87113|      B2| KCHS|large_airport|Charleston Air Fo...|          46|       NA|         US|     US-SC|  Charleston|    KCHS|      CHS|       CHS|-80.04049683, 32....|Charleston|South Carolina|      35.0|          63956|            71568|          135524|              9368|        5767|                   2.4|        SC|  Hispanic or Latino|  3929|Charleston|  32.95N|   79.47W|      17.80519615384615|\n",
      "|3689201.0|2016.0|   4.0| 155.0| 155.0|    CHS|20564.0|    2.0|   null|20705.0|  23.0|    2.0|  1.0|20160420|     ATA| null|      G|      O|   null|      M| 1993.0|10192016|     M|  null|    VES| 9.401394943E10|87113|      B2| KCHS|large_airport|Charleston Air Fo...|          46|       NA|         US|     US-SC|  Charleston|    KCHS|      CHS|       CHS|-80.04049683, 32....|Charleston|South Carolina|      35.0|          63956|            71568|          135524|              9368|        5767|                   2.4|        SC|Black or African-...| 29998|Charleston|  32.95N|   79.47W|      17.80519615384615|\n",
      "|3689201.0|2016.0|   4.0| 155.0| 155.0|    CHS|20564.0|    2.0|   null|20705.0|  23.0|    2.0|  1.0|20160420|     ATA| null|      G|      O|   null|      M| 1993.0|10192016|     M|  null|    VES| 9.401394943E10|87113|      B2| KCHS|large_airport|Charleston Air Fo...|          46|       NA|         US|     US-SC|  Charleston|    KCHS|      CHS|       CHS|-80.04049683, 32....|Charleston|South Carolina|      35.0|          63956|            71568|          135524|              9368|        5767|                   2.4|        SC|               Asian|  2773|Charleston|  32.95N|   79.47W|      17.80519615384615|\n",
      "|3701426.0|2016.0|   4.0| 213.0| 213.0|    CHS|20564.0|    2.0|   null|20567.0|  46.0|    2.0|  1.0|20160420|     NSS| null|      G|      O|   null|      M| 1970.0|10192016|     F|  null|    VES| 9.401316013E10|87113|      B2| KCHS|large_airport|Charleston Air Fo...|          46|       NA|         US|     US-SC|  Charleston|    KCHS|      CHS|       CHS|-80.04049683, 32....|Charleston|South Carolina|      35.0|          63956|            71568|          135524|              9368|        5767|                   2.4|        SC|American Indian a...|   633|Charleston|  32.95N|   79.47W|      17.80519615384615|\n",
      "|3701426.0|2016.0|   4.0| 213.0| 213.0|    CHS|20564.0|    2.0|   null|20567.0|  46.0|    2.0|  1.0|20160420|     NSS| null|      G|      O|   null|      M| 1970.0|10192016|     F|  null|    VES| 9.401316013E10|87113|      B2| KCHS|large_airport|Charleston Air Fo...|          46|       NA|         US|     US-SC|  Charleston|    KCHS|      CHS|       CHS|-80.04049683, 32....|Charleston|South Carolina|      35.0|          63956|            71568|          135524|              9368|        5767|                   2.4|        SC|               White|104016|Charleston|  32.95N|   79.47W|      17.80519615384615|\n",
      "|3701426.0|2016.0|   4.0| 213.0| 213.0|    CHS|20564.0|    2.0|   null|20567.0|  46.0|    2.0|  1.0|20160420|     NSS| null|      G|      O|   null|      M| 1970.0|10192016|     F|  null|    VES| 9.401316013E10|87113|      B2| KCHS|large_airport|Charleston Air Fo...|          46|       NA|         US|     US-SC|  Charleston|    KCHS|      CHS|       CHS|-80.04049683, 32....|Charleston|South Carolina|      35.0|          63956|            71568|          135524|              9368|        5767|                   2.4|        SC|  Hispanic or Latino|  3929|Charleston|  32.95N|   79.47W|      17.80519615384615|\n",
      "|3701426.0|2016.0|   4.0| 213.0| 213.0|    CHS|20564.0|    2.0|   null|20567.0|  46.0|    2.0|  1.0|20160420|     NSS| null|      G|      O|   null|      M| 1970.0|10192016|     F|  null|    VES| 9.401316013E10|87113|      B2| KCHS|large_airport|Charleston Air Fo...|          46|       NA|         US|     US-SC|  Charleston|    KCHS|      CHS|       CHS|-80.04049683, 32....|Charleston|South Carolina|      35.0|          63956|            71568|          135524|              9368|        5767|                   2.4|        SC|Black or African-...| 29998|Charleston|  32.95N|   79.47W|      17.80519615384615|\n",
      "|3701426.0|2016.0|   4.0| 213.0| 213.0|    CHS|20564.0|    2.0|   null|20567.0|  46.0|    2.0|  1.0|20160420|     NSS| null|      G|      O|   null|      M| 1970.0|10192016|     F|  null|    VES| 9.401316013E10|87113|      B2| KCHS|large_airport|Charleston Air Fo...|          46|       NA|         US|     US-SC|  Charleston|    KCHS|      CHS|       CHS|-80.04049683, 32....|Charleston|South Carolina|      35.0|          63956|            71568|          135524|              9368|        5767|                   2.4|        SC|               Asian|  2773|Charleston|  32.95N|   79.47W|      17.80519615384615|\n",
      "|3701427.0|2016.0|   4.0| 213.0| 213.0|    CHS|20564.0|    2.0|     NJ|20616.0|  54.0|    2.0|  1.0|20160420|     NSS| null|      G|      I|   null|      M| 1962.0|10192016|     M|  null|    VES| 9.401322343E10|87113|      B2| KCHS|large_airport|Charleston Air Fo...|          46|       NA|         US|     US-SC|  Charleston|    KCHS|      CHS|       CHS|-80.04049683, 32....|Charleston|South Carolina|      35.0|          63956|            71568|          135524|              9368|        5767|                   2.4|        SC|American Indian a...|   633|Charleston|  32.95N|   79.47W|      17.80519615384615|\n",
      "|3701427.0|2016.0|   4.0| 213.0| 213.0|    CHS|20564.0|    2.0|     NJ|20616.0|  54.0|    2.0|  1.0|20160420|     NSS| null|      G|      I|   null|      M| 1962.0|10192016|     M|  null|    VES| 9.401322343E10|87113|      B2| KCHS|large_airport|Charleston Air Fo...|          46|       NA|         US|     US-SC|  Charleston|    KCHS|      CHS|       CHS|-80.04049683, 32....|Charleston|South Carolina|      35.0|          63956|            71568|          135524|              9368|        5767|                   2.4|        SC|               White|104016|Charleston|  32.95N|   79.47W|      17.80519615384615|\n",
      "|3701427.0|2016.0|   4.0| 213.0| 213.0|    CHS|20564.0|    2.0|     NJ|20616.0|  54.0|    2.0|  1.0|20160420|     NSS| null|      G|      I|   null|      M| 1962.0|10192016|     M|  null|    VES| 9.401322343E10|87113|      B2| KCHS|large_airport|Charleston Air Fo...|          46|       NA|         US|     US-SC|  Charleston|    KCHS|      CHS|       CHS|-80.04049683, 32....|Charleston|South Carolina|      35.0|          63956|            71568|          135524|              9368|        5767|                   2.4|        SC|  Hispanic or Latino|  3929|Charleston|  32.95N|   79.47W|      17.80519615384615|\n",
      "|3701427.0|2016.0|   4.0| 213.0| 213.0|    CHS|20564.0|    2.0|     NJ|20616.0|  54.0|    2.0|  1.0|20160420|     NSS| null|      G|      I|   null|      M| 1962.0|10192016|     M|  null|    VES| 9.401322343E10|87113|      B2| KCHS|large_airport|Charleston Air Fo...|          46|       NA|         US|     US-SC|  Charleston|    KCHS|      CHS|       CHS|-80.04049683, 32....|Charleston|South Carolina|      35.0|          63956|            71568|          135524|              9368|        5767|                   2.4|        SC|Black or African-...| 29998|Charleston|  32.95N|   79.47W|      17.80519615384615|\n",
      "|3701427.0|2016.0|   4.0| 213.0| 213.0|    CHS|20564.0|    2.0|     NJ|20616.0|  54.0|    2.0|  1.0|20160420|     NSS| null|      G|      I|   null|      M| 1962.0|10192016|     M|  null|    VES| 9.401322343E10|87113|      B2| KCHS|large_airport|Charleston Air Fo...|          46|       NA|         US|     US-SC|  Charleston|    KCHS|      CHS|       CHS|-80.04049683, 32....|Charleston|South Carolina|      35.0|          63956|            71568|          135524|              9368|        5767|                   2.4|        SC|               Asian|  2773|Charleston|  32.95N|   79.47W|      17.80519615384615|\n",
      "|3870089.0|2016.0|   4.0| 148.0| 112.0|    CHS|20565.0|    2.0|   null|20568.0|  62.0|    2.0|  1.0|20160421|    null| null|      T|      O|   null|      M| 1954.0|07192016|     M|  null|    VES|   8.39320285E8|91564|      WT| KCHS|large_airport|Charleston Air Fo...|          46|       NA|         US|     US-SC|  Charleston|    KCHS|      CHS|       CHS|-80.04049683, 32....|Charleston|South Carolina|      35.0|          63956|            71568|          135524|              9368|        5767|                   2.4|        SC|American Indian a...|   633|Charleston|  32.95N|   79.47W|      17.80519615384615|\n",
      "|3870089.0|2016.0|   4.0| 148.0| 112.0|    CHS|20565.0|    2.0|   null|20568.0|  62.0|    2.0|  1.0|20160421|    null| null|      T|      O|   null|      M| 1954.0|07192016|     M|  null|    VES|   8.39320285E8|91564|      WT| KCHS|large_airport|Charleston Air Fo...|          46|       NA|         US|     US-SC|  Charleston|    KCHS|      CHS|       CHS|-80.04049683, 32....|Charleston|South Carolina|      35.0|          63956|            71568|          135524|              9368|        5767|                   2.4|        SC|               White|104016|Charleston|  32.95N|   79.47W|      17.80519615384615|\n",
      "|3870089.0|2016.0|   4.0| 148.0| 112.0|    CHS|20565.0|    2.0|   null|20568.0|  62.0|    2.0|  1.0|20160421|    null| null|      T|      O|   null|      M| 1954.0|07192016|     M|  null|    VES|   8.39320285E8|91564|      WT| KCHS|large_airport|Charleston Air Fo...|          46|       NA|         US|     US-SC|  Charleston|    KCHS|      CHS|       CHS|-80.04049683, 32....|Charleston|South Carolina|      35.0|          63956|            71568|          135524|              9368|        5767|                   2.4|        SC|  Hispanic or Latino|  3929|Charleston|  32.95N|   79.47W|      17.80519615384615|\n",
      "|3870089.0|2016.0|   4.0| 148.0| 112.0|    CHS|20565.0|    2.0|   null|20568.0|  62.0|    2.0|  1.0|20160421|    null| null|      T|      O|   null|      M| 1954.0|07192016|     M|  null|    VES|   8.39320285E8|91564|      WT| KCHS|large_airport|Charleston Air Fo...|          46|       NA|         US|     US-SC|  Charleston|    KCHS|      CHS|       CHS|-80.04049683, 32....|Charleston|South Carolina|      35.0|          63956|            71568|          135524|              9368|        5767|                   2.4|        SC|Black or African-...| 29998|Charleston|  32.95N|   79.47W|      17.80519615384615|\n",
      "|3870089.0|2016.0|   4.0| 148.0| 112.0|    CHS|20565.0|    2.0|   null|20568.0|  62.0|    2.0|  1.0|20160421|    null| null|      T|      O|   null|      M| 1954.0|07192016|     M|  null|    VES|   8.39320285E8|91564|      WT| KCHS|large_airport|Charleston Air Fo...|          46|       NA|         US|     US-SC|  Charleston|    KCHS|      CHS|       CHS|-80.04049683, 32....|Charleston|South Carolina|      35.0|          63956|            71568|          135524|              9368|        5767|                   2.4|        SC|               Asian|  2773|Charleston|  32.95N|   79.47W|      17.80519615384615|\n",
      "|3870090.0|2016.0|   4.0| 148.0| 112.0|    CHS|20565.0|    2.0|   null|20568.0|  56.0|    2.0|  1.0|20160421|    null| null|      T|      O|   null|      M| 1960.0|07092016|     F|  null|    VES|   8.39316685E8|91564|      WT| KCHS|large_airport|Charleston Air Fo...|          46|       NA|         US|     US-SC|  Charleston|    KCHS|      CHS|       CHS|-80.04049683, 32....|Charleston|South Carolina|      35.0|          63956|            71568|          135524|              9368|        5767|                   2.4|        SC|American Indian a...|   633|Charleston|  32.95N|   79.47W|      17.80519615384615|\n",
      "|3870090.0|2016.0|   4.0| 148.0| 112.0|    CHS|20565.0|    2.0|   null|20568.0|  56.0|    2.0|  1.0|20160421|    null| null|      T|      O|   null|      M| 1960.0|07092016|     F|  null|    VES|   8.39316685E8|91564|      WT| KCHS|large_airport|Charleston Air Fo...|          46|       NA|         US|     US-SC|  Charleston|    KCHS|      CHS|       CHS|-80.04049683, 32....|Charleston|South Carolina|      35.0|          63956|            71568|          135524|              9368|        5767|                   2.4|        SC|               White|104016|Charleston|  32.95N|   79.47W|      17.80519615384615|\n",
      "|3870090.0|2016.0|   4.0| 148.0| 112.0|    CHS|20565.0|    2.0|   null|20568.0|  56.0|    2.0|  1.0|20160421|    null| null|      T|      O|   null|      M| 1960.0|07092016|     F|  null|    VES|   8.39316685E8|91564|      WT| KCHS|large_airport|Charleston Air Fo...|          46|       NA|         US|     US-SC|  Charleston|    KCHS|      CHS|       CHS|-80.04049683, 32....|Charleston|South Carolina|      35.0|          63956|            71568|          135524|              9368|        5767|                   2.4|        SC|  Hispanic or Latino|  3929|Charleston|  32.95N|   79.47W|      17.80519615384615|\n",
      "|3870090.0|2016.0|   4.0| 148.0| 112.0|    CHS|20565.0|    2.0|   null|20568.0|  56.0|    2.0|  1.0|20160421|    null| null|      T|      O|   null|      M| 1960.0|07092016|     F|  null|    VES|   8.39316685E8|91564|      WT| KCHS|large_airport|Charleston Air Fo...|          46|       NA|         US|     US-SC|  Charleston|    KCHS|      CHS|       CHS|-80.04049683, 32....|Charleston|South Carolina|      35.0|          63956|            71568|          135524|              9368|        5767|                   2.4|        SC|Black or African-...| 29998|Charleston|  32.95N|   79.47W|      17.80519615384615|\n",
      "|3870090.0|2016.0|   4.0| 148.0| 112.0|    CHS|20565.0|    2.0|   null|20568.0|  56.0|    2.0|  1.0|20160421|    null| null|      T|      O|   null|      M| 1960.0|07092016|     F|  null|    VES|   8.39316685E8|91564|      WT| KCHS|large_airport|Charleston Air Fo...|          46|       NA|         US|     US-SC|  Charleston|    KCHS|      CHS|       CHS|-80.04049683, 32....|Charleston|South Carolina|      35.0|          63956|            71568|          135524|              9368|        5767|                   2.4|        SC|               Asian|  2773|Charleston|  32.95N|   79.47W|      17.80519615384615|\n",
      "|4723765.0|2016.0|   4.0| 213.0| 213.0|    CHS|20569.0|    2.0|     IL|20578.0|  51.0|    2.0|  1.0|20160425|     BMB| null|      G|      O|   null|      M| 1965.0|05242016|     M|  null|    VES| 9.448573943E10|87113|      B2| KCHS|large_airport|Charleston Air Fo...|          46|       NA|         US|     US-SC|  Charleston|    KCHS|      CHS|       CHS|-80.04049683, 32....|Charleston|South Carolina|      35.0|          63956|            71568|          135524|              9368|        5767|                   2.4|        SC|American Indian a...|   633|Charleston|  32.95N|   79.47W|      17.80519615384615|\n",
      "|4723765.0|2016.0|   4.0| 213.0| 213.0|    CHS|20569.0|    2.0|     IL|20578.0|  51.0|    2.0|  1.0|20160425|     BMB| null|      G|      O|   null|      M| 1965.0|05242016|     M|  null|    VES| 9.448573943E10|87113|      B2| KCHS|large_airport|Charleston Air Fo...|          46|       NA|         US|     US-SC|  Charleston|    KCHS|      CHS|       CHS|-80.04049683, 32....|Charleston|South Carolina|      35.0|          63956|            71568|          135524|              9368|        5767|                   2.4|        SC|               White|104016|Charleston|  32.95N|   79.47W|      17.80519615384615|\n",
      "|4723765.0|2016.0|   4.0| 213.0| 213.0|    CHS|20569.0|    2.0|     IL|20578.0|  51.0|    2.0|  1.0|20160425|     BMB| null|      G|      O|   null|      M| 1965.0|05242016|     M|  null|    VES| 9.448573943E10|87113|      B2| KCHS|large_airport|Charleston Air Fo...|          46|       NA|         US|     US-SC|  Charleston|    KCHS|      CHS|       CHS|-80.04049683, 32....|Charleston|South Carolina|      35.0|          63956|            71568|          135524|              9368|        5767|                   2.4|        SC|  Hispanic or Latino|  3929|Charleston|  32.95N|   79.47W|      17.80519615384615|\n",
      "|4723765.0|2016.0|   4.0| 213.0| 213.0|    CHS|20569.0|    2.0|     IL|20578.0|  51.0|    2.0|  1.0|20160425|     BMB| null|      G|      O|   null|      M| 1965.0|05242016|     M|  null|    VES| 9.448573943E10|87113|      B2| KCHS|large_airport|Charleston Air Fo...|          46|       NA|         US|     US-SC|  Charleston|    KCHS|      CHS|       CHS|-80.04049683, 32....|Charleston|South Carolina|      35.0|          63956|            71568|          135524|              9368|        5767|                   2.4|        SC|Black or African-...| 29998|Charleston|  32.95N|   79.47W|      17.80519615384615|\n",
      "|4723765.0|2016.0|   4.0| 213.0| 213.0|    CHS|20569.0|    2.0|     IL|20578.0|  51.0|    2.0|  1.0|20160425|     BMB| null|      G|      O|   null|      M| 1965.0|05242016|     M|  null|    VES| 9.448573943E10|87113|      B2| KCHS|large_airport|Charleston Air Fo...|          46|       NA|         US|     US-SC|  Charleston|    KCHS|      CHS|       CHS|-80.04049683, 32....|Charleston|South Carolina|      35.0|          63956|            71568|          135524|              9368|        5767|                   2.4|        SC|               Asian|  2773|Charleston|  32.95N|   79.47W|      17.80519615384615|\n",
      "|4750584.0|2016.0|   4.0| 438.0| 438.0|    CHS|20569.0|    2.0|   null|20575.0|  28.0|    2.0|  1.0|20160425|    null| null|      G|      O|   null|      M| 1988.0|07232016|     M|  null|    VES|5.9220508533E10|87113|      WT| KCHS|large_airport|Charleston Air Fo...|          46|       NA|         US|     US-SC|  Charleston|    KCHS|      CHS|       CHS|-80.04049683, 32....|Charleston|South Carolina|      35.0|          63956|            71568|          135524|              9368|        5767|                   2.4|        SC|American Indian a...|   633|Charleston|  32.95N|   79.47W|      17.80519615384615|\n",
      "|4750584.0|2016.0|   4.0| 438.0| 438.0|    CHS|20569.0|    2.0|   null|20575.0|  28.0|    2.0|  1.0|20160425|    null| null|      G|      O|   null|      M| 1988.0|07232016|     M|  null|    VES|5.9220508533E10|87113|      WT| KCHS|large_airport|Charleston Air Fo...|          46|       NA|         US|     US-SC|  Charleston|    KCHS|      CHS|       CHS|-80.04049683, 32....|Charleston|South Carolina|      35.0|          63956|            71568|          135524|              9368|        5767|                   2.4|        SC|               White|104016|Charleston|  32.95N|   79.47W|      17.80519615384615|\n",
      "|4750584.0|2016.0|   4.0| 438.0| 438.0|    CHS|20569.0|    2.0|   null|20575.0|  28.0|    2.0|  1.0|20160425|    null| null|      G|      O|   null|      M| 1988.0|07232016|     M|  null|    VES|5.9220508533E10|87113|      WT| KCHS|large_airport|Charleston Air Fo...|          46|       NA|         US|     US-SC|  Charleston|    KCHS|      CHS|       CHS|-80.04049683, 32....|Charleston|South Carolina|      35.0|          63956|            71568|          135524|              9368|        5767|                   2.4|        SC|  Hispanic or Latino|  3929|Charleston|  32.95N|   79.47W|      17.80519615384615|\n",
      "|4750584.0|2016.0|   4.0| 438.0| 438.0|    CHS|20569.0|    2.0|   null|20575.0|  28.0|    2.0|  1.0|20160425|    null| null|      G|      O|   null|      M| 1988.0|07232016|     M|  null|    VES|5.9220508533E10|87113|      WT| KCHS|large_airport|Charleston Air Fo...|          46|       NA|         US|     US-SC|  Charleston|    KCHS|      CHS|       CHS|-80.04049683, 32....|Charleston|South Carolina|      35.0|          63956|            71568|          135524|              9368|        5767|                   2.4|        SC|Black or African-...| 29998|Charleston|  32.95N|   79.47W|      17.80519615384615|\n",
      "|4750584.0|2016.0|   4.0| 438.0| 438.0|    CHS|20569.0|    2.0|   null|20575.0|  28.0|    2.0|  1.0|20160425|    null| null|      G|      O|   null|      M| 1988.0|07232016|     M|  null|    VES|5.9220508533E10|87113|      WT| KCHS|large_airport|Charleston Air Fo...|          46|       NA|         US|     US-SC|  Charleston|    KCHS|      CHS|       CHS|-80.04049683, 32....|Charleston|South Carolina|      35.0|          63956|            71568|          135524|              9368|        5767|                   2.4|        SC|               Asian|  2773|Charleston|  32.95N|   79.47W|      17.80519615384615|\n",
      "|5047359.0|2016.0|   4.0| 135.0| 509.0|    CHS|20571.0|    1.0|     SC|20573.0|  45.0|    2.0|  1.0|20160427|    null| null|      H|      R|   null|      M| 1971.0|07202016|     M|  null|    537|5.6571471033E10|02533|      WT| KCHS|large_airport|Charleston Air Fo...|          46|       NA|         US|     US-SC|  Charleston|    KCHS|      CHS|       CHS|-80.04049683, 32....|Charleston|South Carolina|      35.0|          63956|            71568|          135524|              9368|        5767|                   2.4|        SC|American Indian a...|   633|Charleston|  32.95N|   79.47W|      17.80519615384615|\n",
      "|5047359.0|2016.0|   4.0| 135.0| 509.0|    CHS|20571.0|    1.0|     SC|20573.0|  45.0|    2.0|  1.0|20160427|    null| null|      H|      R|   null|      M| 1971.0|07202016|     M|  null|    537|5.6571471033E10|02533|      WT| KCHS|large_airport|Charleston Air Fo...|          46|       NA|         US|     US-SC|  Charleston|    KCHS|      CHS|       CHS|-80.04049683, 32....|Charleston|South Carolina|      35.0|          63956|            71568|          135524|              9368|        5767|                   2.4|        SC|               White|104016|Charleston|  32.95N|   79.47W|      17.80519615384615|\n",
      "|5047359.0|2016.0|   4.0| 135.0| 509.0|    CHS|20571.0|    1.0|     SC|20573.0|  45.0|    2.0|  1.0|20160427|    null| null|      H|      R|   null|      M| 1971.0|07202016|     M|  null|    537|5.6571471033E10|02533|      WT| KCHS|large_airport|Charleston Air Fo...|          46|       NA|         US|     US-SC|  Charleston|    KCHS|      CHS|       CHS|-80.04049683, 32....|Charleston|South Carolina|      35.0|          63956|            71568|          135524|              9368|        5767|                   2.4|        SC|  Hispanic or Latino|  3929|Charleston|  32.95N|   79.47W|      17.80519615384615|\n",
      "|5047359.0|2016.0|   4.0| 135.0| 509.0|    CHS|20571.0|    1.0|     SC|20573.0|  45.0|    2.0|  1.0|20160427|    null| null|      H|      R|   null|      M| 1971.0|07202016|     M|  null|    537|5.6571471033E10|02533|      WT| KCHS|large_airport|Charleston Air Fo...|          46|       NA|         US|     US-SC|  Charleston|    KCHS|      CHS|       CHS|-80.04049683, 32....|Charleston|South Carolina|      35.0|          63956|            71568|          135524|              9368|        5767|                   2.4|        SC|Black or African-...| 29998|Charleston|  32.95N|   79.47W|      17.80519615384615|\n",
      "|5047359.0|2016.0|   4.0| 135.0| 509.0|    CHS|20571.0|    1.0|     SC|20573.0|  45.0|    2.0|  1.0|20160427|    null| null|      H|      R|   null|      M| 1971.0|07202016|     M|  null|    537|5.6571471033E10|02533|      WT| KCHS|large_airport|Charleston Air Fo...|          46|       NA|         US|     US-SC|  Charleston|    KCHS|      CHS|       CHS|-80.04049683, 32....|Charleston|South Carolina|      35.0|          63956|            71568|          135524|              9368|        5767|                   2.4|        SC|               Asian|  2773|Charleston|  32.95N|   79.47W|      17.80519615384615|\n",
      "|5661653.0|2016.0|   4.0| 107.0| 107.0|    CHS|20574.0|    2.0|     FL|20586.0|  48.0|    1.0|  1.0|20160430|     KRK| null|      G|      I|   null|      M| 1968.0|10292016|     M|  null|    VES| 9.496273063E10|87113|      B1| KCHS|large_airport|Charleston Air Fo...|          46|       NA|         US|     US-SC|  Charleston|    KCHS|      CHS|       CHS|-80.04049683, 32....|Charleston|South Carolina|      35.0|          63956|            71568|          135524|              9368|        5767|                   2.4|        SC|American Indian a...|   633|Charleston|  32.95N|   79.47W|      17.80519615384615|\n",
      "|5661653.0|2016.0|   4.0| 107.0| 107.0|    CHS|20574.0|    2.0|     FL|20586.0|  48.0|    1.0|  1.0|20160430|     KRK| null|      G|      I|   null|      M| 1968.0|10292016|     M|  null|    VES| 9.496273063E10|87113|      B1| KCHS|large_airport|Charleston Air Fo...|          46|       NA|         US|     US-SC|  Charleston|    KCHS|      CHS|       CHS|-80.04049683, 32....|Charleston|South Carolina|      35.0|          63956|            71568|          135524|              9368|        5767|                   2.4|        SC|               White|104016|Charleston|  32.95N|   79.47W|      17.80519615384615|\n",
      "|5661653.0|2016.0|   4.0| 107.0| 107.0|    CHS|20574.0|    2.0|     FL|20586.0|  48.0|    1.0|  1.0|20160430|     KRK| null|      G|      I|   null|      M| 1968.0|10292016|     M|  null|    VES| 9.496273063E10|87113|      B1| KCHS|large_airport|Charleston Air Fo...|          46|       NA|         US|     US-SC|  Charleston|    KCHS|      CHS|       CHS|-80.04049683, 32....|Charleston|South Carolina|      35.0|          63956|            71568|          135524|              9368|        5767|                   2.4|        SC|  Hispanic or Latino|  3929|Charleston|  32.95N|   79.47W|      17.80519615384615|\n",
      "|5661653.0|2016.0|   4.0| 107.0| 107.0|    CHS|20574.0|    2.0|     FL|20586.0|  48.0|    1.0|  1.0|20160430|     KRK| null|      G|      I|   null|      M| 1968.0|10292016|     M|  null|    VES| 9.496273063E10|87113|      B1| KCHS|large_airport|Charleston Air Fo...|          46|       NA|         US|     US-SC|  Charleston|    KCHS|      CHS|       CHS|-80.04049683, 32....|Charleston|South Carolina|      35.0|          63956|            71568|          135524|              9368|        5767|                   2.4|        SC|Black or African-...| 29998|Charleston|  32.95N|   79.47W|      17.80519615384615|\n",
      "|5661653.0|2016.0|   4.0| 107.0| 107.0|    CHS|20574.0|    2.0|     FL|20586.0|  48.0|    1.0|  1.0|20160430|     KRK| null|      G|      I|   null|      M| 1968.0|10292016|     M|  null|    VES| 9.496273063E10|87113|      B1| KCHS|large_airport|Charleston Air Fo...|          46|       NA|         US|     US-SC|  Charleston|    KCHS|      CHS|       CHS|-80.04049683, 32....|Charleston|South Carolina|      35.0|          63956|            71568|          135524|              9368|        5767|                   2.4|        SC|               Asian|  2773|Charleston|  32.95N|   79.47W|      17.80519615384615|\n",
      "|5661654.0|2016.0|   4.0| 107.0| 107.0|    CHS|20574.0|    2.0|     FL|20586.0|  45.0|    1.0|  1.0|20160430|     KRK| null|      G|      I|   null|      M| 1971.0|10292016|     M|  null|    VES| 9.496287723E10|87113|      B1| KCHS|large_airport|Charleston Air Fo...|          46|       NA|         US|     US-SC|  Charleston|    KCHS|      CHS|       CHS|-80.04049683, 32....|Charleston|South Carolina|      35.0|          63956|            71568|          135524|              9368|        5767|                   2.4|        SC|American Indian a...|   633|Charleston|  32.95N|   79.47W|      17.80519615384615|\n",
      "|5661654.0|2016.0|   4.0| 107.0| 107.0|    CHS|20574.0|    2.0|     FL|20586.0|  45.0|    1.0|  1.0|20160430|     KRK| null|      G|      I|   null|      M| 1971.0|10292016|     M|  null|    VES| 9.496287723E10|87113|      B1| KCHS|large_airport|Charleston Air Fo...|          46|       NA|         US|     US-SC|  Charleston|    KCHS|      CHS|       CHS|-80.04049683, 32....|Charleston|South Carolina|      35.0|          63956|            71568|          135524|              9368|        5767|                   2.4|        SC|               White|104016|Charleston|  32.95N|   79.47W|      17.80519615384615|\n",
      "|5661654.0|2016.0|   4.0| 107.0| 107.0|    CHS|20574.0|    2.0|     FL|20586.0|  45.0|    1.0|  1.0|20160430|     KRK| null|      G|      I|   null|      M| 1971.0|10292016|     M|  null|    VES| 9.496287723E10|87113|      B1| KCHS|large_airport|Charleston Air Fo...|          46|       NA|         US|     US-SC|  Charleston|    KCHS|      CHS|       CHS|-80.04049683, 32....|Charleston|South Carolina|      35.0|          63956|            71568|          135524|              9368|        5767|                   2.4|        SC|  Hispanic or Latino|  3929|Charleston|  32.95N|   79.47W|      17.80519615384615|\n",
      "|5661654.0|2016.0|   4.0| 107.0| 107.0|    CHS|20574.0|    2.0|     FL|20586.0|  45.0|    1.0|  1.0|20160430|     KRK| null|      G|      I|   null|      M| 1971.0|10292016|     M|  null|    VES| 9.496287723E10|87113|      B1| KCHS|large_airport|Charleston Air Fo...|          46|       NA|         US|     US-SC|  Charleston|    KCHS|      CHS|       CHS|-80.04049683, 32....|Charleston|South Carolina|      35.0|          63956|            71568|          135524|              9368|        5767|                   2.4|        SC|Black or African-...| 29998|Charleston|  32.95N|   79.47W|      17.80519615384615|\n",
      "|5661654.0|2016.0|   4.0| 107.0| 107.0|    CHS|20574.0|    2.0|     FL|20586.0|  45.0|    1.0|  1.0|20160430|     KRK| null|      G|      I|   null|      M| 1971.0|10292016|     M|  null|    VES| 9.496287723E10|87113|      B1| KCHS|large_airport|Charleston Air Fo...|          46|       NA|         US|     US-SC|  Charleston|    KCHS|      CHS|       CHS|-80.04049683, 32....|Charleston|South Carolina|      35.0|          63956|            71568|          135524|              9368|        5767|                   2.4|        SC|               Asian|  2773|Charleston|  32.95N|   79.47W|      17.80519615384615|\n",
      "+---------+------+------+------+------+-------+-------+-------+-------+-------+------+-------+-----+--------+--------+-----+-------+-------+-------+-------+-------+--------+------+------+-------+---------------+-----+--------+-----+-------------+--------------------+------------+---------+-----------+----------+------------+--------+---------+----------+--------------------+----------+--------------+----------+---------------+-----------------+----------------+------------------+------------+----------------------+----------+--------------------+------+----------+--------+---------+-----------------------+\n",
      "only showing top 100 rows\n",
      "\n"
     ]
    }
   ],
   "source": [
    "df_join3 = df_join2.join(df_temp, df_join2.City==df_temp.City, 'left')\n",
    "df_join3.show(100)"
   ]
  },
  {
   "cell_type": "code",
   "execution_count": 27,
   "metadata": {
    "editable": true
   },
   "outputs": [
    {
     "data": {
      "text/plain": [
       "8257281"
      ]
     },
     "execution_count": 27,
     "metadata": {},
     "output_type": "execute_result"
    }
   ],
   "source": [
    "df_join3.count()"
   ]
  },
  {
   "cell_type": "markdown",
   "metadata": {
    "editable": true
   },
   "source": [
    "### Step 2: Explore and Assess the Data\n",
    "#### Explore the Data \n",
    "Identify data quality issues, like missing values, duplicate data, etc.\n",
    "\n",
    "#### Cleaning Steps\n",
    "Document steps necessary to clean the data"
   ]
  },
  {
   "cell_type": "code",
   "execution_count": null,
   "metadata": {
    "editable": true
   },
   "outputs": [],
   "source": [
    "# Performing cleaning tasks here\n",
    "\n",
    "\n",
    "\n"
   ]
  },
  {
   "cell_type": "markdown",
   "metadata": {
    "editable": true
   },
   "source": [
    "### Step 3: Define the Data Model\n",
    "#### 3.1 Conceptual Data Model\n",
    "Map out the conceptual data model and explain why you chose that model\n",
    "\n",
    "#### 3.2 Mapping Out Data Pipelines\n",
    "List the steps necessary to pipeline the data into the chosen data model"
   ]
  },
  {
   "cell_type": "markdown",
   "metadata": {
    "editable": true
   },
   "source": [
    "### Step 4: Run Pipelines to Model the Data \n",
    "#### 4.1 Create the data model\n",
    "Build the data pipelines to create the data model."
   ]
  },
  {
   "cell_type": "code",
   "execution_count": null,
   "metadata": {
    "editable": true
   },
   "outputs": [],
   "source": [
    "# Write code here"
   ]
  },
  {
   "cell_type": "markdown",
   "metadata": {
    "editable": true
   },
   "source": [
    "#### 4.2 Data Quality Checks\n",
    "Explain the data quality checks you'll perform to ensure the pipeline ran as expected. These could include:\n",
    " * Integrity constraints on the relational database (e.g., unique key, data type, etc.)\n",
    " * Unit tests for the scripts to ensure they are doing the right thing\n",
    " * Source/Count checks to ensure completeness\n",
    " \n",
    "Run Quality Checks"
   ]
  },
  {
   "cell_type": "code",
   "execution_count": null,
   "metadata": {
    "editable": true
   },
   "outputs": [],
   "source": [
    "# Perform quality checks here"
   ]
  },
  {
   "cell_type": "markdown",
   "metadata": {
    "editable": true
   },
   "source": [
    "#### 4.3 Data dictionary \n",
    "Create a data dictionary for your data model. For each field, provide a brief description of what the data is and where it came from. You can include the data dictionary in the notebook or in a separate file."
   ]
  },
  {
   "cell_type": "markdown",
   "metadata": {
    "editable": true
   },
   "source": [
    "#### Step 5: Complete Project Write Up\n",
    "* Clearly state the rationale for the choice of tools and technologies for the project.\n",
    "* Propose how often the data should be updated and why.\n",
    "* Write a description of how you would approach the problem differently under the following scenarios:\n",
    " * The data was increased by 100x.\n",
    " * The data populates a dashboard that must be updated on a daily basis by 7am every day.\n",
    " * The database needed to be accessed by 100+ people."
   ]
  },
  {
   "cell_type": "code",
   "execution_count": null,
   "metadata": {
    "editable": true
   },
   "outputs": [],
   "source": []
  },
  {
   "cell_type": "code",
   "execution_count": null,
   "metadata": {
    "editable": true
   },
   "outputs": [],
   "source": []
  },
  {
   "cell_type": "code",
   "execution_count": null,
   "metadata": {
    "editable": true
   },
   "outputs": [],
   "source": []
  },
  {
   "cell_type": "code",
   "execution_count": null,
   "metadata": {
    "editable": true
   },
   "outputs": [],
   "source": []
  },
  {
   "cell_type": "code",
   "execution_count": null,
   "metadata": {
    "editable": true
   },
   "outputs": [],
   "source": []
  },
  {
   "cell_type": "code",
   "execution_count": null,
   "metadata": {
    "editable": true
   },
   "outputs": [],
   "source": []
  }
 ],
 "metadata": {
  "kernelspec": {
   "display_name": "Python 3",
   "language": "python",
   "name": "python3"
  },
  "language_info": {
   "codemirror_mode": {
    "name": "ipython",
    "version": 3
   },
   "file_extension": ".py",
   "mimetype": "text/x-python",
   "name": "python",
   "nbconvert_exporter": "python",
   "pygments_lexer": "ipython3",
   "version": "3.6.3"
  }
 },
 "nbformat": 4,
 "nbformat_minor": 4
}
