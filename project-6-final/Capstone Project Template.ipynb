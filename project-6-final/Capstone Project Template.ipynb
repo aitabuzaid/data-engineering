{
 "cells": [
  {
   "cell_type": "markdown",
   "metadata": {
    "editable": true
   },
   "source": [
    "# Project Title\n",
    "### Data Engineering Capstone Project\n",
    "\n",
    "#### Project Summary\n",
    "--describe your project at a high level--\n",
    "\n",
    "The project follows the follow steps:\n",
    "* Step 1: Scope the Project and Gather Data\n",
    "* Step 2: Explore and Assess the Data\n",
    "* Step 3: Define the Data Model\n",
    "* Step 4: Run ETL to Model the Data\n",
    "* Step 5: Complete Project Write Up"
   ]
  },
  {
   "cell_type": "code",
   "execution_count": 1,
   "metadata": {
    "editable": true
   },
   "outputs": [],
   "source": [
    "# Do all imports and installs here\n",
    "import pandas as pd"
   ]
  },
  {
   "cell_type": "markdown",
   "metadata": {
    "editable": true
   },
   "source": [
    "### Step 1: Scope the Project and Gather Data\n",
    "\n",
    "#### Scope \n",
    "Explain what you plan to do in the project in more detail. What data do you use? What is your end solution look like? What tools did you use? etc>\n",
    "\n",
    "#### Describe and Gather Data \n",
    "Describe the data sets you're using. Where did it come from? What type of information is included? "
   ]
  },
  {
   "cell_type": "code",
   "execution_count": 4,
   "metadata": {
    "editable": true
   },
   "outputs": [],
   "source": [
    "# Read in the data here\n",
    "fname = '../../data/18-83510-I94-Data-2016/i94_apr16_sub.sas7bdat'\n",
    "#df = pd.read_sas(fname, 'sas7bdat', encoding=\"ISO-8859-1\")"
   ]
  },
  {
   "cell_type": "code",
   "execution_count": 5,
   "metadata": {
    "editable": true
   },
   "outputs": [],
   "source": [
    "\t\n",
    "from pyspark.sql import SparkSession\n",
    "from pyspark.sql import column as col\n",
    "from pyspark.sql.types import DoubleType\n",
    "spark = SparkSession.builder.\\\n",
    "config(\"spark.jars.packages\",\"saurfang:spark-sas7bdat:2.0.0-s_2.11\")\\\n",
    ".enableHiveSupport().getOrCreate()\n",
    "df_imm =spark.read.format('com.github.saurfang.sas.spark').load('../../data/18-83510-I94-Data-2016/i94_apr16_sub.sas7bdat')"
   ]
  },
  {
   "cell_type": "code",
   "execution_count": 6,
   "metadata": {
    "editable": true
   },
   "outputs": [],
   "source": [
    "#df_immDesc = pd.read_sas('I94_SAS_Labels_Descriptions.SAS', format='SAS7BDAT')"
   ]
  },
  {
   "cell_type": "code",
   "execution_count": 7,
   "metadata": {
    "editable": true
   },
   "outputs": [],
   "source": [
    "df_imm = df_imm.selectExpr([\"cicid AS  id\",\n",
    "                            \"i94yr AS  year\",\n",
    "                            \"i94mon AS month\",\n",
    "                            \"i94res AS origin_country_id\",\n",
    "                            \"i94port AS city_id\",\n",
    "                            \"arrdate AS arrival_date\",\n",
    "                            \"i94mode AS transport_mode\",\n",
    "                            \"depdate AS departure_date\",\n",
    "                            \"i94visa AS visa_purpose\",\n",
    "                            \"visatype AS visa_type\",\n",
    "                            \"biryear AS birth_year\",\n",
    "                            \"gender\",\n",
    "                            \"admnum AS admin_num\",\n",
    "                            \"airline AS airline_code\",\n",
    "                            \"fltno AS flight_number\"])"
   ]
  },
  {
   "cell_type": "code",
   "execution_count": 8,
   "metadata": {
    "editable": true
   },
   "outputs": [],
   "source": [
    "fname = 'airport-codes_csv.csv'\n",
    "df_airports = spark.read.csv(fname, header=True)\n",
    "df_airports = df_airports.selectExpr([\"iata_code\",\n",
    "                                      \"name\",\n",
    "                                      \"type\",\n",
    "                                      \"municipality AS city\",\n",
    "                                      \"iso_region AS region\",\n",
    "                                      \"iso_country AS country\",\n",
    "                                      \"continent\",\n",
    "                                      \"coordinates\",\n",
    "                                      \"gps_code\",\n",
    "                                      \"local_code\"])"
   ]
  },
  {
   "cell_type": "code",
   "execution_count": 9,
   "metadata": {
    "editable": true
   },
   "outputs": [],
   "source": [
    "df_join = df_imm.join(df_airports, df_imm.city_id==df_airports.iata_code, 'left')\n",
    "\n",
    "df_imm = df_join.filter(df_join.iata_code.isNotNull())\\\n",
    "                .select([   \"id\",\n",
    "                            \"year\",\n",
    "                            \"month\",\n",
    "                            \"origin_country_id\",\n",
    "                            \"city_id\",\n",
    "                            \"city\",\n",
    "                            \"arrival_date\",\n",
    "                            \"transport_mode\",\n",
    "                            \"departure_date\",\n",
    "                            \"visa_purpose\",\n",
    "                            \"visa_type\",\n",
    "                            \"birth_year\",\n",
    "                            \"gender\",\n",
    "                            \"admin_num\",\n",
    "                            \"airline_code\",\n",
    "                            \"flight_number\"  ])\n",
    "\n",
    "df_airports = df_join.filter(df_join.iata_code.isNotNull())\\\n",
    "                     .select([\"iata_code\",\n",
    "                              \"name\",\n",
    "                              \"type\",\n",
    "                              \"city\",\n",
    "                              \"region\",\n",
    "                              \"country\",\n",
    "                              \"continent\",\n",
    "                              \"coordinates\",\n",
    "                              \"gps_code\",\n",
    "                              \"local_code\"])\\\n",
    "                     .dropDuplicates()"
   ]
  },
  {
   "cell_type": "code",
   "execution_count": null,
   "metadata": {
    "editable": true
   },
   "outputs": [],
   "source": [
    "#df_airports.show(255)"
   ]
  },
  {
   "cell_type": "code",
   "execution_count": 10,
   "metadata": {
    "editable": true
   },
   "outputs": [],
   "source": [
    "import pyspark.sql.functions as F\n",
    "\n",
    "fname = '../../data2/GlobalLandTemperaturesByCity.csv'\n",
    "df_temp = spark.read.csv(fname, header=True)\n",
    "df_temp = df_temp.filter((df_temp.dt[6:2]==\"04\") & (df_temp.Country == \"United States\"))\\\n",
    "                 .groupBy(df_temp.City,df_temp.Latitude,df_temp.Longitude)\\\n",
    "                 .agg(F.avg(\"AverageTemperature\").alias(\"avg_temp\"))\\\n",
    "                 .withColumnRenamed(\"city\", \"city2\")\n",
    "\n",
    "df_join = df_imm.join(df_temp, df_imm.city==df_temp.city2, 'left')\n",
    "\n",
    "df_temp = df_join.selectExpr([\"city_id\",\n",
    "                              \"city\",\n",
    "                              \"Latitude AS latitude\",\n",
    "                              \"Longitude AS longitude\",\n",
    "                              \"avg_temp\"])\\\n",
    "                 .dropDuplicates(subset=['city'])\\\n",
    "                 .filter(df_join.avg_temp.isNotNull())"
   ]
  },
  {
   "cell_type": "code",
   "execution_count": 39,
   "metadata": {
    "editable": true
   },
   "outputs": [],
   "source": [
    "fname = 'us-cities-demographics.csv'\n",
    "df_demographics = spark.read.csv(fname, header=True, sep=';')\\\n",
    "                       .withColumnRenamed(\"City\", \"city2\")\\\n",
    "                       .withColumnRenamed(\"State\", \"state\")\\\n",
    "                       .withColumnRenamed(\"State Code\", \"state_code\")\\\n",
    "                       .withColumnRenamed(\"Median Age\", \"median_age\")\\\n",
    "                       .withColumnRenamed(\"Male Population\", \"male_population\")\\\n",
    "                       .withColumnRenamed(\"Female Population\", \"female_population\")\\\n",
    "                       .withColumnRenamed(\"Total Population\", \"total_population\")\\\n",
    "                       .withColumnRenamed(\"Number of Veterans\", \"number_of_veterans\")\\\n",
    "                       .withColumnRenamed(\"Foreign-born\", \"foreign_born\")\\\n",
    "                       .withColumnRenamed(\"Average Household Size\", \"household_size\")\\\n",
    "                       .withColumnRenamed(\"Race\", \"race\")\n",
    "\n",
    "#df_demographics.printSchema()\n",
    "#df_demographics.show(10)"
   ]
  },
  {
   "cell_type": "code",
   "execution_count": 40,
   "metadata": {
    "editable": true
   },
   "outputs": [
    {
     "name": "stdout",
     "output_type": "stream",
     "text": [
      "+-------+-----------+----------+---------------+-----------------+----------------+------------------+------------+--------------+--------------------+\n",
      "|city_id|       city|median_age|male_population|female_population|total_population|number_of_veterans|foreign_born|household_size|                race|\n",
      "+-------+-----------+----------+---------------+-----------------+----------------+------------------+------------+--------------+--------------------+\n",
      "|    CHS| Charleston|      35.0|          63956|            71568|          135524|              9368|        5767|           2.4|American Indian a...|\n",
      "|    SAV|   Savannah|      30.3|          69389|            76295|          145684|              9717|       10355|          2.57|               Asian|\n",
      "|    OMA|      Omaha|      34.2|         218789|           225098|          443887|             24503|       48263|          2.47|American Indian a...|\n",
      "|    ANC|  Anchorage|      32.2|         152945|           145750|          298695|             27492|       33258|          2.77|               Asian|\n",
      "|    CHA|Chattanooga|      36.6|          83640|            92957|          176597|             10001|       10599|           2.4|Black or African-...|\n",
      "|    DAL|     Dallas|      32.6|         639019|           661063|         1300082|             41026|      326825|          2.59|               Asian|\n",
      "|    MHT| Manchester|      37.3|          54845|            55378|          110223|              5473|       14506|           2.4|American Indian a...|\n",
      "|    OAK|    Oakland|      35.7|         203827|           215451|          419278|             12159|      113896|          2.56|               Asian|\n",
      "|    SFR|Los Angeles|      35.0|        1958998|          2012898|         3971896|             85417|     1485425|          2.86|Black or African-...|\n",
      "|    SAC| Sacramento|      33.7|         237724|           252991|          490715|             19698|      112579|          2.73|  Hispanic or Latino|\n",
      "+-------+-----------+----------+---------------+-----------------+----------------+------------------+------------+--------------+--------------------+\n",
      "only showing top 10 rows\n",
      "\n"
     ]
    }
   ],
   "source": [
    "df_join = df_imm.join(df_demographics, df_imm.city==df_demographics.city2, 'left')\n",
    "                \n",
    "df_demographics = df_join.select([\"city_id\",\n",
    "                                  \"city\",\n",
    "                                  \"median_age\",\n",
    "                                  \"male_population\",\n",
    "                                  \"female_population\",\n",
    "                                  \"total_population\",\n",
    "                                  \"number_of_veterans\",\n",
    "                                  \"foreign_born\",\n",
    "                                  \"household_size\",\n",
    "                                  \"race\"])\\\n",
    "                 .dropDuplicates(subset=['city'])\\\n",
    "                 .filter(df_join.total_population.isNotNull())\n",
    "df_demographics.show(10)"
   ]
  },
  {
   "cell_type": "code",
   "execution_count": 41,
   "metadata": {
    "editable": true
   },
   "outputs": [
    {
     "data": {
      "text/plain": [
       "60"
      ]
     },
     "execution_count": 41,
     "metadata": {},
     "output_type": "execute_result"
    }
   ],
   "source": [
    "df_demographics.count()"
   ]
  },
  {
   "cell_type": "markdown",
   "metadata": {
    "editable": true
   },
   "source": [
    "### Step 2: Explore and Assess the Data\n",
    "#### Explore the Data \n",
    "Identify data quality issues, like missing values, duplicate data, etc.\n",
    "\n",
    "#### Cleaning Steps\n",
    "Document steps necessary to clean the data"
   ]
  },
  {
   "cell_type": "code",
   "execution_count": null,
   "metadata": {
    "editable": true
   },
   "outputs": [],
   "source": [
    "# Performing cleaning tasks here\n",
    "\n",
    "\n",
    "\n"
   ]
  },
  {
   "cell_type": "markdown",
   "metadata": {
    "editable": true
   },
   "source": [
    "### Step 3: Define the Data Model\n",
    "#### 3.1 Conceptual Data Model\n",
    "Map out the conceptual data model and explain why you chose that model\n",
    "\n",
    "#### 3.2 Mapping Out Data Pipelines\n",
    "List the steps necessary to pipeline the data into the chosen data model"
   ]
  },
  {
   "cell_type": "markdown",
   "metadata": {
    "editable": true
   },
   "source": [
    "### Step 4: Run Pipelines to Model the Data \n",
    "#### 4.1 Create the data model\n",
    "Build the data pipelines to create the data model."
   ]
  },
  {
   "cell_type": "code",
   "execution_count": null,
   "metadata": {
    "editable": true
   },
   "outputs": [],
   "source": [
    "# Write code here"
   ]
  },
  {
   "cell_type": "markdown",
   "metadata": {
    "editable": true
   },
   "source": [
    "#### 4.2 Data Quality Checks\n",
    "Explain the data quality checks you'll perform to ensure the pipeline ran as expected. These could include:\n",
    " * Integrity constraints on the relational database (e.g., unique key, data type, etc.)\n",
    " * Unit tests for the scripts to ensure they are doing the right thing\n",
    " * Source/Count checks to ensure completeness\n",
    " \n",
    "Run Quality Checks"
   ]
  },
  {
   "cell_type": "code",
   "execution_count": null,
   "metadata": {
    "editable": true
   },
   "outputs": [],
   "source": [
    "# Perform quality checks here"
   ]
  },
  {
   "cell_type": "markdown",
   "metadata": {
    "editable": true
   },
   "source": [
    "#### 4.3 Data dictionary \n",
    "Create a data dictionary for your data model. For each field, provide a brief description of what the data is and where it came from. You can include the data dictionary in the notebook or in a separate file."
   ]
  },
  {
   "cell_type": "markdown",
   "metadata": {
    "editable": true
   },
   "source": [
    "#### Step 5: Complete Project Write Up\n",
    "* Clearly state the rationale for the choice of tools and technologies for the project.\n",
    "* Propose how often the data should be updated and why.\n",
    "* Write a description of how you would approach the problem differently under the following scenarios:\n",
    " * The data was increased by 100x.\n",
    " * The data populates a dashboard that must be updated on a daily basis by 7am every day.\n",
    " * The database needed to be accessed by 100+ people."
   ]
  },
  {
   "cell_type": "code",
   "execution_count": null,
   "metadata": {
    "editable": true
   },
   "outputs": [],
   "source": []
  },
  {
   "cell_type": "code",
   "execution_count": null,
   "metadata": {
    "editable": true
   },
   "outputs": [],
   "source": []
  },
  {
   "cell_type": "code",
   "execution_count": null,
   "metadata": {
    "editable": true
   },
   "outputs": [],
   "source": []
  },
  {
   "cell_type": "code",
   "execution_count": null,
   "metadata": {
    "editable": true
   },
   "outputs": [],
   "source": []
  },
  {
   "cell_type": "code",
   "execution_count": null,
   "metadata": {
    "editable": true
   },
   "outputs": [],
   "source": []
  },
  {
   "cell_type": "code",
   "execution_count": null,
   "metadata": {
    "editable": true
   },
   "outputs": [],
   "source": []
  }
 ],
 "metadata": {
  "kernelspec": {
   "display_name": "Python 3",
   "language": "python",
   "name": "python3"
  },
  "language_info": {
   "codemirror_mode": {
    "name": "ipython",
    "version": 3
   },
   "file_extension": ".py",
   "mimetype": "text/x-python",
   "name": "python",
   "nbconvert_exporter": "python",
   "pygments_lexer": "ipython3",
   "version": "3.6.3"
  }
 },
 "nbformat": 4,
 "nbformat_minor": 4
}
