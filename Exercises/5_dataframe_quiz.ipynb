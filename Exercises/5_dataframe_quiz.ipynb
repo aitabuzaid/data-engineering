{
 "cells": [
  {
   "cell_type": "markdown",
   "metadata": {},
   "source": [
    "# Data Wrangling with DataFrames Coding Quiz\n",
    "\n",
    "Use this Jupyter notebook to find the answers to the quiz in the previous section. There is an answer key in the next part of the lesson."
   ]
  },
  {
   "cell_type": "code",
   "execution_count": 1,
   "metadata": {},
   "outputs": [],
   "source": [
    "from pyspark.sql import SparkSession\n",
    "\n",
    "# TODOS: \n",
    "# 1) import any other libraries you might need\n",
    "# 2) instantiate a Spark session \n",
    "# 3) read in the data set located at the path \"data/sparkify_log_small.json\"\n",
    "# 4) write code to answer the quiz questions "
   ]
  },
  {
   "cell_type": "code",
   "execution_count": 2,
   "metadata": {},
   "outputs": [],
   "source": [
    "from pyspark.sql.types import StringType\n",
    "from pyspark.sql.types import IntegerType\n",
    "from pyspark.sql.functions import desc, asc, sum as Fsum\n",
    "from pyspark.sql.functions import udf, array_except\n",
    "from pyspark.sql import Row\n",
    "from pyspark.sql import Window\n",
    "import numpy as np\n"
   ]
  },
  {
   "cell_type": "code",
   "execution_count": 3,
   "metadata": {},
   "outputs": [],
   "source": [
    "spark = SparkSession\\\n",
    "        .builder\\\n",
    "        .appName(\"Wrangling Data\")\\\n",
    "        .getOrCreate()\n",
    "\n",
    "path = \"data/sparkify_log_small.json\"\n",
    "user_log = spark.read.json(path)"
   ]
  },
  {
   "cell_type": "code",
   "execution_count": 4,
   "metadata": {},
   "outputs": [
    {
     "data": {
      "text/plain": [
       "Row(artist='Showaddywaddy', auth='Logged In', firstName='Kenneth', gender='M', itemInSession=112, lastName='Matthews', length=232.93342, level='paid', location='Charlotte-Concord-Gastonia, NC-SC', method='PUT', page='NextSong', registration=1509380319284, sessionId=5132, song='Christmas Tears Will Fall', status=200, ts=1513720872284, userAgent='\"Mozilla/5.0 (Windows NT 6.1) AppleWebKit/537.36 (KHTML, like Gecko) Chrome/36.0.1985.125 Safari/537.36\"', userId='1046')"
      ]
     },
     "execution_count": 4,
     "metadata": {},
     "output_type": "execute_result"
    }
   ],
   "source": [
    "user_log.head()"
   ]
  },
  {
   "cell_type": "markdown",
   "metadata": {},
   "source": [
    "# Question 1\n",
    "\n",
    "Which page did user id \"\" (empty string) NOT visit?"
   ]
  },
  {
   "cell_type": "code",
   "execution_count": 5,
   "metadata": {},
   "outputs": [
    {
     "name": "stdout",
     "output_type": "stream",
     "text": [
      "The pages not visited by id='' are: \n"
     ]
    },
    {
     "data": {
      "text/plain": [
       "[Row(array_except(c2, c1)=['Downgrade', 'Error', 'Logout', 'NextSong', 'Save Settings', 'Settings', 'Submit Downgrade', 'Submit Upgrade', 'Upgrade'])]"
      ]
     },
     "execution_count": 5,
     "metadata": {},
     "output_type": "execute_result"
    }
   ],
   "source": [
    "# TODO: write your code to answer question 1\n",
    "col1 = user_log.where(user_log.userId==\"\").select(\"page\").dropDuplicates()\n",
    "col2 = user_log.select(\"page\").dropDuplicates().sort(\"page\")\n",
    "df = spark.createDataFrame([Row(c1=list(col1.toPandas()['page']),\n",
    "                                c2=list(col2.toPandas()['page']))])\n",
    "print(\"The pages not visited by id='' are: \")\n",
    "df.select(array_except(df.c2, df.c1)).collect()"
   ]
  },
  {
   "cell_type": "markdown",
   "metadata": {},
   "source": [
    "# Question 2 - Reflect\n",
    "\n",
    "What type of user does the empty string user id most likely refer to?\n"
   ]
  },
  {
   "cell_type": "code",
   "execution_count": 6,
   "metadata": {},
   "outputs": [
    {
     "name": "stdout",
     "output_type": "stream",
     "text": [
      "[Row(auth='Logged Out'), Row(auth='Guest')]\n",
      "[Row(page='Home'), Row(page='About'), Row(page='Login'), Row(page='Help')]\n"
     ]
    },
    {
     "data": {
      "text/plain": [
       "[Row(artist=None, auth='Logged Out', firstName=None, gender=None, itemInSession=0, lastName=None, length=None, level='paid', location=None, method='GET', page='Home', registration=None, sessionId=3951, song=None, status=200, ts=1513745727284, userAgent=None, userId=''),\n",
       " Row(artist=None, auth='Logged Out', firstName=None, gender=None, itemInSession=1, lastName=None, length=None, level='paid', location=None, method='GET', page='Home', registration=None, sessionId=3951, song=None, status=200, ts=1513746544284, userAgent=None, userId=''),\n",
       " Row(artist=None, auth='Logged Out', firstName=None, gender=None, itemInSession=2, lastName=None, length=None, level='paid', location=None, method='GET', page='Home', registration=None, sessionId=3951, song=None, status=200, ts=1513746594284, userAgent=None, userId=''),\n",
       " Row(artist=None, auth='Logged Out', firstName=None, gender=None, itemInSession=3, lastName=None, length=None, level='paid', location=None, method='GET', page='About', registration=None, sessionId=3951, song=None, status=200, ts=1513746827284, userAgent=None, userId=''),\n",
       " Row(artist=None, auth='Logged Out', firstName=None, gender=None, itemInSession=4, lastName=None, length=None, level='paid', location=None, method='PUT', page='Login', registration=None, sessionId=3951, song=None, status=307, ts=1513746828284, userAgent=None, userId=''),\n",
       " Row(artist=None, auth='Logged Out', firstName=None, gender=None, itemInSession=11, lastName=None, length=None, level='paid', location=None, method='GET', page='Home', registration=None, sessionId=3951, song=None, status=200, ts=1513748217284, userAgent=None, userId=''),\n",
       " Row(artist=None, auth='Logged Out', firstName=None, gender=None, itemInSession=12, lastName=None, length=None, level='paid', location=None, method='PUT', page='Login', registration=None, sessionId=3951, song=None, status=307, ts=1513748218284, userAgent=None, userId='')]"
      ]
     },
     "execution_count": 6,
     "metadata": {},
     "output_type": "execute_result"
    }
   ],
   "source": [
    "# TODO: use this space to explore the behavior of the user with an empty string\n",
    "print(user_log.where(user_log.userId == \"\").select('auth').dropDuplicates().collect())\n",
    "print(user_log.where(user_log.userId == \"\").select('page').dropDuplicates().collect())\n",
    "user_log.where((user_log.userId == \"\") & (user_log.sessionId==3951)).collect()"
   ]
  },
  {
   "cell_type": "markdown",
   "metadata": {},
   "source": [
    "# Question 3\n",
    "\n",
    "How many female users do we have in the data set?"
   ]
  },
  {
   "cell_type": "code",
   "execution_count": 7,
   "metadata": {},
   "outputs": [
    {
     "name": "stdout",
     "output_type": "stream",
     "text": [
      "+------+-----+\n",
      "|gender|count|\n",
      "+------+-----+\n",
      "|     F|  462|\n",
      "|  null|    1|\n",
      "|     M|  501|\n",
      "+------+-----+\n",
      "\n"
     ]
    }
   ],
   "source": [
    "# TODO: write your code to answer question 3\n",
    "user_log.select(['userId','gender']).dropDuplicates().groupby('gender').count().show()"
   ]
  },
  {
   "cell_type": "markdown",
   "metadata": {},
   "source": [
    "# Question 4\n",
    "\n",
    "How many songs were played from the most played artist?"
   ]
  },
  {
   "cell_type": "code",
   "execution_count": 8,
   "metadata": {},
   "outputs": [
    {
     "name": "stdout",
     "output_type": "stream",
     "text": [
      "The most played artist is: Coldplay\n",
      "The number of songs played by Coldplay:\n"
     ]
    },
    {
     "data": {
      "text/plain": [
       "83"
      ]
     },
     "execution_count": 8,
     "metadata": {},
     "output_type": "execute_result"
    }
   ],
   "source": [
    "# TODO: write your code to answer question 4\n",
    "\n",
    "artist = user_log.select(['artist'])\\\n",
    "                 .where(user_log.artist != 'None')\\\n",
    "                 .groupby('artist')\\\n",
    "                 .count()\\\n",
    "                 .orderBy(desc('count'))\\\n",
    "                 .collect()[0]['artist']\n",
    "\n",
    "print(\"The most played artist is: \"+artist)\n",
    "\n",
    "print(\"The number of songs played by \"+artist+\":\")\n",
    "\n",
    "user_log.select(['song','artist'])\\\n",
    "        .where(user_log.artist == artist)\\\n",
    "        .select(['song'])\\\n",
    "        .count()"
   ]
  },
  {
   "cell_type": "markdown",
   "metadata": {},
   "source": [
    "# Question 5 (challenge)\n",
    "\n",
    "How many songs do users listen to on average between visiting our home page? Please round your answer to the closest integer.\n",
    "\n"
   ]
  },
  {
   "cell_type": "code",
   "execution_count": 9,
   "metadata": {},
   "outputs": [],
   "source": [
    "visited_home_event = udf(lambda x: 1 if x == \"Home\" else 0,\n",
    "                           IntegerType())\n",
    "\n",
    "user_log = user_log.withColumn(\"VisitedHome\",\n",
    "                               visited_home_event(\"page\"))"
   ]
  },
  {
   "cell_type": "code",
   "execution_count": null,
   "metadata": {},
   "outputs": [],
   "source": []
  },
  {
   "cell_type": "code",
   "execution_count": 10,
   "metadata": {},
   "outputs": [],
   "source": [
    "# TODO: write your code to answer question 5\n",
    "\n"
   ]
  },
  {
   "cell_type": "code",
   "execution_count": 11,
   "metadata": {},
   "outputs": [],
   "source": [
    "windowval = Window.partitionBy(\"userId\").orderBy(desc(\"ts\")).rangeBetween(Window.unboundedPreceding, 0)\n",
    "user_log = user_log.withColumn(\"phase\", Fsum(\"VisitedHome\").over(windowval))"
   ]
  },
  {
   "cell_type": "code",
   "execution_count": 12,
   "metadata": {},
   "outputs": [
    {
     "data": {
      "text/plain": [
       "[Row(auth='Logged In', itemInSession=112, page='NextSong', sessionId=5132, ts=1513720872284, song='Christmas Tears Will Fall', userId='1046', VisitedHome=0, phase=2),\n",
       " Row(auth='Logged In', itemInSession=113, page='NextSong', sessionId=5132, ts=1513721104284, song='Be Wary Of A Woman', userId='1046', VisitedHome=0, phase=2),\n",
       " Row(auth='Logged In', itemInSession=114, page='NextSong', sessionId=5132, ts=1513721310284, song='Public Enemy No.1', userId='1046', VisitedHome=0, phase=2),\n",
       " Row(auth='Logged In', itemInSession=115, page='NextSong', sessionId=5132, ts=1513721591284, song='Reign Of The Tyrants', userId='1046', VisitedHome=0, phase=2),\n",
       " Row(auth='Logged In', itemInSession=116, page='NextSong', sessionId=5132, ts=1513721808284, song='Father And Son', userId='1046', VisitedHome=0, phase=2),\n",
       " Row(auth='Logged In', itemInSession=117, page='NextSong', sessionId=5132, ts=1513721976284, song='No. 5', userId='1046', VisitedHome=0, phase=2),\n",
       " Row(auth='Logged In', itemInSession=118, page='NextSong', sessionId=5132, ts=1513722161284, song='Seventeen', userId='1046', VisitedHome=0, phase=2),\n",
       " Row(auth='Logged In', itemInSession=0, page='Home', sessionId=5786, ts=1513837636284, song=None, userId='1046', VisitedHome=1, phase=2),\n",
       " Row(auth='Logged In', itemInSession=1, page='NextSong', sessionId=5786, ts=1513837660284, song='War on war', userId='1046', VisitedHome=0, phase=1),\n",
       " Row(auth='Logged In', itemInSession=2, page='NextSong', sessionId=5786, ts=1513837887284, song='Killermont Street', userId='1046', VisitedHome=0, phase=1),\n",
       " Row(auth='Logged In', itemInSession=3, page='NextSong', sessionId=5786, ts=1513838080284, song='Black & Blue', userId='1046', VisitedHome=0, phase=1),\n",
       " Row(auth='Logged In', itemInSession=4, page='Logout', sessionId=5786, ts=1513838081284, song=None, userId='1046', VisitedHome=0, phase=1),\n",
       " Row(auth='Logged In', itemInSession=9, page='Home', sessionId=5786, ts=1513838155284, song=None, userId='1046', VisitedHome=1, phase=1),\n",
       " Row(auth='Logged In', itemInSession=10, page='NextSong', sessionId=5786, ts=1513838300284, song='Heads Will Roll', userId='1046', VisitedHome=0, phase=0),\n",
       " Row(auth='Logged In', itemInSession=11, page='NextSong', sessionId=5786, ts=1513838520284, song='Bleed It Out [Live At Milton Keynes]', userId='1046', VisitedHome=0, phase=0),\n",
       " Row(auth='Logged In', itemInSession=12, page='NextSong', sessionId=5786, ts=1513839014284, song='Clocks', userId='1046', VisitedHome=0, phase=0),\n",
       " Row(auth='Logged In', itemInSession=13, page='NextSong', sessionId=5786, ts=1513839321284, song='Love Rain', userId='1046', VisitedHome=0, phase=0),\n",
       " Row(auth='Logged In', itemInSession=14, page='NextSong', sessionId=5786, ts=1513839573284, song=\"Ry Ry's Song (Album Version)\", userId='1046', VisitedHome=0, phase=0),\n",
       " Row(auth='Logged In', itemInSession=15, page='NextSong', sessionId=5786, ts=1513839785284, song='The Invisible Man', userId='1046', VisitedHome=0, phase=0),\n",
       " Row(auth='Logged In', itemInSession=16, page='NextSong', sessionId=5786, ts=1513840086284, song='Catch You Baby (Steve Pitron & Max Sanna Radio Edit)', userId='1046', VisitedHome=0, phase=0),\n",
       " Row(auth='Logged In', itemInSession=17, page='NextSong', sessionId=5786, ts=1513840267284, song='Ask The Mountains', userId='1046', VisitedHome=0, phase=0),\n",
       " Row(auth='Logged In', itemInSession=18, page='NextSong', sessionId=5786, ts=1513840740284, song='Given Up (Album Version)', userId='1046', VisitedHome=0, phase=0),\n",
       " Row(auth='Logged In', itemInSession=19, page='NextSong', sessionId=5786, ts=1513840929284, song='El Cuatrero', userId='1046', VisitedHome=0, phase=0),\n",
       " Row(auth='Logged In', itemInSession=20, page='NextSong', sessionId=5786, ts=1513841100284, song='Hero/Heroine', userId='1046', VisitedHome=0, phase=0),\n",
       " Row(auth='Logged In', itemInSession=21, page='NextSong', sessionId=5786, ts=1513841332284, song='Spring', userId='1046', VisitedHome=0, phase=0),\n",
       " Row(auth='Logged In', itemInSession=22, page='NextSong', sessionId=5786, ts=1513841519284, song='Rising Moon', userId='1046', VisitedHome=0, phase=0),\n",
       " Row(auth='Logged In', itemInSession=23, page='NextSong', sessionId=5786, ts=1513841710284, song='Tough Little Boys', userId='1046', VisitedHome=0, phase=0),\n",
       " Row(auth='Logged In', itemInSession=24, page='NextSong', sessionId=5786, ts=1513841947284, song=\"Qu'Est-Ce Que T'Es Belle\", userId='1046', VisitedHome=0, phase=0),\n",
       " Row(auth='Logged In', itemInSession=25, page='NextSong', sessionId=5786, ts=1513842186284, song='Secrets', userId='1046', VisitedHome=0, phase=0),\n",
       " Row(auth='Logged In', itemInSession=26, page='NextSong', sessionId=5786, ts=1513842410284, song='Under The Gun', userId='1046', VisitedHome=0, phase=0)]"
      ]
     },
     "execution_count": 12,
     "metadata": {},
     "output_type": "execute_result"
    }
   ],
   "source": [
    "user_log.select(['auth','itemInSession',\n",
    "                 'page','sessionId','ts',\n",
    "                 'song','userId','VisitedHome','phase'])\\\n",
    "        .where(user_log.userId == '1046')\\\n",
    "        .sort(\"ts\")\\\n",
    "        .collect()"
   ]
  },
  {
   "cell_type": "code",
   "execution_count": 20,
   "metadata": {},
   "outputs": [
    {
     "data": {
      "text/plain": [
       "[Row(avg(count)=6.898347107438017)]"
      ]
     },
     "execution_count": 20,
     "metadata": {},
     "output_type": "execute_result"
    }
   ],
   "source": [
    "user_log.select(['song','userId','phase'])\\\n",
    "        .where(user_log.song != 'None')\\\n",
    "        .groupby('userId','phase')\\\n",
    "        .count()\\\n",
    "        .where(user_log.userId!='')\\\n",
    "        .agg({\"count\" : \"avg\"})\\\n",
    "        .collect()"
   ]
  }
 ],
 "metadata": {
  "kernelspec": {
   "display_name": "Python 3",
   "language": "python",
   "name": "python3"
  },
  "language_info": {
   "codemirror_mode": {
    "name": "ipython",
    "version": 3
   },
   "file_extension": ".py",
   "mimetype": "text/x-python",
   "name": "python",
   "nbconvert_exporter": "python",
   "pygments_lexer": "ipython3",
   "version": "3.6.3"
  }
 },
 "nbformat": 4,
 "nbformat_minor": 2
}
