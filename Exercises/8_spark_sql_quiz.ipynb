{
 "cells": [
  {
   "cell_type": "markdown",
   "metadata": {},
   "source": [
    "# Data Wrangling with Spark SQL Quiz\n",
    "\n",
    "This quiz uses the same dataset and most of the same questions from the earlier \"Quiz - Data Wrangling with Data Frames Jupyter Notebook.\" For this quiz, however, use Spark SQL instead of Spark Data Frames."
   ]
  },
  {
   "cell_type": "code",
   "execution_count": 1,
   "metadata": {},
   "outputs": [
    {
     "name": "stdout",
     "output_type": "stream",
     "text": [
      "root\n",
      " |-- artist: string (nullable = true)\n",
      " |-- auth: string (nullable = true)\n",
      " |-- firstName: string (nullable = true)\n",
      " |-- gender: string (nullable = true)\n",
      " |-- itemInSession: long (nullable = true)\n",
      " |-- lastName: string (nullable = true)\n",
      " |-- length: double (nullable = true)\n",
      " |-- level: string (nullable = true)\n",
      " |-- location: string (nullable = true)\n",
      " |-- method: string (nullable = true)\n",
      " |-- page: string (nullable = true)\n",
      " |-- registration: long (nullable = true)\n",
      " |-- sessionId: long (nullable = true)\n",
      " |-- song: string (nullable = true)\n",
      " |-- status: long (nullable = true)\n",
      " |-- ts: long (nullable = true)\n",
      " |-- userAgent: string (nullable = true)\n",
      " |-- userId: string (nullable = true)\n",
      "\n"
     ]
    }
   ],
   "source": [
    "from pyspark.sql import SparkSession\n",
    "\n",
    "# TODOS: \n",
    "# 1) import any other libraries you might need\n",
    "# 2) instantiate a Spark session \n",
    "# 3) read in the data set located at the path \"data/sparkify_log_small.json\"\n",
    "# 4) create a view to use with your SQL queries\n",
    "# 5) write code to answer the quiz questions \n",
    "\n",
    "spark = SparkSession\\\n",
    "        .builder\\\n",
    "        .appName(\"Data wrangling with Spark SQL\")\\\n",
    "        .getOrCreate()\n",
    "\n",
    "path = \"data/sparkify_log_small.json\"\n",
    "user_log = spark.read.json(path)\n",
    "user_log.createOrReplaceTempView(\"user_log_table\")\n",
    "user_log.printSchema()"
   ]
  },
  {
   "cell_type": "markdown",
   "metadata": {},
   "source": [
    "# Question 1\n",
    "\n",
    "Which page did user id \"\"(empty string) NOT visit?"
   ]
  },
  {
   "cell_type": "code",
   "execution_count": 2,
   "metadata": {},
   "outputs": [
    {
     "name": "stdout",
     "output_type": "stream",
     "text": [
      "+----------------+\n",
      "|            page|\n",
      "+----------------+\n",
      "|Submit Downgrade|\n",
      "|       Downgrade|\n",
      "|          Logout|\n",
      "|   Save Settings|\n",
      "|        Settings|\n",
      "|        NextSong|\n",
      "|         Upgrade|\n",
      "|           Error|\n",
      "|  Submit Upgrade|\n",
      "+----------------+\n",
      "\n"
     ]
    }
   ],
   "source": [
    "# TODO: write your code to answer question 1\n",
    "spark.sql(\"\"\"SELECT DISTINCT page \n",
    "             FROM user_log_table\n",
    "             WHERE page NOT IN (SELECT DISTINCT page \n",
    "                                FROM user_log_table\n",
    "                                WHERE userId = '')\n",
    "\"\"\").show()\n"
   ]
  },
  {
   "cell_type": "markdown",
   "metadata": {},
   "source": [
    "# Question 2 - Reflect\n",
    "\n",
    "Why might you prefer to use SQL over data frames? Why might you prefer data frames over SQL?"
   ]
  },
  {
   "cell_type": "markdown",
   "metadata": {},
   "source": [
    "# Question 3\n",
    "\n",
    "How many female users do we have in the data set?"
   ]
  },
  {
   "cell_type": "code",
   "execution_count": 3,
   "metadata": {},
   "outputs": [
    {
     "name": "stdout",
     "output_type": "stream",
     "text": [
      "+------+-------------+\n",
      "|gender|count(gender)|\n",
      "+------+-------------+\n",
      "|     F|          462|\n",
      "|  null|            0|\n",
      "|     M|          501|\n",
      "+------+-------------+\n",
      "\n"
     ]
    }
   ],
   "source": [
    "# TODO: write your code to answer question 3\n",
    "spark.sql(\"\"\"\n",
    "    SELECT gender, count(gender)\n",
    "    FROM (SELECT DISTINCT userId, gender\n",
    "          FROM user_log_table)\n",
    "    GROUP BY gender\n",
    "\"\"\").show()"
   ]
  },
  {
   "cell_type": "markdown",
   "metadata": {},
   "source": [
    "# Question 4\n",
    "\n",
    "How many songs were played from the most played artist?"
   ]
  },
  {
   "cell_type": "code",
   "execution_count": 4,
   "metadata": {},
   "outputs": [
    {
     "name": "stdout",
     "output_type": "stream",
     "text": [
      "+--------+-----+\n",
      "|  artist|count|\n",
      "+--------+-----+\n",
      "|Coldplay|   83|\n",
      "+--------+-----+\n",
      "\n"
     ]
    }
   ],
   "source": [
    "# TODO: write your code to answer question 4\n",
    "spark.sql(\"\"\"\n",
    "    SELECT artist, COUNT(artist) AS count\n",
    "    FROM user_log_table\n",
    "    WHERE userId IS NOT NULL\n",
    "    GROUP BY artist\n",
    "    ORDER BY count DESC\n",
    "    LIMIT 1\n",
    "\"\"\").show()"
   ]
  },
  {
   "cell_type": "markdown",
   "metadata": {},
   "source": [
    "# Question 5 (challenge)\n",
    "\n",
    "How many songs do users listen to on average between visiting our home page? Please round your answer to the closest integer."
   ]
  },
  {
   "cell_type": "code",
   "execution_count": 5,
   "metadata": {},
   "outputs": [
    {
     "name": "stdout",
     "output_type": "stream",
     "text": [
      "+------+---------+-------------+--------+----+\n",
      "|userId|sessionId|itemInSession|    page|flag|\n",
      "+------+---------+-------------+--------+----+\n",
      "|  1046|     5132|          112|NextSong|   0|\n",
      "|  1000|     5027|            7|NextSong|   0|\n",
      "|  2219|     5516|            6|NextSong|   0|\n",
      "|  2373|     2372|            8|NextSong|   0|\n",
      "|  1747|     1746|            0|    Home|   1|\n",
      "|  1747|     1746|            1|Settings|   0|\n",
      "|  1162|     4406|            0|NextSong|   0|\n",
      "|  1061|     1060|            2|NextSong|   0|\n",
      "|   748|     5661|            2|    Home|   1|\n",
      "|   597|     3689|            0|    Home|   1|\n",
      "|  1806|     5175|           23|NextSong|   0|\n",
      "|   748|     5661|            3|NextSong|   0|\n",
      "|  1176|     1175|           82|NextSong|   0|\n",
      "|  2164|     2163|           28|NextSong|   0|\n",
      "|  2146|     5272|            3|NextSong|   0|\n",
      "|  2219|     5516|            7|NextSong|   0|\n",
      "|  1176|     1175|           83|    Home|   1|\n",
      "|  2904|     2903|            0|NextSong|   0|\n",
      "|   597|     3689|            1|NextSong|   0|\n",
      "|   226|     4591|            4|NextSong|   0|\n",
      "+------+---------+-------------+--------+----+\n",
      "only showing top 20 rows\n",
      "\n"
     ]
    }
   ],
   "source": [
    "spark.sql(\"\"\"\n",
    "        SELECT userId, sessionId, itemInSession, page,\n",
    "                 CASE WHEN page = 'Home' THEN 1\n",
    "                 ELSE 0 \n",
    "                 END AS flag\n",
    "        FROM user_log_table\n",
    "\"\"\").show()"
   ]
  },
  {
   "cell_type": "code",
   "execution_count": 6,
   "metadata": {},
   "outputs": [
    {
     "data": {
      "text/plain": [
       "[Row(userId='1436', sessionId=1435, itemInSession=0, page='NextSong', flag=0, running=0),\n",
       " Row(userId='1436', sessionId=1435, itemInSession=1, page='NextSong', flag=0, running=0),\n",
       " Row(userId='2088', sessionId=2087, itemInSession=0, page='NextSong', flag=0, running=0),\n",
       " Row(userId='2088', sessionId=2087, itemInSession=1, page='NextSong', flag=0, running=0),\n",
       " Row(userId='2088', sessionId=2087, itemInSession=2, page='NextSong', flag=0, running=0),\n",
       " Row(userId='2088', sessionId=2087, itemInSession=3, page='NextSong', flag=0, running=0),\n",
       " Row(userId='2088', sessionId=2087, itemInSession=4, page='NextSong', flag=0, running=0),\n",
       " Row(userId='2088', sessionId=2087, itemInSession=5, page='NextSong', flag=0, running=0),\n",
       " Row(userId='2088', sessionId=2087, itemInSession=6, page='NextSong', flag=0, running=0),\n",
       " Row(userId='2088', sessionId=2087, itemInSession=7, page='NextSong', flag=0, running=0),\n",
       " Row(userId='2088', sessionId=2087, itemInSession=8, page='NextSong', flag=0, running=0),\n",
       " Row(userId='2088', sessionId=2087, itemInSession=9, page='NextSong', flag=0, running=0),\n",
       " Row(userId='2088', sessionId=2087, itemInSession=10, page='NextSong', flag=0, running=0),\n",
       " Row(userId='2088', sessionId=2087, itemInSession=11, page='NextSong', flag=0, running=0),\n",
       " Row(userId='2088', sessionId=2087, itemInSession=12, page='NextSong', flag=0, running=0),\n",
       " Row(userId='2088', sessionId=2087, itemInSession=13, page='Home', flag=1, running=1),\n",
       " Row(userId='2162', sessionId=4814, itemInSession=0, page='NextSong', flag=0, running=0),\n",
       " Row(userId='2162', sessionId=4814, itemInSession=1, page='NextSong', flag=0, running=0),\n",
       " Row(userId='2162', sessionId=4814, itemInSession=2, page='NextSong', flag=0, running=0),\n",
       " Row(userId='2162', sessionId=4814, itemInSession=3, page='NextSong', flag=0, running=0)]"
      ]
     },
     "execution_count": 6,
     "metadata": {},
     "output_type": "execute_result"
    }
   ],
   "source": [
    "# TODO: write your code to answer question 5\n",
    "spark.sql(\"\"\"\n",
    "    SELECT userId, sessionId, itemInSession, page, flag,\n",
    "           SUM(flag) OVER (PARTITION BY userId ORDER BY ts) AS running\n",
    "    FROM (SELECT userId, sessionId, itemInSession, ts, page,\n",
    "                 CASE WHEN page = 'Home' THEN 1\n",
    "                 ELSE 0 \n",
    "                 END AS flag\n",
    "          FROM user_log_table)\n",
    "\"\"\").take(20)"
   ]
  },
  {
   "cell_type": "code",
   "execution_count": 7,
   "metadata": {},
   "outputs": [
    {
     "data": {
      "text/plain": [
       "[Row(userId='1436', running=0, count(page)=2),\n",
       " Row(userId='2088', running=0, count(page)=13),\n",
       " Row(userId='2162', running=0, count(page)=15),\n",
       " Row(userId='2162', running=2, count(page)=19),\n",
       " Row(userId='2294', running=0, count(page)=11),\n",
       " Row(userId='2294', running=1, count(page)=4),\n",
       " Row(userId='2294', running=2, count(page)=16),\n",
       " Row(userId='2294', running=3, count(page)=3),\n",
       " Row(userId='2294', running=4, count(page)=17),\n",
       " Row(userId='2294', running=5, count(page)=4),\n",
       " Row(userId='2904', running=0, count(page)=1),\n",
       " Row(userId='691', running=0, count(page)=3),\n",
       " Row(userId='1394', running=0, count(page)=17),\n",
       " Row(userId='1394', running=1, count(page)=9),\n",
       " Row(userId='2275', running=1, count(page)=3),\n",
       " Row(userId='2756', running=0, count(page)=1),\n",
       " Row(userId='2756', running=2, count(page)=4),\n",
       " Row(userId='451', running=1, count(page)=1),\n",
       " Row(userId='451', running=2, count(page)=1),\n",
       " Row(userId='800', running=0, count(page)=2)]"
      ]
     },
     "execution_count": 7,
     "metadata": {},
     "output_type": "execute_result"
    }
   ],
   "source": [
    "# TODO: write your code to answer question 5\n",
    "spark.sql(\"\"\"\n",
    "    SELECT userId, running, COUNT(page)\n",
    "    FROM (\n",
    "        SELECT userId, sessionId, itemInSession, page, flag,\n",
    "               SUM(flag) OVER (PARTITION BY userId ORDER BY ts) AS running\n",
    "        FROM (SELECT userId, sessionId, itemInSession, ts, page,\n",
    "                     CASE WHEN page = 'Home' THEN 1\n",
    "                     ELSE 0 \n",
    "                     END AS flag\n",
    "              FROM user_log_table))\n",
    "        WHERE page = 'NextSong'\n",
    "        GROUP BY userId, running\n",
    "\"\"\").take(20)"
   ]
  },
  {
   "cell_type": "code",
   "execution_count": 8,
   "metadata": {},
   "outputs": [
    {
     "name": "stdout",
     "output_type": "stream",
     "text": [
      "+------------------+\n",
      "|        avg(count)|\n",
      "+------------------+\n",
      "|6.9558333333333335|\n",
      "+------------------+\n",
      "\n"
     ]
    }
   ],
   "source": [
    "# TODO: write your code to answer question 5\n",
    "spark.sql(\"\"\"\n",
    "    SELECT AVG(count)\n",
    "    FROM (\n",
    "    SELECT userId, running, COUNT(page) AS count\n",
    "    FROM (\n",
    "        SELECT userId, sessionId, itemInSession, page, flag,\n",
    "               SUM(flag) OVER (PARTITION BY userId ORDER BY ts) AS running\n",
    "        FROM (SELECT userId, sessionId, itemInSession, ts, page,\n",
    "                     CASE WHEN page = 'Home' THEN 1\n",
    "                     ELSE 0 \n",
    "                     END AS flag\n",
    "              FROM user_log_table))\n",
    "        WHERE page = 'NextSong'\n",
    "        GROUP BY userId, running)\n",
    "\"\"\").show()"
   ]
  }
 ],
 "metadata": {
  "kernelspec": {
   "display_name": "Python 3",
   "language": "python",
   "name": "python3"
  },
  "language_info": {
   "codemirror_mode": {
    "name": "ipython",
    "version": 3
   },
   "file_extension": ".py",
   "mimetype": "text/x-python",
   "name": "python",
   "nbconvert_exporter": "python",
   "pygments_lexer": "ipython3",
   "version": "3.6.3"
  }
 },
 "nbformat": 4,
 "nbformat_minor": 2
}
